{
  "nbformat": 4,
  "nbformat_minor": 0,
  "metadata": {
    "colab": {
      "provenance": []
    },
    "kernelspec": {
      "name": "python3",
      "display_name": "Python 3"
    },
    "language_info": {
      "name": "python"
    },
    "accelerator": "GPU",
    "gpuClass": "standard"
  },
  "cells": [
    {
      "cell_type": "markdown",
      "source": [
        "# **ANN on Breast Cancer Dataset**"
      ],
      "metadata": {
        "id": "BSi8uzcK8AqN"
      }
    },
    {
      "cell_type": "markdown",
      "source": [
        "***Given breast cancer dataset and ANN model python notebook is given***\n",
        "\n",
        "***Change different parameters to improve the model accuracy ***"
      ],
      "metadata": {
        "id": "Fmb-r-su8FC7"
      }
    },
    {
      "cell_type": "code",
      "execution_count": 1,
      "metadata": {
        "id": "iuDzBIVnvOUc"
      },
      "outputs": [],
      "source": [
        "#importing pandas\n",
        "import pandas as pd"
      ]
    },
    {
      "cell_type": "code",
      "source": [
        "from google.colab import files\n",
        "uploaded=files.upload()"
      ],
      "metadata": {
        "colab": {
          "base_uri": "https://localhost:8080/",
          "height": 73
        },
        "id": "VCRl8g2ekH_-",
        "outputId": "d56b6918-581f-4ec6-d876-cb7e90089477"
      },
      "execution_count": 2,
      "outputs": [
        {
          "output_type": "display_data",
          "data": {
            "text/plain": [
              "<IPython.core.display.HTML object>"
            ],
            "text/html": [
              "\n",
              "     <input type=\"file\" id=\"files-f94e1918-3393-491b-aea7-4da6353548db\" name=\"files[]\" multiple disabled\n",
              "        style=\"border:none\" />\n",
              "     <output id=\"result-f94e1918-3393-491b-aea7-4da6353548db\">\n",
              "      Upload widget is only available when the cell has been executed in the\n",
              "      current browser session. Please rerun this cell to enable.\n",
              "      </output>\n",
              "      <script>// Copyright 2017 Google LLC\n",
              "//\n",
              "// Licensed under the Apache License, Version 2.0 (the \"License\");\n",
              "// you may not use this file except in compliance with the License.\n",
              "// You may obtain a copy of the License at\n",
              "//\n",
              "//      http://www.apache.org/licenses/LICENSE-2.0\n",
              "//\n",
              "// Unless required by applicable law or agreed to in writing, software\n",
              "// distributed under the License is distributed on an \"AS IS\" BASIS,\n",
              "// WITHOUT WARRANTIES OR CONDITIONS OF ANY KIND, either express or implied.\n",
              "// See the License for the specific language governing permissions and\n",
              "// limitations under the License.\n",
              "\n",
              "/**\n",
              " * @fileoverview Helpers for google.colab Python module.\n",
              " */\n",
              "(function(scope) {\n",
              "function span(text, styleAttributes = {}) {\n",
              "  const element = document.createElement('span');\n",
              "  element.textContent = text;\n",
              "  for (const key of Object.keys(styleAttributes)) {\n",
              "    element.style[key] = styleAttributes[key];\n",
              "  }\n",
              "  return element;\n",
              "}\n",
              "\n",
              "// Max number of bytes which will be uploaded at a time.\n",
              "const MAX_PAYLOAD_SIZE = 100 * 1024;\n",
              "\n",
              "function _uploadFiles(inputId, outputId) {\n",
              "  const steps = uploadFilesStep(inputId, outputId);\n",
              "  const outputElement = document.getElementById(outputId);\n",
              "  // Cache steps on the outputElement to make it available for the next call\n",
              "  // to uploadFilesContinue from Python.\n",
              "  outputElement.steps = steps;\n",
              "\n",
              "  return _uploadFilesContinue(outputId);\n",
              "}\n",
              "\n",
              "// This is roughly an async generator (not supported in the browser yet),\n",
              "// where there are multiple asynchronous steps and the Python side is going\n",
              "// to poll for completion of each step.\n",
              "// This uses a Promise to block the python side on completion of each step,\n",
              "// then passes the result of the previous step as the input to the next step.\n",
              "function _uploadFilesContinue(outputId) {\n",
              "  const outputElement = document.getElementById(outputId);\n",
              "  const steps = outputElement.steps;\n",
              "\n",
              "  const next = steps.next(outputElement.lastPromiseValue);\n",
              "  return Promise.resolve(next.value.promise).then((value) => {\n",
              "    // Cache the last promise value to make it available to the next\n",
              "    // step of the generator.\n",
              "    outputElement.lastPromiseValue = value;\n",
              "    return next.value.response;\n",
              "  });\n",
              "}\n",
              "\n",
              "/**\n",
              " * Generator function which is called between each async step of the upload\n",
              " * process.\n",
              " * @param {string} inputId Element ID of the input file picker element.\n",
              " * @param {string} outputId Element ID of the output display.\n",
              " * @return {!Iterable<!Object>} Iterable of next steps.\n",
              " */\n",
              "function* uploadFilesStep(inputId, outputId) {\n",
              "  const inputElement = document.getElementById(inputId);\n",
              "  inputElement.disabled = false;\n",
              "\n",
              "  const outputElement = document.getElementById(outputId);\n",
              "  outputElement.innerHTML = '';\n",
              "\n",
              "  const pickedPromise = new Promise((resolve) => {\n",
              "    inputElement.addEventListener('change', (e) => {\n",
              "      resolve(e.target.files);\n",
              "    });\n",
              "  });\n",
              "\n",
              "  const cancel = document.createElement('button');\n",
              "  inputElement.parentElement.appendChild(cancel);\n",
              "  cancel.textContent = 'Cancel upload';\n",
              "  const cancelPromise = new Promise((resolve) => {\n",
              "    cancel.onclick = () => {\n",
              "      resolve(null);\n",
              "    };\n",
              "  });\n",
              "\n",
              "  // Wait for the user to pick the files.\n",
              "  const files = yield {\n",
              "    promise: Promise.race([pickedPromise, cancelPromise]),\n",
              "    response: {\n",
              "      action: 'starting',\n",
              "    }\n",
              "  };\n",
              "\n",
              "  cancel.remove();\n",
              "\n",
              "  // Disable the input element since further picks are not allowed.\n",
              "  inputElement.disabled = true;\n",
              "\n",
              "  if (!files) {\n",
              "    return {\n",
              "      response: {\n",
              "        action: 'complete',\n",
              "      }\n",
              "    };\n",
              "  }\n",
              "\n",
              "  for (const file of files) {\n",
              "    const li = document.createElement('li');\n",
              "    li.append(span(file.name, {fontWeight: 'bold'}));\n",
              "    li.append(span(\n",
              "        `(${file.type || 'n/a'}) - ${file.size} bytes, ` +\n",
              "        `last modified: ${\n",
              "            file.lastModifiedDate ? file.lastModifiedDate.toLocaleDateString() :\n",
              "                                    'n/a'} - `));\n",
              "    const percent = span('0% done');\n",
              "    li.appendChild(percent);\n",
              "\n",
              "    outputElement.appendChild(li);\n",
              "\n",
              "    const fileDataPromise = new Promise((resolve) => {\n",
              "      const reader = new FileReader();\n",
              "      reader.onload = (e) => {\n",
              "        resolve(e.target.result);\n",
              "      };\n",
              "      reader.readAsArrayBuffer(file);\n",
              "    });\n",
              "    // Wait for the data to be ready.\n",
              "    let fileData = yield {\n",
              "      promise: fileDataPromise,\n",
              "      response: {\n",
              "        action: 'continue',\n",
              "      }\n",
              "    };\n",
              "\n",
              "    // Use a chunked sending to avoid message size limits. See b/62115660.\n",
              "    let position = 0;\n",
              "    do {\n",
              "      const length = Math.min(fileData.byteLength - position, MAX_PAYLOAD_SIZE);\n",
              "      const chunk = new Uint8Array(fileData, position, length);\n",
              "      position += length;\n",
              "\n",
              "      const base64 = btoa(String.fromCharCode.apply(null, chunk));\n",
              "      yield {\n",
              "        response: {\n",
              "          action: 'append',\n",
              "          file: file.name,\n",
              "          data: base64,\n",
              "        },\n",
              "      };\n",
              "\n",
              "      let percentDone = fileData.byteLength === 0 ?\n",
              "          100 :\n",
              "          Math.round((position / fileData.byteLength) * 100);\n",
              "      percent.textContent = `${percentDone}% done`;\n",
              "\n",
              "    } while (position < fileData.byteLength);\n",
              "  }\n",
              "\n",
              "  // All done.\n",
              "  yield {\n",
              "    response: {\n",
              "      action: 'complete',\n",
              "    }\n",
              "  };\n",
              "}\n",
              "\n",
              "scope.google = scope.google || {};\n",
              "scope.google.colab = scope.google.colab || {};\n",
              "scope.google.colab._files = {\n",
              "  _uploadFiles,\n",
              "  _uploadFilesContinue,\n",
              "};\n",
              "})(self);\n",
              "</script> "
            ]
          },
          "metadata": {}
        },
        {
          "output_type": "stream",
          "name": "stdout",
          "text": [
            "Saving breastcancer.csv to breastcancer.csv\n"
          ]
        }
      ]
    },
    {
      "cell_type": "code",
      "source": [
        "#reading csv file\n",
        "data = pd.read_csv(\"breastcancer.csv\")"
      ],
      "metadata": {
        "id": "XzFPgZzPvp5y"
      },
      "execution_count": 3,
      "outputs": []
    },
    {
      "cell_type": "code",
      "source": [
        "data.head(5)"
      ],
      "metadata": {
        "colab": {
          "base_uri": "https://localhost:8080/",
          "height": 317
        },
        "id": "TeQxiezYnKmC",
        "outputId": "ffdfabb4-398c-4c25-bd3a-d35d14ea133b"
      },
      "execution_count": 6,
      "outputs": [
        {
          "output_type": "execute_result",
          "data": {
            "text/plain": [
              "         id diagnosis  radius_mean  texture_mean  perimeter_mean  area_mean  \\\n",
              "0    842302         M        17.99         10.38          122.80     1001.0   \n",
              "1    842517         M        20.57         17.77          132.90     1326.0   \n",
              "2  84300903         M        19.69         21.25          130.00     1203.0   \n",
              "3  84348301         M        11.42         20.38           77.58      386.1   \n",
              "4  84358402         M        20.29         14.34          135.10     1297.0   \n",
              "\n",
              "   smoothness_mean  compactness_mean  concavity_mean  concave points_mean  \\\n",
              "0          0.11840           0.27760          0.3001              0.14710   \n",
              "1          0.08474           0.07864          0.0869              0.07017   \n",
              "2          0.10960           0.15990          0.1974              0.12790   \n",
              "3          0.14250           0.28390          0.2414              0.10520   \n",
              "4          0.10030           0.13280          0.1980              0.10430   \n",
              "\n",
              "   ...  texture_worst  perimeter_worst  area_worst  smoothness_worst  \\\n",
              "0  ...          17.33           184.60      2019.0            0.1622   \n",
              "1  ...          23.41           158.80      1956.0            0.1238   \n",
              "2  ...          25.53           152.50      1709.0            0.1444   \n",
              "3  ...          26.50            98.87       567.7            0.2098   \n",
              "4  ...          16.67           152.20      1575.0            0.1374   \n",
              "\n",
              "   compactness_worst  concavity_worst  concave points_worst  symmetry_worst  \\\n",
              "0             0.6656           0.7119                0.2654          0.4601   \n",
              "1             0.1866           0.2416                0.1860          0.2750   \n",
              "2             0.4245           0.4504                0.2430          0.3613   \n",
              "3             0.8663           0.6869                0.2575          0.6638   \n",
              "4             0.2050           0.4000                0.1625          0.2364   \n",
              "\n",
              "   fractal_dimension_worst  Unnamed: 32  \n",
              "0                  0.11890          NaN  \n",
              "1                  0.08902          NaN  \n",
              "2                  0.08758          NaN  \n",
              "3                  0.17300          NaN  \n",
              "4                  0.07678          NaN  \n",
              "\n",
              "[5 rows x 33 columns]"
            ],
            "text/html": [
              "\n",
              "  <div id=\"df-ddac2b4a-223e-4826-9492-80aa8e4ac720\">\n",
              "    <div class=\"colab-df-container\">\n",
              "      <div>\n",
              "<style scoped>\n",
              "    .dataframe tbody tr th:only-of-type {\n",
              "        vertical-align: middle;\n",
              "    }\n",
              "\n",
              "    .dataframe tbody tr th {\n",
              "        vertical-align: top;\n",
              "    }\n",
              "\n",
              "    .dataframe thead th {\n",
              "        text-align: right;\n",
              "    }\n",
              "</style>\n",
              "<table border=\"1\" class=\"dataframe\">\n",
              "  <thead>\n",
              "    <tr style=\"text-align: right;\">\n",
              "      <th></th>\n",
              "      <th>id</th>\n",
              "      <th>diagnosis</th>\n",
              "      <th>radius_mean</th>\n",
              "      <th>texture_mean</th>\n",
              "      <th>perimeter_mean</th>\n",
              "      <th>area_mean</th>\n",
              "      <th>smoothness_mean</th>\n",
              "      <th>compactness_mean</th>\n",
              "      <th>concavity_mean</th>\n",
              "      <th>concave points_mean</th>\n",
              "      <th>...</th>\n",
              "      <th>texture_worst</th>\n",
              "      <th>perimeter_worst</th>\n",
              "      <th>area_worst</th>\n",
              "      <th>smoothness_worst</th>\n",
              "      <th>compactness_worst</th>\n",
              "      <th>concavity_worst</th>\n",
              "      <th>concave points_worst</th>\n",
              "      <th>symmetry_worst</th>\n",
              "      <th>fractal_dimension_worst</th>\n",
              "      <th>Unnamed: 32</th>\n",
              "    </tr>\n",
              "  </thead>\n",
              "  <tbody>\n",
              "    <tr>\n",
              "      <th>0</th>\n",
              "      <td>842302</td>\n",
              "      <td>M</td>\n",
              "      <td>17.99</td>\n",
              "      <td>10.38</td>\n",
              "      <td>122.80</td>\n",
              "      <td>1001.0</td>\n",
              "      <td>0.11840</td>\n",
              "      <td>0.27760</td>\n",
              "      <td>0.3001</td>\n",
              "      <td>0.14710</td>\n",
              "      <td>...</td>\n",
              "      <td>17.33</td>\n",
              "      <td>184.60</td>\n",
              "      <td>2019.0</td>\n",
              "      <td>0.1622</td>\n",
              "      <td>0.6656</td>\n",
              "      <td>0.7119</td>\n",
              "      <td>0.2654</td>\n",
              "      <td>0.4601</td>\n",
              "      <td>0.11890</td>\n",
              "      <td>NaN</td>\n",
              "    </tr>\n",
              "    <tr>\n",
              "      <th>1</th>\n",
              "      <td>842517</td>\n",
              "      <td>M</td>\n",
              "      <td>20.57</td>\n",
              "      <td>17.77</td>\n",
              "      <td>132.90</td>\n",
              "      <td>1326.0</td>\n",
              "      <td>0.08474</td>\n",
              "      <td>0.07864</td>\n",
              "      <td>0.0869</td>\n",
              "      <td>0.07017</td>\n",
              "      <td>...</td>\n",
              "      <td>23.41</td>\n",
              "      <td>158.80</td>\n",
              "      <td>1956.0</td>\n",
              "      <td>0.1238</td>\n",
              "      <td>0.1866</td>\n",
              "      <td>0.2416</td>\n",
              "      <td>0.1860</td>\n",
              "      <td>0.2750</td>\n",
              "      <td>0.08902</td>\n",
              "      <td>NaN</td>\n",
              "    </tr>\n",
              "    <tr>\n",
              "      <th>2</th>\n",
              "      <td>84300903</td>\n",
              "      <td>M</td>\n",
              "      <td>19.69</td>\n",
              "      <td>21.25</td>\n",
              "      <td>130.00</td>\n",
              "      <td>1203.0</td>\n",
              "      <td>0.10960</td>\n",
              "      <td>0.15990</td>\n",
              "      <td>0.1974</td>\n",
              "      <td>0.12790</td>\n",
              "      <td>...</td>\n",
              "      <td>25.53</td>\n",
              "      <td>152.50</td>\n",
              "      <td>1709.0</td>\n",
              "      <td>0.1444</td>\n",
              "      <td>0.4245</td>\n",
              "      <td>0.4504</td>\n",
              "      <td>0.2430</td>\n",
              "      <td>0.3613</td>\n",
              "      <td>0.08758</td>\n",
              "      <td>NaN</td>\n",
              "    </tr>\n",
              "    <tr>\n",
              "      <th>3</th>\n",
              "      <td>84348301</td>\n",
              "      <td>M</td>\n",
              "      <td>11.42</td>\n",
              "      <td>20.38</td>\n",
              "      <td>77.58</td>\n",
              "      <td>386.1</td>\n",
              "      <td>0.14250</td>\n",
              "      <td>0.28390</td>\n",
              "      <td>0.2414</td>\n",
              "      <td>0.10520</td>\n",
              "      <td>...</td>\n",
              "      <td>26.50</td>\n",
              "      <td>98.87</td>\n",
              "      <td>567.7</td>\n",
              "      <td>0.2098</td>\n",
              "      <td>0.8663</td>\n",
              "      <td>0.6869</td>\n",
              "      <td>0.2575</td>\n",
              "      <td>0.6638</td>\n",
              "      <td>0.17300</td>\n",
              "      <td>NaN</td>\n",
              "    </tr>\n",
              "    <tr>\n",
              "      <th>4</th>\n",
              "      <td>84358402</td>\n",
              "      <td>M</td>\n",
              "      <td>20.29</td>\n",
              "      <td>14.34</td>\n",
              "      <td>135.10</td>\n",
              "      <td>1297.0</td>\n",
              "      <td>0.10030</td>\n",
              "      <td>0.13280</td>\n",
              "      <td>0.1980</td>\n",
              "      <td>0.10430</td>\n",
              "      <td>...</td>\n",
              "      <td>16.67</td>\n",
              "      <td>152.20</td>\n",
              "      <td>1575.0</td>\n",
              "      <td>0.1374</td>\n",
              "      <td>0.2050</td>\n",
              "      <td>0.4000</td>\n",
              "      <td>0.1625</td>\n",
              "      <td>0.2364</td>\n",
              "      <td>0.07678</td>\n",
              "      <td>NaN</td>\n",
              "    </tr>\n",
              "  </tbody>\n",
              "</table>\n",
              "<p>5 rows × 33 columns</p>\n",
              "</div>\n",
              "      <button class=\"colab-df-convert\" onclick=\"convertToInteractive('df-ddac2b4a-223e-4826-9492-80aa8e4ac720')\"\n",
              "              title=\"Convert this dataframe to an interactive table.\"\n",
              "              style=\"display:none;\">\n",
              "        \n",
              "  <svg xmlns=\"http://www.w3.org/2000/svg\" height=\"24px\"viewBox=\"0 0 24 24\"\n",
              "       width=\"24px\">\n",
              "    <path d=\"M0 0h24v24H0V0z\" fill=\"none\"/>\n",
              "    <path d=\"M18.56 5.44l.94 2.06.94-2.06 2.06-.94-2.06-.94-.94-2.06-.94 2.06-2.06.94zm-11 1L8.5 8.5l.94-2.06 2.06-.94-2.06-.94L8.5 2.5l-.94 2.06-2.06.94zm10 10l.94 2.06.94-2.06 2.06-.94-2.06-.94-.94-2.06-.94 2.06-2.06.94z\"/><path d=\"M17.41 7.96l-1.37-1.37c-.4-.4-.92-.59-1.43-.59-.52 0-1.04.2-1.43.59L10.3 9.45l-7.72 7.72c-.78.78-.78 2.05 0 2.83L4 21.41c.39.39.9.59 1.41.59.51 0 1.02-.2 1.41-.59l7.78-7.78 2.81-2.81c.8-.78.8-2.07 0-2.86zM5.41 20L4 18.59l7.72-7.72 1.47 1.35L5.41 20z\"/>\n",
              "  </svg>\n",
              "      </button>\n",
              "      \n",
              "  <style>\n",
              "    .colab-df-container {\n",
              "      display:flex;\n",
              "      flex-wrap:wrap;\n",
              "      gap: 12px;\n",
              "    }\n",
              "\n",
              "    .colab-df-convert {\n",
              "      background-color: #E8F0FE;\n",
              "      border: none;\n",
              "      border-radius: 50%;\n",
              "      cursor: pointer;\n",
              "      display: none;\n",
              "      fill: #1967D2;\n",
              "      height: 32px;\n",
              "      padding: 0 0 0 0;\n",
              "      width: 32px;\n",
              "    }\n",
              "\n",
              "    .colab-df-convert:hover {\n",
              "      background-color: #E2EBFA;\n",
              "      box-shadow: 0px 1px 2px rgba(60, 64, 67, 0.3), 0px 1px 3px 1px rgba(60, 64, 67, 0.15);\n",
              "      fill: #174EA6;\n",
              "    }\n",
              "\n",
              "    [theme=dark] .colab-df-convert {\n",
              "      background-color: #3B4455;\n",
              "      fill: #D2E3FC;\n",
              "    }\n",
              "\n",
              "    [theme=dark] .colab-df-convert:hover {\n",
              "      background-color: #434B5C;\n",
              "      box-shadow: 0px 1px 3px 1px rgba(0, 0, 0, 0.15);\n",
              "      filter: drop-shadow(0px 1px 2px rgba(0, 0, 0, 0.3));\n",
              "      fill: #FFFFFF;\n",
              "    }\n",
              "  </style>\n",
              "\n",
              "      <script>\n",
              "        const buttonEl =\n",
              "          document.querySelector('#df-ddac2b4a-223e-4826-9492-80aa8e4ac720 button.colab-df-convert');\n",
              "        buttonEl.style.display =\n",
              "          google.colab.kernel.accessAllowed ? 'block' : 'none';\n",
              "\n",
              "        async function convertToInteractive(key) {\n",
              "          const element = document.querySelector('#df-ddac2b4a-223e-4826-9492-80aa8e4ac720');\n",
              "          const dataTable =\n",
              "            await google.colab.kernel.invokeFunction('convertToInteractive',\n",
              "                                                     [key], {});\n",
              "          if (!dataTable) return;\n",
              "\n",
              "          const docLinkHtml = 'Like what you see? Visit the ' +\n",
              "            '<a target=\"_blank\" href=https://colab.research.google.com/notebooks/data_table.ipynb>data table notebook</a>'\n",
              "            + ' to learn more about interactive tables.';\n",
              "          element.innerHTML = '';\n",
              "          dataTable['output_type'] = 'display_data';\n",
              "          await google.colab.output.renderOutput(dataTable, element);\n",
              "          const docLink = document.createElement('div');\n",
              "          docLink.innerHTML = docLinkHtml;\n",
              "          element.appendChild(docLink);\n",
              "        }\n",
              "      </script>\n",
              "    </div>\n",
              "  </div>\n",
              "  "
            ]
          },
          "metadata": {},
          "execution_count": 6
        }
      ]
    },
    {
      "cell_type": "code",
      "source": [
        "#finding columns\n",
        "data.columns"
      ],
      "metadata": {
        "colab": {
          "base_uri": "https://localhost:8080/"
        },
        "id": "jgWXKusHvuz_",
        "outputId": "1a131d41-48be-4ab5-cf79-9b1fac03fdcc"
      },
      "execution_count": 7,
      "outputs": [
        {
          "output_type": "execute_result",
          "data": {
            "text/plain": [
              "Index(['id', 'diagnosis', 'radius_mean', 'texture_mean', 'perimeter_mean',\n",
              "       'area_mean', 'smoothness_mean', 'compactness_mean', 'concavity_mean',\n",
              "       'concave points_mean', 'symmetry_mean', 'fractal_dimension_mean',\n",
              "       'radius_se', 'texture_se', 'perimeter_se', 'area_se', 'smoothness_se',\n",
              "       'compactness_se', 'concavity_se', 'concave points_se', 'symmetry_se',\n",
              "       'fractal_dimension_se', 'radius_worst', 'texture_worst',\n",
              "       'perimeter_worst', 'area_worst', 'smoothness_worst',\n",
              "       'compactness_worst', 'concavity_worst', 'concave points_worst',\n",
              "       'symmetry_worst', 'fractal_dimension_worst', 'Unnamed: 32'],\n",
              "      dtype='object')"
            ]
          },
          "metadata": {},
          "execution_count": 7
        }
      ]
    },
    {
      "cell_type": "markdown",
      "source": [
        "**Preprocessing**\n",
        "\n",
        "\n",
        "\n"
      ],
      "metadata": {
        "id": "HTUerPotmRQu"
      }
    },
    {
      "cell_type": "code",
      "source": [
        "#finding null values\n",
        "data.isna().sum()"
      ],
      "metadata": {
        "colab": {
          "base_uri": "https://localhost:8080/"
        },
        "id": "WBV-ReCQv0qc",
        "outputId": "2c63a3ac-2cb0-42ed-f2e8-ccf632902b9f"
      },
      "execution_count": 8,
      "outputs": [
        {
          "output_type": "execute_result",
          "data": {
            "text/plain": [
              "id                           0\n",
              "diagnosis                    0\n",
              "radius_mean                  0\n",
              "texture_mean                 0\n",
              "perimeter_mean               0\n",
              "area_mean                    0\n",
              "smoothness_mean              0\n",
              "compactness_mean             0\n",
              "concavity_mean               0\n",
              "concave points_mean          0\n",
              "symmetry_mean                0\n",
              "fractal_dimension_mean       0\n",
              "radius_se                    0\n",
              "texture_se                   0\n",
              "perimeter_se                 0\n",
              "area_se                      0\n",
              "smoothness_se                0\n",
              "compactness_se               0\n",
              "concavity_se                 0\n",
              "concave points_se            0\n",
              "symmetry_se                  0\n",
              "fractal_dimension_se         0\n",
              "radius_worst                 0\n",
              "texture_worst                0\n",
              "perimeter_worst              0\n",
              "area_worst                   0\n",
              "smoothness_worst             0\n",
              "compactness_worst            0\n",
              "concavity_worst              0\n",
              "concave points_worst         0\n",
              "symmetry_worst               0\n",
              "fractal_dimension_worst      0\n",
              "Unnamed: 32                569\n",
              "dtype: int64"
            ]
          },
          "metadata": {},
          "execution_count": 8
        }
      ]
    },
    {
      "cell_type": "code",
      "source": [
        "#finding datatypes of the columns\n",
        "data.dtypes"
      ],
      "metadata": {
        "colab": {
          "base_uri": "https://localhost:8080/"
        },
        "id": "qCMhx4LTn7E9",
        "outputId": "06f0e11f-8e50-43c8-e3c4-5a8e3e70a1cf"
      },
      "execution_count": 9,
      "outputs": [
        {
          "output_type": "execute_result",
          "data": {
            "text/plain": [
              "id                           int64\n",
              "diagnosis                   object\n",
              "radius_mean                float64\n",
              "texture_mean               float64\n",
              "perimeter_mean             float64\n",
              "area_mean                  float64\n",
              "smoothness_mean            float64\n",
              "compactness_mean           float64\n",
              "concavity_mean             float64\n",
              "concave points_mean        float64\n",
              "symmetry_mean              float64\n",
              "fractal_dimension_mean     float64\n",
              "radius_se                  float64\n",
              "texture_se                 float64\n",
              "perimeter_se               float64\n",
              "area_se                    float64\n",
              "smoothness_se              float64\n",
              "compactness_se             float64\n",
              "concavity_se               float64\n",
              "concave points_se          float64\n",
              "symmetry_se                float64\n",
              "fractal_dimension_se       float64\n",
              "radius_worst               float64\n",
              "texture_worst              float64\n",
              "perimeter_worst            float64\n",
              "area_worst                 float64\n",
              "smoothness_worst           float64\n",
              "compactness_worst          float64\n",
              "concavity_worst            float64\n",
              "concave points_worst       float64\n",
              "symmetry_worst             float64\n",
              "fractal_dimension_worst    float64\n",
              "Unnamed: 32                float64\n",
              "dtype: object"
            ]
          },
          "metadata": {},
          "execution_count": 9
        }
      ]
    },
    {
      "cell_type": "markdown",
      "source": [
        "Only the column \"diagnosis\" is object, rest all are number types."
      ],
      "metadata": {
        "id": "M64IfR41oquV"
      }
    },
    {
      "cell_type": "markdown",
      "source": [
        "The \"column \"Unnamed\" has null values, but this is not valid or required for the model. So, this can be dropped while defining the features as this feature is not required\n",
        "The Target will be \"diagnosis\""
      ],
      "metadata": {
        "id": "QacxBr0rmezE"
      }
    },
    {
      "cell_type": "code",
      "source": [
        "#defining features\n",
        "x = data[[ 'radius_mean', 'texture_mean', 'perimeter_mean',\n",
        "       'area_mean', 'smoothness_mean', 'compactness_mean', 'concavity_mean',\n",
        "       'concave points_mean', 'symmetry_mean', 'fractal_dimension_mean',\n",
        "       'radius_se', 'texture_se', 'perimeter_se', 'area_se', 'smoothness_se',\n",
        "       'compactness_se', 'concavity_se', 'concave points_se', 'symmetry_se',\n",
        "       'fractal_dimension_se', 'radius_worst', 'texture_worst',\n",
        "       'perimeter_worst', 'area_worst', 'smoothness_worst',\n",
        "       'compactness_worst', 'concavity_worst', 'concave points_worst',\n",
        "       'symmetry_worst', 'fractal_dimension_worst']]"
      ],
      "metadata": {
        "id": "c8Cb_VCHwBTZ"
      },
      "execution_count": 10,
      "outputs": []
    },
    {
      "cell_type": "code",
      "source": [
        "#defining target\n",
        "y = data['diagnosis']"
      ],
      "metadata": {
        "id": "VxFFlWGSwPQ6"
      },
      "execution_count": 11,
      "outputs": []
    },
    {
      "cell_type": "code",
      "source": [
        "#check distinct values\n",
        "y.value_counts()"
      ],
      "metadata": {
        "colab": {
          "base_uri": "https://localhost:8080/"
        },
        "id": "1A2yIpuVwT4q",
        "outputId": "fedcc2e6-3b36-4108-aa25-5e52ac3c4549"
      },
      "execution_count": 12,
      "outputs": [
        {
          "output_type": "execute_result",
          "data": {
            "text/plain": [
              "B    357\n",
              "M    212\n",
              "Name: diagnosis, dtype: int64"
            ]
          },
          "metadata": {},
          "execution_count": 12
        }
      ]
    },
    {
      "cell_type": "markdown",
      "source": [
        "diagnosis field, make it as boolean, M as 1 and B as 0"
      ],
      "metadata": {
        "id": "5HbnGRN9qk59"
      }
    },
    {
      "cell_type": "code",
      "source": [
        "y  = y.map({\"B\":0,\"M\":1})"
      ],
      "metadata": {
        "id": "eZdmKLC6wU4S"
      },
      "execution_count": 13,
      "outputs": []
    },
    {
      "cell_type": "markdown",
      "source": [
        "**Scaling of features** :"
      ],
      "metadata": {
        "id": "cCJqz_WvrILZ"
      }
    },
    {
      "cell_type": "code",
      "source": [
        "x.describe()"
      ],
      "metadata": {
        "colab": {
          "base_uri": "https://localhost:8080/",
          "height": 411
        },
        "id": "RHso5Ml0rLNw",
        "outputId": "c2018e79-8660-4e28-f9cf-1ae5889b64de"
      },
      "execution_count": 15,
      "outputs": [
        {
          "output_type": "execute_result",
          "data": {
            "text/plain": [
              "       radius_mean  texture_mean  perimeter_mean    area_mean  \\\n",
              "count   569.000000    569.000000      569.000000   569.000000   \n",
              "mean     14.127292     19.289649       91.969033   654.889104   \n",
              "std       3.524049      4.301036       24.298981   351.914129   \n",
              "min       6.981000      9.710000       43.790000   143.500000   \n",
              "25%      11.700000     16.170000       75.170000   420.300000   \n",
              "50%      13.370000     18.840000       86.240000   551.100000   \n",
              "75%      15.780000     21.800000      104.100000   782.700000   \n",
              "max      28.110000     39.280000      188.500000  2501.000000   \n",
              "\n",
              "       smoothness_mean  compactness_mean  concavity_mean  concave points_mean  \\\n",
              "count       569.000000        569.000000      569.000000           569.000000   \n",
              "mean          0.096360          0.104341        0.088799             0.048919   \n",
              "std           0.014064          0.052813        0.079720             0.038803   \n",
              "min           0.052630          0.019380        0.000000             0.000000   \n",
              "25%           0.086370          0.064920        0.029560             0.020310   \n",
              "50%           0.095870          0.092630        0.061540             0.033500   \n",
              "75%           0.105300          0.130400        0.130700             0.074000   \n",
              "max           0.163400          0.345400        0.426800             0.201200   \n",
              "\n",
              "       symmetry_mean  fractal_dimension_mean  ...  radius_worst  \\\n",
              "count     569.000000              569.000000  ...    569.000000   \n",
              "mean        0.181162                0.062798  ...     16.269190   \n",
              "std         0.027414                0.007060  ...      4.833242   \n",
              "min         0.106000                0.049960  ...      7.930000   \n",
              "25%         0.161900                0.057700  ...     13.010000   \n",
              "50%         0.179200                0.061540  ...     14.970000   \n",
              "75%         0.195700                0.066120  ...     18.790000   \n",
              "max         0.304000                0.097440  ...     36.040000   \n",
              "\n",
              "       texture_worst  perimeter_worst   area_worst  smoothness_worst  \\\n",
              "count     569.000000       569.000000   569.000000        569.000000   \n",
              "mean       25.677223       107.261213   880.583128          0.132369   \n",
              "std         6.146258        33.602542   569.356993          0.022832   \n",
              "min        12.020000        50.410000   185.200000          0.071170   \n",
              "25%        21.080000        84.110000   515.300000          0.116600   \n",
              "50%        25.410000        97.660000   686.500000          0.131300   \n",
              "75%        29.720000       125.400000  1084.000000          0.146000   \n",
              "max        49.540000       251.200000  4254.000000          0.222600   \n",
              "\n",
              "       compactness_worst  concavity_worst  concave points_worst  \\\n",
              "count         569.000000       569.000000            569.000000   \n",
              "mean            0.254265         0.272188              0.114606   \n",
              "std             0.157336         0.208624              0.065732   \n",
              "min             0.027290         0.000000              0.000000   \n",
              "25%             0.147200         0.114500              0.064930   \n",
              "50%             0.211900         0.226700              0.099930   \n",
              "75%             0.339100         0.382900              0.161400   \n",
              "max             1.058000         1.252000              0.291000   \n",
              "\n",
              "       symmetry_worst  fractal_dimension_worst  \n",
              "count      569.000000               569.000000  \n",
              "mean         0.290076                 0.083946  \n",
              "std          0.061867                 0.018061  \n",
              "min          0.156500                 0.055040  \n",
              "25%          0.250400                 0.071460  \n",
              "50%          0.282200                 0.080040  \n",
              "75%          0.317900                 0.092080  \n",
              "max          0.663800                 0.207500  \n",
              "\n",
              "[8 rows x 30 columns]"
            ],
            "text/html": [
              "\n",
              "  <div id=\"df-259b8bb2-3e0d-4c4e-96ff-aa0116f23b52\">\n",
              "    <div class=\"colab-df-container\">\n",
              "      <div>\n",
              "<style scoped>\n",
              "    .dataframe tbody tr th:only-of-type {\n",
              "        vertical-align: middle;\n",
              "    }\n",
              "\n",
              "    .dataframe tbody tr th {\n",
              "        vertical-align: top;\n",
              "    }\n",
              "\n",
              "    .dataframe thead th {\n",
              "        text-align: right;\n",
              "    }\n",
              "</style>\n",
              "<table border=\"1\" class=\"dataframe\">\n",
              "  <thead>\n",
              "    <tr style=\"text-align: right;\">\n",
              "      <th></th>\n",
              "      <th>radius_mean</th>\n",
              "      <th>texture_mean</th>\n",
              "      <th>perimeter_mean</th>\n",
              "      <th>area_mean</th>\n",
              "      <th>smoothness_mean</th>\n",
              "      <th>compactness_mean</th>\n",
              "      <th>concavity_mean</th>\n",
              "      <th>concave points_mean</th>\n",
              "      <th>symmetry_mean</th>\n",
              "      <th>fractal_dimension_mean</th>\n",
              "      <th>...</th>\n",
              "      <th>radius_worst</th>\n",
              "      <th>texture_worst</th>\n",
              "      <th>perimeter_worst</th>\n",
              "      <th>area_worst</th>\n",
              "      <th>smoothness_worst</th>\n",
              "      <th>compactness_worst</th>\n",
              "      <th>concavity_worst</th>\n",
              "      <th>concave points_worst</th>\n",
              "      <th>symmetry_worst</th>\n",
              "      <th>fractal_dimension_worst</th>\n",
              "    </tr>\n",
              "  </thead>\n",
              "  <tbody>\n",
              "    <tr>\n",
              "      <th>count</th>\n",
              "      <td>569.000000</td>\n",
              "      <td>569.000000</td>\n",
              "      <td>569.000000</td>\n",
              "      <td>569.000000</td>\n",
              "      <td>569.000000</td>\n",
              "      <td>569.000000</td>\n",
              "      <td>569.000000</td>\n",
              "      <td>569.000000</td>\n",
              "      <td>569.000000</td>\n",
              "      <td>569.000000</td>\n",
              "      <td>...</td>\n",
              "      <td>569.000000</td>\n",
              "      <td>569.000000</td>\n",
              "      <td>569.000000</td>\n",
              "      <td>569.000000</td>\n",
              "      <td>569.000000</td>\n",
              "      <td>569.000000</td>\n",
              "      <td>569.000000</td>\n",
              "      <td>569.000000</td>\n",
              "      <td>569.000000</td>\n",
              "      <td>569.000000</td>\n",
              "    </tr>\n",
              "    <tr>\n",
              "      <th>mean</th>\n",
              "      <td>14.127292</td>\n",
              "      <td>19.289649</td>\n",
              "      <td>91.969033</td>\n",
              "      <td>654.889104</td>\n",
              "      <td>0.096360</td>\n",
              "      <td>0.104341</td>\n",
              "      <td>0.088799</td>\n",
              "      <td>0.048919</td>\n",
              "      <td>0.181162</td>\n",
              "      <td>0.062798</td>\n",
              "      <td>...</td>\n",
              "      <td>16.269190</td>\n",
              "      <td>25.677223</td>\n",
              "      <td>107.261213</td>\n",
              "      <td>880.583128</td>\n",
              "      <td>0.132369</td>\n",
              "      <td>0.254265</td>\n",
              "      <td>0.272188</td>\n",
              "      <td>0.114606</td>\n",
              "      <td>0.290076</td>\n",
              "      <td>0.083946</td>\n",
              "    </tr>\n",
              "    <tr>\n",
              "      <th>std</th>\n",
              "      <td>3.524049</td>\n",
              "      <td>4.301036</td>\n",
              "      <td>24.298981</td>\n",
              "      <td>351.914129</td>\n",
              "      <td>0.014064</td>\n",
              "      <td>0.052813</td>\n",
              "      <td>0.079720</td>\n",
              "      <td>0.038803</td>\n",
              "      <td>0.027414</td>\n",
              "      <td>0.007060</td>\n",
              "      <td>...</td>\n",
              "      <td>4.833242</td>\n",
              "      <td>6.146258</td>\n",
              "      <td>33.602542</td>\n",
              "      <td>569.356993</td>\n",
              "      <td>0.022832</td>\n",
              "      <td>0.157336</td>\n",
              "      <td>0.208624</td>\n",
              "      <td>0.065732</td>\n",
              "      <td>0.061867</td>\n",
              "      <td>0.018061</td>\n",
              "    </tr>\n",
              "    <tr>\n",
              "      <th>min</th>\n",
              "      <td>6.981000</td>\n",
              "      <td>9.710000</td>\n",
              "      <td>43.790000</td>\n",
              "      <td>143.500000</td>\n",
              "      <td>0.052630</td>\n",
              "      <td>0.019380</td>\n",
              "      <td>0.000000</td>\n",
              "      <td>0.000000</td>\n",
              "      <td>0.106000</td>\n",
              "      <td>0.049960</td>\n",
              "      <td>...</td>\n",
              "      <td>7.930000</td>\n",
              "      <td>12.020000</td>\n",
              "      <td>50.410000</td>\n",
              "      <td>185.200000</td>\n",
              "      <td>0.071170</td>\n",
              "      <td>0.027290</td>\n",
              "      <td>0.000000</td>\n",
              "      <td>0.000000</td>\n",
              "      <td>0.156500</td>\n",
              "      <td>0.055040</td>\n",
              "    </tr>\n",
              "    <tr>\n",
              "      <th>25%</th>\n",
              "      <td>11.700000</td>\n",
              "      <td>16.170000</td>\n",
              "      <td>75.170000</td>\n",
              "      <td>420.300000</td>\n",
              "      <td>0.086370</td>\n",
              "      <td>0.064920</td>\n",
              "      <td>0.029560</td>\n",
              "      <td>0.020310</td>\n",
              "      <td>0.161900</td>\n",
              "      <td>0.057700</td>\n",
              "      <td>...</td>\n",
              "      <td>13.010000</td>\n",
              "      <td>21.080000</td>\n",
              "      <td>84.110000</td>\n",
              "      <td>515.300000</td>\n",
              "      <td>0.116600</td>\n",
              "      <td>0.147200</td>\n",
              "      <td>0.114500</td>\n",
              "      <td>0.064930</td>\n",
              "      <td>0.250400</td>\n",
              "      <td>0.071460</td>\n",
              "    </tr>\n",
              "    <tr>\n",
              "      <th>50%</th>\n",
              "      <td>13.370000</td>\n",
              "      <td>18.840000</td>\n",
              "      <td>86.240000</td>\n",
              "      <td>551.100000</td>\n",
              "      <td>0.095870</td>\n",
              "      <td>0.092630</td>\n",
              "      <td>0.061540</td>\n",
              "      <td>0.033500</td>\n",
              "      <td>0.179200</td>\n",
              "      <td>0.061540</td>\n",
              "      <td>...</td>\n",
              "      <td>14.970000</td>\n",
              "      <td>25.410000</td>\n",
              "      <td>97.660000</td>\n",
              "      <td>686.500000</td>\n",
              "      <td>0.131300</td>\n",
              "      <td>0.211900</td>\n",
              "      <td>0.226700</td>\n",
              "      <td>0.099930</td>\n",
              "      <td>0.282200</td>\n",
              "      <td>0.080040</td>\n",
              "    </tr>\n",
              "    <tr>\n",
              "      <th>75%</th>\n",
              "      <td>15.780000</td>\n",
              "      <td>21.800000</td>\n",
              "      <td>104.100000</td>\n",
              "      <td>782.700000</td>\n",
              "      <td>0.105300</td>\n",
              "      <td>0.130400</td>\n",
              "      <td>0.130700</td>\n",
              "      <td>0.074000</td>\n",
              "      <td>0.195700</td>\n",
              "      <td>0.066120</td>\n",
              "      <td>...</td>\n",
              "      <td>18.790000</td>\n",
              "      <td>29.720000</td>\n",
              "      <td>125.400000</td>\n",
              "      <td>1084.000000</td>\n",
              "      <td>0.146000</td>\n",
              "      <td>0.339100</td>\n",
              "      <td>0.382900</td>\n",
              "      <td>0.161400</td>\n",
              "      <td>0.317900</td>\n",
              "      <td>0.092080</td>\n",
              "    </tr>\n",
              "    <tr>\n",
              "      <th>max</th>\n",
              "      <td>28.110000</td>\n",
              "      <td>39.280000</td>\n",
              "      <td>188.500000</td>\n",
              "      <td>2501.000000</td>\n",
              "      <td>0.163400</td>\n",
              "      <td>0.345400</td>\n",
              "      <td>0.426800</td>\n",
              "      <td>0.201200</td>\n",
              "      <td>0.304000</td>\n",
              "      <td>0.097440</td>\n",
              "      <td>...</td>\n",
              "      <td>36.040000</td>\n",
              "      <td>49.540000</td>\n",
              "      <td>251.200000</td>\n",
              "      <td>4254.000000</td>\n",
              "      <td>0.222600</td>\n",
              "      <td>1.058000</td>\n",
              "      <td>1.252000</td>\n",
              "      <td>0.291000</td>\n",
              "      <td>0.663800</td>\n",
              "      <td>0.207500</td>\n",
              "    </tr>\n",
              "  </tbody>\n",
              "</table>\n",
              "<p>8 rows × 30 columns</p>\n",
              "</div>\n",
              "      <button class=\"colab-df-convert\" onclick=\"convertToInteractive('df-259b8bb2-3e0d-4c4e-96ff-aa0116f23b52')\"\n",
              "              title=\"Convert this dataframe to an interactive table.\"\n",
              "              style=\"display:none;\">\n",
              "        \n",
              "  <svg xmlns=\"http://www.w3.org/2000/svg\" height=\"24px\"viewBox=\"0 0 24 24\"\n",
              "       width=\"24px\">\n",
              "    <path d=\"M0 0h24v24H0V0z\" fill=\"none\"/>\n",
              "    <path d=\"M18.56 5.44l.94 2.06.94-2.06 2.06-.94-2.06-.94-.94-2.06-.94 2.06-2.06.94zm-11 1L8.5 8.5l.94-2.06 2.06-.94-2.06-.94L8.5 2.5l-.94 2.06-2.06.94zm10 10l.94 2.06.94-2.06 2.06-.94-2.06-.94-.94-2.06-.94 2.06-2.06.94z\"/><path d=\"M17.41 7.96l-1.37-1.37c-.4-.4-.92-.59-1.43-.59-.52 0-1.04.2-1.43.59L10.3 9.45l-7.72 7.72c-.78.78-.78 2.05 0 2.83L4 21.41c.39.39.9.59 1.41.59.51 0 1.02-.2 1.41-.59l7.78-7.78 2.81-2.81c.8-.78.8-2.07 0-2.86zM5.41 20L4 18.59l7.72-7.72 1.47 1.35L5.41 20z\"/>\n",
              "  </svg>\n",
              "      </button>\n",
              "      \n",
              "  <style>\n",
              "    .colab-df-container {\n",
              "      display:flex;\n",
              "      flex-wrap:wrap;\n",
              "      gap: 12px;\n",
              "    }\n",
              "\n",
              "    .colab-df-convert {\n",
              "      background-color: #E8F0FE;\n",
              "      border: none;\n",
              "      border-radius: 50%;\n",
              "      cursor: pointer;\n",
              "      display: none;\n",
              "      fill: #1967D2;\n",
              "      height: 32px;\n",
              "      padding: 0 0 0 0;\n",
              "      width: 32px;\n",
              "    }\n",
              "\n",
              "    .colab-df-convert:hover {\n",
              "      background-color: #E2EBFA;\n",
              "      box-shadow: 0px 1px 2px rgba(60, 64, 67, 0.3), 0px 1px 3px 1px rgba(60, 64, 67, 0.15);\n",
              "      fill: #174EA6;\n",
              "    }\n",
              "\n",
              "    [theme=dark] .colab-df-convert {\n",
              "      background-color: #3B4455;\n",
              "      fill: #D2E3FC;\n",
              "    }\n",
              "\n",
              "    [theme=dark] .colab-df-convert:hover {\n",
              "      background-color: #434B5C;\n",
              "      box-shadow: 0px 1px 3px 1px rgba(0, 0, 0, 0.15);\n",
              "      filter: drop-shadow(0px 1px 2px rgba(0, 0, 0, 0.3));\n",
              "      fill: #FFFFFF;\n",
              "    }\n",
              "  </style>\n",
              "\n",
              "      <script>\n",
              "        const buttonEl =\n",
              "          document.querySelector('#df-259b8bb2-3e0d-4c4e-96ff-aa0116f23b52 button.colab-df-convert');\n",
              "        buttonEl.style.display =\n",
              "          google.colab.kernel.accessAllowed ? 'block' : 'none';\n",
              "\n",
              "        async function convertToInteractive(key) {\n",
              "          const element = document.querySelector('#df-259b8bb2-3e0d-4c4e-96ff-aa0116f23b52');\n",
              "          const dataTable =\n",
              "            await google.colab.kernel.invokeFunction('convertToInteractive',\n",
              "                                                     [key], {});\n",
              "          if (!dataTable) return;\n",
              "\n",
              "          const docLinkHtml = 'Like what you see? Visit the ' +\n",
              "            '<a target=\"_blank\" href=https://colab.research.google.com/notebooks/data_table.ipynb>data table notebook</a>'\n",
              "            + ' to learn more about interactive tables.';\n",
              "          element.innerHTML = '';\n",
              "          dataTable['output_type'] = 'display_data';\n",
              "          await google.colab.output.renderOutput(dataTable, element);\n",
              "          const docLink = document.createElement('div');\n",
              "          docLink.innerHTML = docLinkHtml;\n",
              "          element.appendChild(docLink);\n",
              "        }\n",
              "      </script>\n",
              "    </div>\n",
              "  </div>\n",
              "  "
            ]
          },
          "metadata": {},
          "execution_count": 15
        }
      ]
    },
    {
      "cell_type": "code",
      "source": [
        "#Min Max scaler\n",
        "from sklearn import preprocessing\n",
        "min_max=preprocessing.MinMaxScaler(feature_range=(0,1))\n",
        "x=min_max.fit_transform(x)\n",
        "x=pd.DataFrame(x)\n",
        "x.describe()"
      ],
      "metadata": {
        "colab": {
          "base_uri": "https://localhost:8080/",
          "height": 394
        },
        "id": "O-C2Ns3BrXIM",
        "outputId": "49b5b439-60b8-4bc9-8cb8-2c0ffc36bce8"
      },
      "execution_count": 16,
      "outputs": [
        {
          "output_type": "execute_result",
          "data": {
            "text/plain": [
              "               0           1           2           3           4           5   \\\n",
              "count  569.000000  569.000000  569.000000  569.000000  569.000000  569.000000   \n",
              "mean     0.338222    0.323965    0.332935    0.216920    0.394785    0.260601   \n",
              "std      0.166787    0.145453    0.167915    0.149274    0.126967    0.161992   \n",
              "min      0.000000    0.000000    0.000000    0.000000    0.000000    0.000000   \n",
              "25%      0.223342    0.218465    0.216847    0.117413    0.304595    0.139685   \n",
              "50%      0.302381    0.308759    0.293345    0.172895    0.390358    0.224679   \n",
              "75%      0.416442    0.408860    0.416765    0.271135    0.475490    0.340531   \n",
              "max      1.000000    1.000000    1.000000    1.000000    1.000000    1.000000   \n",
              "\n",
              "               6           7           8           9   ...          20  \\\n",
              "count  569.000000  569.000000  569.000000  569.000000  ...  569.000000   \n",
              "mean     0.208058    0.243137    0.379605    0.270379  ...    0.296663   \n",
              "std      0.186785    0.192857    0.138456    0.148702  ...    0.171940   \n",
              "min      0.000000    0.000000    0.000000    0.000000  ...    0.000000   \n",
              "25%      0.069260    0.100944    0.282323    0.163016  ...    0.180719   \n",
              "50%      0.144189    0.166501    0.369697    0.243892  ...    0.250445   \n",
              "75%      0.306232    0.367793    0.453030    0.340354  ...    0.386339   \n",
              "max      1.000000    1.000000    1.000000    1.000000  ...    1.000000   \n",
              "\n",
              "               21          22          23          24          25          26  \\\n",
              "count  569.000000  569.000000  569.000000  569.000000  569.000000  569.000000   \n",
              "mean     0.363998    0.283138    0.170906    0.404138    0.220212    0.217403   \n",
              "std      0.163813    0.167352    0.139932    0.150779    0.152649    0.166633   \n",
              "min      0.000000    0.000000    0.000000    0.000000    0.000000    0.000000   \n",
              "25%      0.241471    0.167837    0.081130    0.300007    0.116337    0.091454   \n",
              "50%      0.356876    0.235320    0.123206    0.397081    0.179110    0.181070   \n",
              "75%      0.471748    0.373475    0.220901    0.494156    0.302520    0.305831   \n",
              "max      1.000000    1.000000    1.000000    1.000000    1.000000    1.000000   \n",
              "\n",
              "               27          28          29  \n",
              "count  569.000000  569.000000  569.000000  \n",
              "mean     0.393836    0.263307    0.189596  \n",
              "std      0.225884    0.121954    0.118466  \n",
              "min      0.000000    0.000000    0.000000  \n",
              "25%      0.223127    0.185098    0.107700  \n",
              "50%      0.343402    0.247782    0.163977  \n",
              "75%      0.554639    0.318155    0.242949  \n",
              "max      1.000000    1.000000    1.000000  \n",
              "\n",
              "[8 rows x 30 columns]"
            ],
            "text/html": [
              "\n",
              "  <div id=\"df-c35273a1-ce7a-4784-8c23-4ae94f5413cd\">\n",
              "    <div class=\"colab-df-container\">\n",
              "      <div>\n",
              "<style scoped>\n",
              "    .dataframe tbody tr th:only-of-type {\n",
              "        vertical-align: middle;\n",
              "    }\n",
              "\n",
              "    .dataframe tbody tr th {\n",
              "        vertical-align: top;\n",
              "    }\n",
              "\n",
              "    .dataframe thead th {\n",
              "        text-align: right;\n",
              "    }\n",
              "</style>\n",
              "<table border=\"1\" class=\"dataframe\">\n",
              "  <thead>\n",
              "    <tr style=\"text-align: right;\">\n",
              "      <th></th>\n",
              "      <th>0</th>\n",
              "      <th>1</th>\n",
              "      <th>2</th>\n",
              "      <th>3</th>\n",
              "      <th>4</th>\n",
              "      <th>5</th>\n",
              "      <th>6</th>\n",
              "      <th>7</th>\n",
              "      <th>8</th>\n",
              "      <th>9</th>\n",
              "      <th>...</th>\n",
              "      <th>20</th>\n",
              "      <th>21</th>\n",
              "      <th>22</th>\n",
              "      <th>23</th>\n",
              "      <th>24</th>\n",
              "      <th>25</th>\n",
              "      <th>26</th>\n",
              "      <th>27</th>\n",
              "      <th>28</th>\n",
              "      <th>29</th>\n",
              "    </tr>\n",
              "  </thead>\n",
              "  <tbody>\n",
              "    <tr>\n",
              "      <th>count</th>\n",
              "      <td>569.000000</td>\n",
              "      <td>569.000000</td>\n",
              "      <td>569.000000</td>\n",
              "      <td>569.000000</td>\n",
              "      <td>569.000000</td>\n",
              "      <td>569.000000</td>\n",
              "      <td>569.000000</td>\n",
              "      <td>569.000000</td>\n",
              "      <td>569.000000</td>\n",
              "      <td>569.000000</td>\n",
              "      <td>...</td>\n",
              "      <td>569.000000</td>\n",
              "      <td>569.000000</td>\n",
              "      <td>569.000000</td>\n",
              "      <td>569.000000</td>\n",
              "      <td>569.000000</td>\n",
              "      <td>569.000000</td>\n",
              "      <td>569.000000</td>\n",
              "      <td>569.000000</td>\n",
              "      <td>569.000000</td>\n",
              "      <td>569.000000</td>\n",
              "    </tr>\n",
              "    <tr>\n",
              "      <th>mean</th>\n",
              "      <td>0.338222</td>\n",
              "      <td>0.323965</td>\n",
              "      <td>0.332935</td>\n",
              "      <td>0.216920</td>\n",
              "      <td>0.394785</td>\n",
              "      <td>0.260601</td>\n",
              "      <td>0.208058</td>\n",
              "      <td>0.243137</td>\n",
              "      <td>0.379605</td>\n",
              "      <td>0.270379</td>\n",
              "      <td>...</td>\n",
              "      <td>0.296663</td>\n",
              "      <td>0.363998</td>\n",
              "      <td>0.283138</td>\n",
              "      <td>0.170906</td>\n",
              "      <td>0.404138</td>\n",
              "      <td>0.220212</td>\n",
              "      <td>0.217403</td>\n",
              "      <td>0.393836</td>\n",
              "      <td>0.263307</td>\n",
              "      <td>0.189596</td>\n",
              "    </tr>\n",
              "    <tr>\n",
              "      <th>std</th>\n",
              "      <td>0.166787</td>\n",
              "      <td>0.145453</td>\n",
              "      <td>0.167915</td>\n",
              "      <td>0.149274</td>\n",
              "      <td>0.126967</td>\n",
              "      <td>0.161992</td>\n",
              "      <td>0.186785</td>\n",
              "      <td>0.192857</td>\n",
              "      <td>0.138456</td>\n",
              "      <td>0.148702</td>\n",
              "      <td>...</td>\n",
              "      <td>0.171940</td>\n",
              "      <td>0.163813</td>\n",
              "      <td>0.167352</td>\n",
              "      <td>0.139932</td>\n",
              "      <td>0.150779</td>\n",
              "      <td>0.152649</td>\n",
              "      <td>0.166633</td>\n",
              "      <td>0.225884</td>\n",
              "      <td>0.121954</td>\n",
              "      <td>0.118466</td>\n",
              "    </tr>\n",
              "    <tr>\n",
              "      <th>min</th>\n",
              "      <td>0.000000</td>\n",
              "      <td>0.000000</td>\n",
              "      <td>0.000000</td>\n",
              "      <td>0.000000</td>\n",
              "      <td>0.000000</td>\n",
              "      <td>0.000000</td>\n",
              "      <td>0.000000</td>\n",
              "      <td>0.000000</td>\n",
              "      <td>0.000000</td>\n",
              "      <td>0.000000</td>\n",
              "      <td>...</td>\n",
              "      <td>0.000000</td>\n",
              "      <td>0.000000</td>\n",
              "      <td>0.000000</td>\n",
              "      <td>0.000000</td>\n",
              "      <td>0.000000</td>\n",
              "      <td>0.000000</td>\n",
              "      <td>0.000000</td>\n",
              "      <td>0.000000</td>\n",
              "      <td>0.000000</td>\n",
              "      <td>0.000000</td>\n",
              "    </tr>\n",
              "    <tr>\n",
              "      <th>25%</th>\n",
              "      <td>0.223342</td>\n",
              "      <td>0.218465</td>\n",
              "      <td>0.216847</td>\n",
              "      <td>0.117413</td>\n",
              "      <td>0.304595</td>\n",
              "      <td>0.139685</td>\n",
              "      <td>0.069260</td>\n",
              "      <td>0.100944</td>\n",
              "      <td>0.282323</td>\n",
              "      <td>0.163016</td>\n",
              "      <td>...</td>\n",
              "      <td>0.180719</td>\n",
              "      <td>0.241471</td>\n",
              "      <td>0.167837</td>\n",
              "      <td>0.081130</td>\n",
              "      <td>0.300007</td>\n",
              "      <td>0.116337</td>\n",
              "      <td>0.091454</td>\n",
              "      <td>0.223127</td>\n",
              "      <td>0.185098</td>\n",
              "      <td>0.107700</td>\n",
              "    </tr>\n",
              "    <tr>\n",
              "      <th>50%</th>\n",
              "      <td>0.302381</td>\n",
              "      <td>0.308759</td>\n",
              "      <td>0.293345</td>\n",
              "      <td>0.172895</td>\n",
              "      <td>0.390358</td>\n",
              "      <td>0.224679</td>\n",
              "      <td>0.144189</td>\n",
              "      <td>0.166501</td>\n",
              "      <td>0.369697</td>\n",
              "      <td>0.243892</td>\n",
              "      <td>...</td>\n",
              "      <td>0.250445</td>\n",
              "      <td>0.356876</td>\n",
              "      <td>0.235320</td>\n",
              "      <td>0.123206</td>\n",
              "      <td>0.397081</td>\n",
              "      <td>0.179110</td>\n",
              "      <td>0.181070</td>\n",
              "      <td>0.343402</td>\n",
              "      <td>0.247782</td>\n",
              "      <td>0.163977</td>\n",
              "    </tr>\n",
              "    <tr>\n",
              "      <th>75%</th>\n",
              "      <td>0.416442</td>\n",
              "      <td>0.408860</td>\n",
              "      <td>0.416765</td>\n",
              "      <td>0.271135</td>\n",
              "      <td>0.475490</td>\n",
              "      <td>0.340531</td>\n",
              "      <td>0.306232</td>\n",
              "      <td>0.367793</td>\n",
              "      <td>0.453030</td>\n",
              "      <td>0.340354</td>\n",
              "      <td>...</td>\n",
              "      <td>0.386339</td>\n",
              "      <td>0.471748</td>\n",
              "      <td>0.373475</td>\n",
              "      <td>0.220901</td>\n",
              "      <td>0.494156</td>\n",
              "      <td>0.302520</td>\n",
              "      <td>0.305831</td>\n",
              "      <td>0.554639</td>\n",
              "      <td>0.318155</td>\n",
              "      <td>0.242949</td>\n",
              "    </tr>\n",
              "    <tr>\n",
              "      <th>max</th>\n",
              "      <td>1.000000</td>\n",
              "      <td>1.000000</td>\n",
              "      <td>1.000000</td>\n",
              "      <td>1.000000</td>\n",
              "      <td>1.000000</td>\n",
              "      <td>1.000000</td>\n",
              "      <td>1.000000</td>\n",
              "      <td>1.000000</td>\n",
              "      <td>1.000000</td>\n",
              "      <td>1.000000</td>\n",
              "      <td>...</td>\n",
              "      <td>1.000000</td>\n",
              "      <td>1.000000</td>\n",
              "      <td>1.000000</td>\n",
              "      <td>1.000000</td>\n",
              "      <td>1.000000</td>\n",
              "      <td>1.000000</td>\n",
              "      <td>1.000000</td>\n",
              "      <td>1.000000</td>\n",
              "      <td>1.000000</td>\n",
              "      <td>1.000000</td>\n",
              "    </tr>\n",
              "  </tbody>\n",
              "</table>\n",
              "<p>8 rows × 30 columns</p>\n",
              "</div>\n",
              "      <button class=\"colab-df-convert\" onclick=\"convertToInteractive('df-c35273a1-ce7a-4784-8c23-4ae94f5413cd')\"\n",
              "              title=\"Convert this dataframe to an interactive table.\"\n",
              "              style=\"display:none;\">\n",
              "        \n",
              "  <svg xmlns=\"http://www.w3.org/2000/svg\" height=\"24px\"viewBox=\"0 0 24 24\"\n",
              "       width=\"24px\">\n",
              "    <path d=\"M0 0h24v24H0V0z\" fill=\"none\"/>\n",
              "    <path d=\"M18.56 5.44l.94 2.06.94-2.06 2.06-.94-2.06-.94-.94-2.06-.94 2.06-2.06.94zm-11 1L8.5 8.5l.94-2.06 2.06-.94-2.06-.94L8.5 2.5l-.94 2.06-2.06.94zm10 10l.94 2.06.94-2.06 2.06-.94-2.06-.94-.94-2.06-.94 2.06-2.06.94z\"/><path d=\"M17.41 7.96l-1.37-1.37c-.4-.4-.92-.59-1.43-.59-.52 0-1.04.2-1.43.59L10.3 9.45l-7.72 7.72c-.78.78-.78 2.05 0 2.83L4 21.41c.39.39.9.59 1.41.59.51 0 1.02-.2 1.41-.59l7.78-7.78 2.81-2.81c.8-.78.8-2.07 0-2.86zM5.41 20L4 18.59l7.72-7.72 1.47 1.35L5.41 20z\"/>\n",
              "  </svg>\n",
              "      </button>\n",
              "      \n",
              "  <style>\n",
              "    .colab-df-container {\n",
              "      display:flex;\n",
              "      flex-wrap:wrap;\n",
              "      gap: 12px;\n",
              "    }\n",
              "\n",
              "    .colab-df-convert {\n",
              "      background-color: #E8F0FE;\n",
              "      border: none;\n",
              "      border-radius: 50%;\n",
              "      cursor: pointer;\n",
              "      display: none;\n",
              "      fill: #1967D2;\n",
              "      height: 32px;\n",
              "      padding: 0 0 0 0;\n",
              "      width: 32px;\n",
              "    }\n",
              "\n",
              "    .colab-df-convert:hover {\n",
              "      background-color: #E2EBFA;\n",
              "      box-shadow: 0px 1px 2px rgba(60, 64, 67, 0.3), 0px 1px 3px 1px rgba(60, 64, 67, 0.15);\n",
              "      fill: #174EA6;\n",
              "    }\n",
              "\n",
              "    [theme=dark] .colab-df-convert {\n",
              "      background-color: #3B4455;\n",
              "      fill: #D2E3FC;\n",
              "    }\n",
              "\n",
              "    [theme=dark] .colab-df-convert:hover {\n",
              "      background-color: #434B5C;\n",
              "      box-shadow: 0px 1px 3px 1px rgba(0, 0, 0, 0.15);\n",
              "      filter: drop-shadow(0px 1px 2px rgba(0, 0, 0, 0.3));\n",
              "      fill: #FFFFFF;\n",
              "    }\n",
              "  </style>\n",
              "\n",
              "      <script>\n",
              "        const buttonEl =\n",
              "          document.querySelector('#df-c35273a1-ce7a-4784-8c23-4ae94f5413cd button.colab-df-convert');\n",
              "        buttonEl.style.display =\n",
              "          google.colab.kernel.accessAllowed ? 'block' : 'none';\n",
              "\n",
              "        async function convertToInteractive(key) {\n",
              "          const element = document.querySelector('#df-c35273a1-ce7a-4784-8c23-4ae94f5413cd');\n",
              "          const dataTable =\n",
              "            await google.colab.kernel.invokeFunction('convertToInteractive',\n",
              "                                                     [key], {});\n",
              "          if (!dataTable) return;\n",
              "\n",
              "          const docLinkHtml = 'Like what you see? Visit the ' +\n",
              "            '<a target=\"_blank\" href=https://colab.research.google.com/notebooks/data_table.ipynb>data table notebook</a>'\n",
              "            + ' to learn more about interactive tables.';\n",
              "          element.innerHTML = '';\n",
              "          dataTable['output_type'] = 'display_data';\n",
              "          await google.colab.output.renderOutput(dataTable, element);\n",
              "          const docLink = document.createElement('div');\n",
              "          docLink.innerHTML = docLinkHtml;\n",
              "          element.appendChild(docLink);\n",
              "        }\n",
              "      </script>\n",
              "    </div>\n",
              "  </div>\n",
              "  "
            ]
          },
          "metadata": {},
          "execution_count": 16
        }
      ]
    },
    {
      "cell_type": "markdown",
      "source": [
        "**Splitting of Test and Train values:**"
      ],
      "metadata": {
        "id": "VGXrDtsVri4l"
      }
    },
    {
      "cell_type": "code",
      "source": [
        "from sklearn.model_selection import train_test_split"
      ],
      "metadata": {
        "id": "NXqNESkVwfsV"
      },
      "execution_count": 17,
      "outputs": []
    },
    {
      "cell_type": "code",
      "source": [
        "x_train, x_test, y_train, y_test = train_test_split(x,y,\n",
        "                                                     test_size=0.2,\n",
        "                                                     random_state = 134)"
      ],
      "metadata": {
        "id": "MlOUwLc8wpK8"
      },
      "execution_count": 18,
      "outputs": []
    },
    {
      "cell_type": "code",
      "source": [
        "x_train.shape"
      ],
      "metadata": {
        "colab": {
          "base_uri": "https://localhost:8080/"
        },
        "id": "DAFGrVTrxaht",
        "outputId": "aa774ecd-b376-4d6f-d0e3-65168565ac64"
      },
      "execution_count": 19,
      "outputs": [
        {
          "output_type": "execute_result",
          "data": {
            "text/plain": [
              "(455, 30)"
            ]
          },
          "metadata": {},
          "execution_count": 19
        }
      ]
    },
    {
      "cell_type": "markdown",
      "source": [
        "**ANN**"
      ],
      "metadata": {
        "id": "oMM7JY42r9AP"
      }
    },
    {
      "cell_type": "code",
      "source": [
        "#import tensorflow\n",
        "import tensorflow as tf"
      ],
      "metadata": {
        "id": "VKixOqIVr4yg"
      },
      "execution_count": 20,
      "outputs": []
    },
    {
      "cell_type": "code",
      "source": [
        "#check the version of tensorflow\n",
        "tf.__version__"
      ],
      "metadata": {
        "colab": {
          "base_uri": "https://localhost:8080/",
          "height": 35
        },
        "id": "D5TbQzNVr6sX",
        "outputId": "0c3d37d1-1060-4904-a518-8de557cd2667"
      },
      "execution_count": 21,
      "outputs": [
        {
          "output_type": "execute_result",
          "data": {
            "text/plain": [
              "'2.11.0'"
            ],
            "application/vnd.google.colaboratory.intrinsic+json": {
              "type": "string"
            }
          },
          "metadata": {},
          "execution_count": 21
        }
      ]
    },
    {
      "cell_type": "code",
      "source": [
        "#import keras models\n",
        "from tensorflow.keras.models import Sequential"
      ],
      "metadata": {
        "id": "I95cXZ8Zwzcv"
      },
      "execution_count": 23,
      "outputs": []
    },
    {
      "cell_type": "code",
      "source": [
        "#import keras layers\n",
        "from tensorflow.keras.layers import Dense"
      ],
      "metadata": {
        "id": "iE_jtd__xHOc"
      },
      "execution_count": 24,
      "outputs": []
    },
    {
      "cell_type": "markdown",
      "source": [
        "# **Model 1**"
      ],
      "metadata": {
        "id": "b623ENbQujqJ"
      }
    },
    {
      "cell_type": "markdown",
      "source": [
        "add layers (hidden layer 1,2,3.. and output layer)"
      ],
      "metadata": {
        "id": "DxjHsvXrswYv"
      }
    },
    {
      "cell_type": "markdown",
      "source": [
        "**First Step : Create Architecture**"
      ],
      "metadata": {
        "id": "xa0choUYsz_W"
      }
    },
    {
      "cell_type": "markdown",
      "source": [
        "Create architecture\n",
        "\n",
        "input layer - 30 features of x\n",
        "\n",
        "hidden layer 1-8\n",
        "\n",
        "output layer = 1, as it is binary classification \n",
        "\n",
        "create the instance of Sequential model"
      ],
      "metadata": {
        "id": "vvQho5xCtDJX"
      }
    },
    {
      "cell_type": "code",
      "source": [
        "model1 = Sequential()\n",
        "model1.add(Dense(32, input_shape = (30,), activation = \"relu\"))\n",
        "model1.add(Dense(32, activation = \"relu\"))\n",
        "model1.add(Dense(1, activation = \"sigmoid\"))\n",
        "model1.summary()"
      ],
      "metadata": {
        "colab": {
          "base_uri": "https://localhost:8080/"
        },
        "id": "PgqN-gzXxKku",
        "outputId": "73b946d2-69fb-4f26-dde4-318357710921"
      },
      "execution_count": 25,
      "outputs": [
        {
          "output_type": "stream",
          "name": "stdout",
          "text": [
            "Model: \"sequential\"\n",
            "_________________________________________________________________\n",
            " Layer (type)                Output Shape              Param #   \n",
            "=================================================================\n",
            " dense (Dense)               (None, 32)                992       \n",
            "                                                                 \n",
            " dense_1 (Dense)             (None, 32)                1056      \n",
            "                                                                 \n",
            " dense_2 (Dense)             (None, 1)                 33        \n",
            "                                                                 \n",
            "=================================================================\n",
            "Total params: 2,081\n",
            "Trainable params: 2,081\n",
            "Non-trainable params: 0\n",
            "_________________________________________________________________\n"
          ]
        }
      ]
    },
    {
      "cell_type": "markdown",
      "source": [
        "**Second Step : Compile**"
      ],
      "metadata": {
        "id": "Vc8kwjjWt4Ru"
      }
    },
    {
      "cell_type": "code",
      "source": [
        "model1.compile(optimizer = \"sgd\", loss = \"binary_crossentropy\",\n",
        "               metrics = [\"accuracy\"])"
      ],
      "metadata": {
        "id": "b2a5v4RExwCY"
      },
      "execution_count": 26,
      "outputs": []
    },
    {
      "cell_type": "markdown",
      "source": [
        "**Third Step: Fitting**"
      ],
      "metadata": {
        "id": "jBsVJ62iuApU"
      }
    },
    {
      "cell_type": "code",
      "source": [
        "model1.fit(x_train, y_train, epochs = 10)"
      ],
      "metadata": {
        "colab": {
          "base_uri": "https://localhost:8080/"
        },
        "id": "xlDD9NZ1x7H0",
        "outputId": "33de1ace-7151-4a28-891d-b218cd6d5de4"
      },
      "execution_count": 27,
      "outputs": [
        {
          "output_type": "stream",
          "name": "stdout",
          "text": [
            "Epoch 1/10\n",
            "15/15 [==============================] - 4s 4ms/step - loss: 0.6857 - accuracy: 0.6308\n",
            "Epoch 2/10\n",
            "15/15 [==============================] - 0s 5ms/step - loss: 0.6798 - accuracy: 0.6308\n",
            "Epoch 3/10\n",
            "15/15 [==============================] - 0s 5ms/step - loss: 0.6742 - accuracy: 0.6308\n",
            "Epoch 4/10\n",
            "15/15 [==============================] - 0s 6ms/step - loss: 0.6684 - accuracy: 0.6308\n",
            "Epoch 5/10\n",
            "15/15 [==============================] - 0s 4ms/step - loss: 0.6626 - accuracy: 0.6308\n",
            "Epoch 6/10\n",
            "15/15 [==============================] - 0s 4ms/step - loss: 0.6569 - accuracy: 0.6308\n",
            "Epoch 7/10\n",
            "15/15 [==============================] - 0s 4ms/step - loss: 0.6511 - accuracy: 0.6308\n",
            "Epoch 8/10\n",
            "15/15 [==============================] - 0s 5ms/step - loss: 0.6460 - accuracy: 0.6308\n",
            "Epoch 9/10\n",
            "15/15 [==============================] - 0s 4ms/step - loss: 0.6409 - accuracy: 0.6308\n",
            "Epoch 10/10\n",
            "15/15 [==============================] - 0s 4ms/step - loss: 0.6357 - accuracy: 0.6308\n"
          ]
        },
        {
          "output_type": "execute_result",
          "data": {
            "text/plain": [
              "<keras.callbacks.History at 0x7f56fc6d4fa0>"
            ]
          },
          "metadata": {},
          "execution_count": 27
        }
      ]
    },
    {
      "cell_type": "markdown",
      "source": [
        "**Fourth Step : Predictions**"
      ],
      "metadata": {
        "id": "1JXS0nASuLJn"
      }
    },
    {
      "cell_type": "code",
      "source": [
        "model1.evaluate(x_test,y_test) "
      ],
      "metadata": {
        "id": "Fg4Bx8XQyDn-",
        "colab": {
          "base_uri": "https://localhost:8080/"
        },
        "outputId": "03b331d4-832c-48d2-a6b3-7141d5a2b00f"
      },
      "execution_count": 28,
      "outputs": [
        {
          "output_type": "stream",
          "name": "stdout",
          "text": [
            "4/4 [==============================] - 0s 4ms/step - loss: 0.6335 - accuracy: 0.6140\n"
          ]
        },
        {
          "output_type": "execute_result",
          "data": {
            "text/plain": [
              "[0.6334975957870483, 0.6140350699424744]"
            ]
          },
          "metadata": {},
          "execution_count": 28
        }
      ]
    },
    {
      "cell_type": "markdown",
      "source": [
        "So, using Model1, we got the accuracy as 61%"
      ],
      "metadata": {
        "id": "CYlvmWkfubUE"
      }
    },
    {
      "cell_type": "markdown",
      "source": [
        "# **Model 2**"
      ],
      "metadata": {
        "id": "yPKOhdBxutrk"
      }
    },
    {
      "cell_type": "markdown",
      "source": [
        "**First Step: Create Architecture**"
      ],
      "metadata": {
        "id": "s5LjCp6luxK1"
      }
    },
    {
      "cell_type": "code",
      "source": [
        "#input=30, hidden1=16, hidden2=16,output =1\n",
        "model2=Sequential()\n",
        "model2.add(Dense(16, input_shape=(30,),activation ='relu'))\n",
        "model2.add(Dense(16,activation ='relu'))\n",
        "model2.add(Dense(1,activation ='relu'))\n",
        "model2.summary()"
      ],
      "metadata": {
        "colab": {
          "base_uri": "https://localhost:8080/"
        },
        "id": "GRELdfeLuvDM",
        "outputId": "320f0ff8-af9e-4fa6-d83f-5a7ee7f0c6be"
      },
      "execution_count": 30,
      "outputs": [
        {
          "output_type": "stream",
          "name": "stdout",
          "text": [
            "Model: \"sequential_2\"\n",
            "_________________________________________________________________\n",
            " Layer (type)                Output Shape              Param #   \n",
            "=================================================================\n",
            " dense_6 (Dense)             (None, 16)                496       \n",
            "                                                                 \n",
            " dense_7 (Dense)             (None, 16)                272       \n",
            "                                                                 \n",
            " dense_8 (Dense)             (None, 1)                 17        \n",
            "                                                                 \n",
            "=================================================================\n",
            "Total params: 785\n",
            "Trainable params: 785\n",
            "Non-trainable params: 0\n",
            "_________________________________________________________________\n"
          ]
        }
      ]
    },
    {
      "cell_type": "markdown",
      "source": [
        "**Second step : Compile**"
      ],
      "metadata": {
        "id": "oKet9J2au9dG"
      }
    },
    {
      "cell_type": "code",
      "source": [
        "model2.compile(optimizer = \"sgd\", loss = \"binary_crossentropy\",\n",
        "               metrics = [\"accuracy\"])"
      ],
      "metadata": {
        "id": "0aEbth94vAWV"
      },
      "execution_count": 31,
      "outputs": []
    },
    {
      "cell_type": "markdown",
      "source": [
        "**Third step : Fitting**"
      ],
      "metadata": {
        "id": "6OkfHt8VvF5U"
      }
    },
    {
      "cell_type": "code",
      "source": [
        "model2.fit(x_train, y_train, epochs = 10)"
      ],
      "metadata": {
        "colab": {
          "base_uri": "https://localhost:8080/"
        },
        "id": "z8UbZ-iUvH5b",
        "outputId": "365f1e9c-eeae-45e1-e25f-9ce17684a8ca"
      },
      "execution_count": 32,
      "outputs": [
        {
          "output_type": "stream",
          "name": "stdout",
          "text": [
            "Epoch 1/10\n",
            "15/15 [==============================] - 1s 3ms/step - loss: 5.6954 - accuracy: 0.6308\n",
            "Epoch 2/10\n",
            "15/15 [==============================] - 0s 4ms/step - loss: 5.6954 - accuracy: 0.6308\n",
            "Epoch 3/10\n",
            "15/15 [==============================] - 0s 3ms/step - loss: 5.6954 - accuracy: 0.6308\n",
            "Epoch 4/10\n",
            "15/15 [==============================] - 0s 3ms/step - loss: 5.6954 - accuracy: 0.6308\n",
            "Epoch 5/10\n",
            "15/15 [==============================] - 0s 3ms/step - loss: 5.6954 - accuracy: 0.6308\n",
            "Epoch 6/10\n",
            "15/15 [==============================] - 0s 3ms/step - loss: 5.6954 - accuracy: 0.6308\n",
            "Epoch 7/10\n",
            "15/15 [==============================] - 0s 3ms/step - loss: 5.6954 - accuracy: 0.6308\n",
            "Epoch 8/10\n",
            "15/15 [==============================] - 0s 3ms/step - loss: 5.6954 - accuracy: 0.6308\n",
            "Epoch 9/10\n",
            "15/15 [==============================] - 0s 3ms/step - loss: 5.6954 - accuracy: 0.6308\n",
            "Epoch 10/10\n",
            "15/15 [==============================] - 0s 4ms/step - loss: 5.6954 - accuracy: 0.6308\n"
          ]
        },
        {
          "output_type": "execute_result",
          "data": {
            "text/plain": [
              "<keras.callbacks.History at 0x7f56fc1c8520>"
            ]
          },
          "metadata": {},
          "execution_count": 32
        }
      ]
    },
    {
      "cell_type": "markdown",
      "source": [
        "**Fourth Step : Predictions**"
      ],
      "metadata": {
        "id": "VIqhYV-Su_o2"
      }
    },
    {
      "cell_type": "code",
      "source": [
        "model2.evaluate(x_test,y_test) "
      ],
      "metadata": {
        "colab": {
          "base_uri": "https://localhost:8080/"
        },
        "id": "7qkDtKVlvVf4",
        "outputId": "e55d6665-d882-4c88-bb08-c68e468790f2"
      },
      "execution_count": 33,
      "outputs": [
        {
          "output_type": "stream",
          "name": "stdout",
          "text": [
            "4/4 [==============================] - 0s 5ms/step - loss: 5.9535 - accuracy: 0.6140\n"
          ]
        },
        {
          "output_type": "execute_result",
          "data": {
            "text/plain": [
              "[5.953489303588867, 0.6140350699424744]"
            ]
          },
          "metadata": {},
          "execution_count": 33
        }
      ]
    },
    {
      "cell_type": "markdown",
      "source": [
        "Second model also gave an accuracy of 61.4%"
      ],
      "metadata": {
        "id": "Qg9Xj5H3vccT"
      }
    },
    {
      "cell_type": "markdown",
      "source": [
        "# **Model 3**"
      ],
      "metadata": {
        "id": "XkGi82Lwvhbc"
      }
    },
    {
      "cell_type": "markdown",
      "source": [
        "**First Step: Create Architecture**"
      ],
      "metadata": {
        "id": "6W5vZdpP5TlC"
      }
    },
    {
      "cell_type": "code",
      "source": [
        "from keras.layers import Dropout\n",
        "classifier=Sequential()\n",
        "classifier.add(Dense(16, input_shape=(30,),activation ='relu',kernel_initializer='uniform'))\n",
        "# Adding dropout to prevent overfitting\n",
        "#classifier.add(Dropout(p=0.1))\n",
        "classifier.add(Dropout(0.2, input_shape=(30,)))\n",
        "\n",
        "\n",
        "# Adding the second hidden layer\n",
        "classifier.add(Dense(16, kernel_initializer='uniform', activation='relu'))\n",
        "# Adding dropout to prevent overfitting\n",
        "#classifier.add(Dropout(p=0.1))\n",
        "classifier.add(Dropout(0.2, input_shape=(30,)))\n",
        "\n",
        "# Adding the output layer (output_dim is 1 as we want only 1 output from the final layer.)\n",
        "classifier.add(Dense(1, kernel_initializer='uniform', activation='sigmoid'))"
      ],
      "metadata": {
        "id": "OKWC0YQXvjeL"
      },
      "execution_count": 43,
      "outputs": []
    },
    {
      "cell_type": "code",
      "source": [
        "classifier.summary()"
      ],
      "metadata": {
        "colab": {
          "base_uri": "https://localhost:8080/"
        },
        "id": "4DAC8DBQ3TAv",
        "outputId": "e92fe51a-b8c3-4c0a-bedf-939a9e7d759c"
      },
      "execution_count": 44,
      "outputs": [
        {
          "output_type": "stream",
          "name": "stdout",
          "text": [
            "Model: \"sequential_12\"\n",
            "_________________________________________________________________\n",
            " Layer (type)                Output Shape              Param #   \n",
            "=================================================================\n",
            " dense_15 (Dense)            (None, 16)                496       \n",
            "                                                                 \n",
            " dropout_1 (Dropout)         (None, 16)                0         \n",
            "                                                                 \n",
            " dense_16 (Dense)            (None, 16)                272       \n",
            "                                                                 \n",
            " dropout_2 (Dropout)         (None, 16)                0         \n",
            "                                                                 \n",
            " dense_17 (Dense)            (None, 1)                 17        \n",
            "                                                                 \n",
            "=================================================================\n",
            "Total params: 785\n",
            "Trainable params: 785\n",
            "Non-trainable params: 0\n",
            "_________________________________________________________________\n"
          ]
        }
      ]
    },
    {
      "cell_type": "markdown",
      "source": [
        "**Second step : Compile**"
      ],
      "metadata": {
        "id": "kGuynyfm5W5L"
      }
    },
    {
      "cell_type": "code",
      "source": [
        "classifier.compile(optimizer='adam', loss='binary_crossentropy', metrics=['accuracy'])"
      ],
      "metadata": {
        "id": "8B_8EZnu3hkZ"
      },
      "execution_count": 45,
      "outputs": []
    },
    {
      "cell_type": "markdown",
      "source": [
        "**Third step : Fitting**"
      ],
      "metadata": {
        "id": "1j5vhai25bA5"
      }
    },
    {
      "cell_type": "code",
      "source": [
        "classifier.fit(x_train, y_train, batch_size=100, epochs=150)"
      ],
      "metadata": {
        "colab": {
          "base_uri": "https://localhost:8080/"
        },
        "id": "6Bt5QaKd3kOl",
        "outputId": "f88c24e4-fdab-444b-ddc9-2ef99db975a7"
      },
      "execution_count": 49,
      "outputs": [
        {
          "output_type": "stream",
          "name": "stdout",
          "text": [
            "Epoch 1/150\n",
            "5/5 [==============================] - 1s 5ms/step - loss: 0.6928 - accuracy: 0.6066\n",
            "Epoch 2/150\n",
            "5/5 [==============================] - 0s 4ms/step - loss: 0.6919 - accuracy: 0.6308\n",
            "Epoch 3/150\n",
            "5/5 [==============================] - 0s 4ms/step - loss: 0.6909 - accuracy: 0.6308\n",
            "Epoch 4/150\n",
            "5/5 [==============================] - 0s 4ms/step - loss: 0.6896 - accuracy: 0.6330\n",
            "Epoch 5/150\n",
            "5/5 [==============================] - 0s 4ms/step - loss: 0.6881 - accuracy: 0.6374\n",
            "Epoch 6/150\n",
            "5/5 [==============================] - 0s 5ms/step - loss: 0.6862 - accuracy: 0.6462\n",
            "Epoch 7/150\n",
            "5/5 [==============================] - 0s 4ms/step - loss: 0.6841 - accuracy: 0.6681\n",
            "Epoch 8/150\n",
            "5/5 [==============================] - 0s 6ms/step - loss: 0.6805 - accuracy: 0.7429\n",
            "Epoch 9/150\n",
            "5/5 [==============================] - 0s 5ms/step - loss: 0.6775 - accuracy: 0.7692\n",
            "Epoch 10/150\n",
            "5/5 [==============================] - 0s 6ms/step - loss: 0.6719 - accuracy: 0.8440\n",
            "Epoch 11/150\n",
            "5/5 [==============================] - 0s 4ms/step - loss: 0.6658 - accuracy: 0.8593\n",
            "Epoch 12/150\n",
            "5/5 [==============================] - 0s 4ms/step - loss: 0.6594 - accuracy: 0.8813\n",
            "Epoch 13/150\n",
            "5/5 [==============================] - 0s 4ms/step - loss: 0.6519 - accuracy: 0.8857\n",
            "Epoch 14/150\n",
            "5/5 [==============================] - 0s 4ms/step - loss: 0.6411 - accuracy: 0.8879\n",
            "Epoch 15/150\n",
            "5/5 [==============================] - 0s 4ms/step - loss: 0.6297 - accuracy: 0.9011\n",
            "Epoch 16/150\n",
            "5/5 [==============================] - 0s 5ms/step - loss: 0.6180 - accuracy: 0.8923\n",
            "Epoch 17/150\n",
            "5/5 [==============================] - 0s 4ms/step - loss: 0.6046 - accuracy: 0.8857\n",
            "Epoch 18/150\n",
            "5/5 [==============================] - 0s 4ms/step - loss: 0.5863 - accuracy: 0.9099\n",
            "Epoch 19/150\n",
            "5/5 [==============================] - 0s 7ms/step - loss: 0.5688 - accuracy: 0.9099\n",
            "Epoch 20/150\n",
            "5/5 [==============================] - 0s 4ms/step - loss: 0.5553 - accuracy: 0.8769\n",
            "Epoch 21/150\n",
            "5/5 [==============================] - 0s 5ms/step - loss: 0.5298 - accuracy: 0.9099\n",
            "Epoch 22/150\n",
            "5/5 [==============================] - 0s 5ms/step - loss: 0.5055 - accuracy: 0.8967\n",
            "Epoch 23/150\n",
            "5/5 [==============================] - 0s 5ms/step - loss: 0.4835 - accuracy: 0.9165\n",
            "Epoch 24/150\n",
            "5/5 [==============================] - 0s 5ms/step - loss: 0.4705 - accuracy: 0.8989\n",
            "Epoch 25/150\n",
            "5/5 [==============================] - 0s 5ms/step - loss: 0.4456 - accuracy: 0.9099\n",
            "Epoch 26/150\n",
            "5/5 [==============================] - 0s 5ms/step - loss: 0.4270 - accuracy: 0.8967\n",
            "Epoch 27/150\n",
            "5/5 [==============================] - 0s 5ms/step - loss: 0.4110 - accuracy: 0.8923\n",
            "Epoch 28/150\n",
            "5/5 [==============================] - 0s 6ms/step - loss: 0.3871 - accuracy: 0.9011\n",
            "Epoch 29/150\n",
            "5/5 [==============================] - 0s 4ms/step - loss: 0.3597 - accuracy: 0.9099\n",
            "Epoch 30/150\n",
            "5/5 [==============================] - 0s 4ms/step - loss: 0.3545 - accuracy: 0.9055\n",
            "Epoch 31/150\n",
            "5/5 [==============================] - 0s 4ms/step - loss: 0.3314 - accuracy: 0.9165\n",
            "Epoch 32/150\n",
            "5/5 [==============================] - 0s 4ms/step - loss: 0.3212 - accuracy: 0.9033\n",
            "Epoch 33/150\n",
            "5/5 [==============================] - 0s 4ms/step - loss: 0.3234 - accuracy: 0.9033\n",
            "Epoch 34/150\n",
            "5/5 [==============================] - 0s 5ms/step - loss: 0.2960 - accuracy: 0.9077\n",
            "Epoch 35/150\n",
            "5/5 [==============================] - 0s 4ms/step - loss: 0.2928 - accuracy: 0.9033\n",
            "Epoch 36/150\n",
            "5/5 [==============================] - 0s 4ms/step - loss: 0.2855 - accuracy: 0.8967\n",
            "Epoch 37/150\n",
            "5/5 [==============================] - 0s 4ms/step - loss: 0.2740 - accuracy: 0.8989\n",
            "Epoch 38/150\n",
            "5/5 [==============================] - 0s 4ms/step - loss: 0.2462 - accuracy: 0.9253\n",
            "Epoch 39/150\n",
            "5/5 [==============================] - 0s 7ms/step - loss: 0.2425 - accuracy: 0.9275\n",
            "Epoch 40/150\n",
            "5/5 [==============================] - 0s 5ms/step - loss: 0.2421 - accuracy: 0.9319\n",
            "Epoch 41/150\n",
            "5/5 [==============================] - 0s 4ms/step - loss: 0.2390 - accuracy: 0.9165\n",
            "Epoch 42/150\n",
            "5/5 [==============================] - 0s 4ms/step - loss: 0.2394 - accuracy: 0.9253\n",
            "Epoch 43/150\n",
            "5/5 [==============================] - 0s 4ms/step - loss: 0.2156 - accuracy: 0.9363\n",
            "Epoch 44/150\n",
            "5/5 [==============================] - 0s 7ms/step - loss: 0.2218 - accuracy: 0.9253\n",
            "Epoch 45/150\n",
            "5/5 [==============================] - 0s 6ms/step - loss: 0.2154 - accuracy: 0.9253\n",
            "Epoch 46/150\n",
            "5/5 [==============================] - 0s 6ms/step - loss: 0.2096 - accuracy: 0.9231\n",
            "Epoch 47/150\n",
            "5/5 [==============================] - 0s 6ms/step - loss: 0.2067 - accuracy: 0.9275\n",
            "Epoch 48/150\n",
            "5/5 [==============================] - 0s 6ms/step - loss: 0.1990 - accuracy: 0.9297\n",
            "Epoch 49/150\n",
            "5/5 [==============================] - 0s 6ms/step - loss: 0.1897 - accuracy: 0.9363\n",
            "Epoch 50/150\n",
            "5/5 [==============================] - 0s 6ms/step - loss: 0.2062 - accuracy: 0.9319\n",
            "Epoch 51/150\n",
            "5/5 [==============================] - 0s 7ms/step - loss: 0.1986 - accuracy: 0.9209\n",
            "Epoch 52/150\n",
            "5/5 [==============================] - 0s 6ms/step - loss: 0.1883 - accuracy: 0.9319\n",
            "Epoch 53/150\n",
            "5/5 [==============================] - 0s 6ms/step - loss: 0.1770 - accuracy: 0.9385\n",
            "Epoch 54/150\n",
            "5/5 [==============================] - 0s 6ms/step - loss: 0.1805 - accuracy: 0.9297\n",
            "Epoch 55/150\n",
            "5/5 [==============================] - 0s 6ms/step - loss: 0.1834 - accuracy: 0.9385\n",
            "Epoch 56/150\n",
            "5/5 [==============================] - 0s 7ms/step - loss: 0.1717 - accuracy: 0.9363\n",
            "Epoch 57/150\n",
            "5/5 [==============================] - 0s 6ms/step - loss: 0.1712 - accuracy: 0.9451\n",
            "Epoch 58/150\n",
            "5/5 [==============================] - 0s 5ms/step - loss: 0.1706 - accuracy: 0.9341\n",
            "Epoch 59/150\n",
            "5/5 [==============================] - 0s 5ms/step - loss: 0.1788 - accuracy: 0.9363\n",
            "Epoch 60/150\n",
            "5/5 [==============================] - 0s 6ms/step - loss: 0.1592 - accuracy: 0.9451\n",
            "Epoch 61/150\n",
            "5/5 [==============================] - 0s 6ms/step - loss: 0.1615 - accuracy: 0.9451\n",
            "Epoch 62/150\n",
            "5/5 [==============================] - 0s 6ms/step - loss: 0.1618 - accuracy: 0.9516\n",
            "Epoch 63/150\n",
            "5/5 [==============================] - 0s 6ms/step - loss: 0.1472 - accuracy: 0.9560\n",
            "Epoch 64/150\n",
            "5/5 [==============================] - 0s 8ms/step - loss: 0.1490 - accuracy: 0.9495\n",
            "Epoch 65/150\n",
            "5/5 [==============================] - 0s 5ms/step - loss: 0.1536 - accuracy: 0.9495\n",
            "Epoch 66/150\n",
            "5/5 [==============================] - 0s 6ms/step - loss: 0.1422 - accuracy: 0.9363\n",
            "Epoch 67/150\n",
            "5/5 [==============================] - 0s 6ms/step - loss: 0.1512 - accuracy: 0.9451\n",
            "Epoch 68/150\n",
            "5/5 [==============================] - 0s 5ms/step - loss: 0.1305 - accuracy: 0.9626\n",
            "Epoch 69/150\n",
            "5/5 [==============================] - 0s 5ms/step - loss: 0.1376 - accuracy: 0.9407\n",
            "Epoch 70/150\n",
            "5/5 [==============================] - 0s 6ms/step - loss: 0.1321 - accuracy: 0.9648\n",
            "Epoch 71/150\n",
            "5/5 [==============================] - 0s 6ms/step - loss: 0.1323 - accuracy: 0.9582\n",
            "Epoch 72/150\n",
            "5/5 [==============================] - 0s 5ms/step - loss: 0.1321 - accuracy: 0.9560\n",
            "Epoch 73/150\n",
            "5/5 [==============================] - 0s 5ms/step - loss: 0.1283 - accuracy: 0.9604\n",
            "Epoch 74/150\n",
            "5/5 [==============================] - 0s 5ms/step - loss: 0.1296 - accuracy: 0.9495\n",
            "Epoch 75/150\n",
            "5/5 [==============================] - 0s 6ms/step - loss: 0.1505 - accuracy: 0.9363\n",
            "Epoch 76/150\n",
            "5/5 [==============================] - 0s 5ms/step - loss: 0.1606 - accuracy: 0.9385\n",
            "Epoch 77/150\n",
            "5/5 [==============================] - 0s 6ms/step - loss: 0.1286 - accuracy: 0.9538\n",
            "Epoch 78/150\n",
            "5/5 [==============================] - 0s 6ms/step - loss: 0.1281 - accuracy: 0.9648\n",
            "Epoch 79/150\n",
            "5/5 [==============================] - 0s 6ms/step - loss: 0.1362 - accuracy: 0.9451\n",
            "Epoch 80/150\n",
            "5/5 [==============================] - 0s 6ms/step - loss: 0.1200 - accuracy: 0.9560\n",
            "Epoch 81/150\n",
            "5/5 [==============================] - 0s 6ms/step - loss: 0.1255 - accuracy: 0.9451\n",
            "Epoch 82/150\n",
            "5/5 [==============================] - 0s 6ms/step - loss: 0.1111 - accuracy: 0.9670\n",
            "Epoch 83/150\n",
            "5/5 [==============================] - 0s 6ms/step - loss: 0.1098 - accuracy: 0.9626\n",
            "Epoch 84/150\n",
            "5/5 [==============================] - 0s 7ms/step - loss: 0.1104 - accuracy: 0.9626\n",
            "Epoch 85/150\n",
            "5/5 [==============================] - 0s 6ms/step - loss: 0.1135 - accuracy: 0.9648\n",
            "Epoch 86/150\n",
            "5/5 [==============================] - 0s 7ms/step - loss: 0.1081 - accuracy: 0.9604\n",
            "Epoch 87/150\n",
            "5/5 [==============================] - 0s 5ms/step - loss: 0.1131 - accuracy: 0.9648\n",
            "Epoch 88/150\n",
            "5/5 [==============================] - 0s 6ms/step - loss: 0.1191 - accuracy: 0.9670\n",
            "Epoch 89/150\n",
            "5/5 [==============================] - 0s 5ms/step - loss: 0.1143 - accuracy: 0.9692\n",
            "Epoch 90/150\n",
            "5/5 [==============================] - 0s 5ms/step - loss: 0.1092 - accuracy: 0.9582\n",
            "Epoch 91/150\n",
            "5/5 [==============================] - 0s 5ms/step - loss: 0.1033 - accuracy: 0.9736\n",
            "Epoch 92/150\n",
            "5/5 [==============================] - 0s 5ms/step - loss: 0.1001 - accuracy: 0.9692\n",
            "Epoch 93/150\n",
            "5/5 [==============================] - 0s 5ms/step - loss: 0.0973 - accuracy: 0.9692\n",
            "Epoch 94/150\n",
            "5/5 [==============================] - 0s 5ms/step - loss: 0.0930 - accuracy: 0.9714\n",
            "Epoch 95/150\n",
            "5/5 [==============================] - 0s 5ms/step - loss: 0.0990 - accuracy: 0.9736\n",
            "Epoch 96/150\n",
            "5/5 [==============================] - 0s 5ms/step - loss: 0.0897 - accuracy: 0.9670\n",
            "Epoch 97/150\n",
            "5/5 [==============================] - 0s 5ms/step - loss: 0.1016 - accuracy: 0.9670\n",
            "Epoch 98/150\n",
            "5/5 [==============================] - 0s 5ms/step - loss: 0.1017 - accuracy: 0.9736\n",
            "Epoch 99/150\n",
            "5/5 [==============================] - 0s 6ms/step - loss: 0.1062 - accuracy: 0.9560\n",
            "Epoch 100/150\n",
            "5/5 [==============================] - 0s 5ms/step - loss: 0.1102 - accuracy: 0.9560\n",
            "Epoch 101/150\n",
            "5/5 [==============================] - 0s 5ms/step - loss: 0.1029 - accuracy: 0.9604\n",
            "Epoch 102/150\n",
            "5/5 [==============================] - 0s 5ms/step - loss: 0.1094 - accuracy: 0.9692\n",
            "Epoch 103/150\n",
            "5/5 [==============================] - 0s 6ms/step - loss: 0.1056 - accuracy: 0.9604\n",
            "Epoch 104/150\n",
            "5/5 [==============================] - 0s 5ms/step - loss: 0.0956 - accuracy: 0.9604\n",
            "Epoch 105/150\n",
            "5/5 [==============================] - 0s 6ms/step - loss: 0.1015 - accuracy: 0.9692\n",
            "Epoch 106/150\n",
            "5/5 [==============================] - 0s 6ms/step - loss: 0.1080 - accuracy: 0.9560\n",
            "Epoch 107/150\n",
            "5/5 [==============================] - 0s 6ms/step - loss: 0.0965 - accuracy: 0.9714\n",
            "Epoch 108/150\n",
            "5/5 [==============================] - 0s 6ms/step - loss: 0.0929 - accuracy: 0.9736\n",
            "Epoch 109/150\n",
            "5/5 [==============================] - 0s 7ms/step - loss: 0.1021 - accuracy: 0.9516\n",
            "Epoch 110/150\n",
            "5/5 [==============================] - 0s 5ms/step - loss: 0.0988 - accuracy: 0.9692\n",
            "Epoch 111/150\n",
            "5/5 [==============================] - 0s 6ms/step - loss: 0.0945 - accuracy: 0.9670\n",
            "Epoch 112/150\n",
            "5/5 [==============================] - 0s 5ms/step - loss: 0.0985 - accuracy: 0.9648\n",
            "Epoch 113/150\n",
            "5/5 [==============================] - 0s 6ms/step - loss: 0.0733 - accuracy: 0.9824\n",
            "Epoch 114/150\n",
            "5/5 [==============================] - 0s 5ms/step - loss: 0.0918 - accuracy: 0.9714\n",
            "Epoch 115/150\n",
            "5/5 [==============================] - 0s 6ms/step - loss: 0.1051 - accuracy: 0.9604\n",
            "Epoch 116/150\n",
            "5/5 [==============================] - 0s 6ms/step - loss: 0.0903 - accuracy: 0.9714\n",
            "Epoch 117/150\n",
            "5/5 [==============================] - 0s 7ms/step - loss: 0.0868 - accuracy: 0.9692\n",
            "Epoch 118/150\n",
            "5/5 [==============================] - 0s 7ms/step - loss: 0.0820 - accuracy: 0.9780\n",
            "Epoch 119/150\n",
            "5/5 [==============================] - 0s 6ms/step - loss: 0.0931 - accuracy: 0.9560\n",
            "Epoch 120/150\n",
            "5/5 [==============================] - 0s 6ms/step - loss: 0.0715 - accuracy: 0.9758\n",
            "Epoch 121/150\n",
            "5/5 [==============================] - 0s 5ms/step - loss: 0.0902 - accuracy: 0.9758\n",
            "Epoch 122/150\n",
            "5/5 [==============================] - 0s 6ms/step - loss: 0.0800 - accuracy: 0.9802\n",
            "Epoch 123/150\n",
            "5/5 [==============================] - 0s 6ms/step - loss: 0.0931 - accuracy: 0.9714\n",
            "Epoch 124/150\n",
            "5/5 [==============================] - 0s 7ms/step - loss: 0.0769 - accuracy: 0.9780\n",
            "Epoch 125/150\n",
            "5/5 [==============================] - 0s 7ms/step - loss: 0.0823 - accuracy: 0.9802\n",
            "Epoch 126/150\n",
            "5/5 [==============================] - 0s 6ms/step - loss: 0.0785 - accuracy: 0.9758\n",
            "Epoch 127/150\n",
            "5/5 [==============================] - 0s 7ms/step - loss: 0.0868 - accuracy: 0.9802\n",
            "Epoch 128/150\n",
            "5/5 [==============================] - 0s 5ms/step - loss: 0.0810 - accuracy: 0.9824\n",
            "Epoch 129/150\n",
            "5/5 [==============================] - 0s 6ms/step - loss: 0.0869 - accuracy: 0.9714\n",
            "Epoch 130/150\n",
            "5/5 [==============================] - 0s 6ms/step - loss: 0.0814 - accuracy: 0.9758\n",
            "Epoch 131/150\n",
            "5/5 [==============================] - 0s 5ms/step - loss: 0.0783 - accuracy: 0.9758\n",
            "Epoch 132/150\n",
            "5/5 [==============================] - 0s 5ms/step - loss: 0.0749 - accuracy: 0.9758\n",
            "Epoch 133/150\n",
            "5/5 [==============================] - 0s 6ms/step - loss: 0.0857 - accuracy: 0.9736\n",
            "Epoch 134/150\n",
            "5/5 [==============================] - 0s 6ms/step - loss: 0.0848 - accuracy: 0.9736\n",
            "Epoch 135/150\n",
            "5/5 [==============================] - 0s 5ms/step - loss: 0.0813 - accuracy: 0.9692\n",
            "Epoch 136/150\n",
            "5/5 [==============================] - 0s 5ms/step - loss: 0.0772 - accuracy: 0.9758\n",
            "Epoch 137/150\n",
            "5/5 [==============================] - 0s 5ms/step - loss: 0.0803 - accuracy: 0.9714\n",
            "Epoch 138/150\n",
            "5/5 [==============================] - 0s 6ms/step - loss: 0.0717 - accuracy: 0.9824\n",
            "Epoch 139/150\n",
            "5/5 [==============================] - 0s 5ms/step - loss: 0.0638 - accuracy: 0.9824\n",
            "Epoch 140/150\n",
            "5/5 [==============================] - 0s 4ms/step - loss: 0.0762 - accuracy: 0.9692\n",
            "Epoch 141/150\n",
            "5/5 [==============================] - 0s 4ms/step - loss: 0.0725 - accuracy: 0.9736\n",
            "Epoch 142/150\n",
            "5/5 [==============================] - 0s 5ms/step - loss: 0.0826 - accuracy: 0.9692\n",
            "Epoch 143/150\n",
            "5/5 [==============================] - 0s 5ms/step - loss: 0.0976 - accuracy: 0.9692\n",
            "Epoch 144/150\n",
            "5/5 [==============================] - 0s 5ms/step - loss: 0.0682 - accuracy: 0.9780\n",
            "Epoch 145/150\n",
            "5/5 [==============================] - 0s 4ms/step - loss: 0.0735 - accuracy: 0.9802\n",
            "Epoch 146/150\n",
            "5/5 [==============================] - 0s 5ms/step - loss: 0.0646 - accuracy: 0.9780\n",
            "Epoch 147/150\n",
            "5/5 [==============================] - 0s 5ms/step - loss: 0.0689 - accuracy: 0.9780\n",
            "Epoch 148/150\n",
            "5/5 [==============================] - 0s 5ms/step - loss: 0.0731 - accuracy: 0.9824\n",
            "Epoch 149/150\n",
            "5/5 [==============================] - 0s 4ms/step - loss: 0.0705 - accuracy: 0.9824\n",
            "Epoch 150/150\n",
            "5/5 [==============================] - 0s 5ms/step - loss: 0.0660 - accuracy: 0.9780\n"
          ]
        },
        {
          "output_type": "execute_result",
          "data": {
            "text/plain": [
              "<keras.callbacks.History at 0x7f5698ae40d0>"
            ]
          },
          "metadata": {},
          "execution_count": 49
        }
      ]
    },
    {
      "cell_type": "markdown",
      "source": [
        "**Fourth Step : Predictions**"
      ],
      "metadata": {
        "id": "LTTzU17h5eEs"
      }
    },
    {
      "cell_type": "code",
      "source": [
        "classifier.evaluate(x_test,y_test) "
      ],
      "metadata": {
        "colab": {
          "base_uri": "https://localhost:8080/"
        },
        "id": "0ZlX3j0K4tsp",
        "outputId": "2b57665b-8213-4a3b-981d-0d2f7426ffb0"
      },
      "execution_count": 50,
      "outputs": [
        {
          "output_type": "stream",
          "name": "stdout",
          "text": [
            "4/4 [==============================] - 0s 4ms/step - loss: 0.0864 - accuracy: 0.9825\n"
          ]
        },
        {
          "output_type": "execute_result",
          "data": {
            "text/plain": [
              "[0.08637237548828125, 0.9824561476707458]"
            ]
          },
          "metadata": {},
          "execution_count": 50
        }
      ]
    },
    {
      "cell_type": "markdown",
      "source": [
        "The last model shows an accuracy of 98.25% when dropout was introduced to prevent overfirtting"
      ],
      "metadata": {
        "id": "sfV2oGwV4yMY"
      }
    }
  ]
}