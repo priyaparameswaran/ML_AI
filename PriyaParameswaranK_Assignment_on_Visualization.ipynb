{
  "nbformat": 4,
  "nbformat_minor": 0,
  "metadata": {
    "colab": {
      "provenance": []
    },
    "kernelspec": {
      "name": "python3",
      "display_name": "Python 3"
    },
    "language_info": {
      "name": "python"
    }
  },
  "cells": [
    {
      "cell_type": "markdown",
      "source": [
        "### **Assignment on data Visualization**"
      ],
      "metadata": {
        "id": "9HQYQRjg_Wfj"
      }
    },
    {
      "cell_type": "markdown",
      "source": [
        "Create visualization using cleaned data set of data.csv"
      ],
      "metadata": {
        "id": "OWWXjq0C_dEp"
      }
    },
    {
      "cell_type": "code",
      "source": [
        "from google.colab import files\n",
        "uploaded=files.upload()"
      ],
      "metadata": {
        "colab": {
          "base_uri": "https://localhost:8080/",
          "height": 73
        },
        "id": "2vZ8m94A_egi",
        "outputId": "0f935d2a-9c1e-4161-d0c5-42b3abe687fd"
      },
      "execution_count": 96,
      "outputs": [
        {
          "output_type": "display_data",
          "data": {
            "text/plain": [
              "<IPython.core.display.HTML object>"
            ],
            "text/html": [
              "\n",
              "     <input type=\"file\" id=\"files-afc9574e-0208-4822-acda-97b606bb9e4e\" name=\"files[]\" multiple disabled\n",
              "        style=\"border:none\" />\n",
              "     <output id=\"result-afc9574e-0208-4822-acda-97b606bb9e4e\">\n",
              "      Upload widget is only available when the cell has been executed in the\n",
              "      current browser session. Please rerun this cell to enable.\n",
              "      </output>\n",
              "      <script>// Copyright 2017 Google LLC\n",
              "//\n",
              "// Licensed under the Apache License, Version 2.0 (the \"License\");\n",
              "// you may not use this file except in compliance with the License.\n",
              "// You may obtain a copy of the License at\n",
              "//\n",
              "//      http://www.apache.org/licenses/LICENSE-2.0\n",
              "//\n",
              "// Unless required by applicable law or agreed to in writing, software\n",
              "// distributed under the License is distributed on an \"AS IS\" BASIS,\n",
              "// WITHOUT WARRANTIES OR CONDITIONS OF ANY KIND, either express or implied.\n",
              "// See the License for the specific language governing permissions and\n",
              "// limitations under the License.\n",
              "\n",
              "/**\n",
              " * @fileoverview Helpers for google.colab Python module.\n",
              " */\n",
              "(function(scope) {\n",
              "function span(text, styleAttributes = {}) {\n",
              "  const element = document.createElement('span');\n",
              "  element.textContent = text;\n",
              "  for (const key of Object.keys(styleAttributes)) {\n",
              "    element.style[key] = styleAttributes[key];\n",
              "  }\n",
              "  return element;\n",
              "}\n",
              "\n",
              "// Max number of bytes which will be uploaded at a time.\n",
              "const MAX_PAYLOAD_SIZE = 100 * 1024;\n",
              "\n",
              "function _uploadFiles(inputId, outputId) {\n",
              "  const steps = uploadFilesStep(inputId, outputId);\n",
              "  const outputElement = document.getElementById(outputId);\n",
              "  // Cache steps on the outputElement to make it available for the next call\n",
              "  // to uploadFilesContinue from Python.\n",
              "  outputElement.steps = steps;\n",
              "\n",
              "  return _uploadFilesContinue(outputId);\n",
              "}\n",
              "\n",
              "// This is roughly an async generator (not supported in the browser yet),\n",
              "// where there are multiple asynchronous steps and the Python side is going\n",
              "// to poll for completion of each step.\n",
              "// This uses a Promise to block the python side on completion of each step,\n",
              "// then passes the result of the previous step as the input to the next step.\n",
              "function _uploadFilesContinue(outputId) {\n",
              "  const outputElement = document.getElementById(outputId);\n",
              "  const steps = outputElement.steps;\n",
              "\n",
              "  const next = steps.next(outputElement.lastPromiseValue);\n",
              "  return Promise.resolve(next.value.promise).then((value) => {\n",
              "    // Cache the last promise value to make it available to the next\n",
              "    // step of the generator.\n",
              "    outputElement.lastPromiseValue = value;\n",
              "    return next.value.response;\n",
              "  });\n",
              "}\n",
              "\n",
              "/**\n",
              " * Generator function which is called between each async step of the upload\n",
              " * process.\n",
              " * @param {string} inputId Element ID of the input file picker element.\n",
              " * @param {string} outputId Element ID of the output display.\n",
              " * @return {!Iterable<!Object>} Iterable of next steps.\n",
              " */\n",
              "function* uploadFilesStep(inputId, outputId) {\n",
              "  const inputElement = document.getElementById(inputId);\n",
              "  inputElement.disabled = false;\n",
              "\n",
              "  const outputElement = document.getElementById(outputId);\n",
              "  outputElement.innerHTML = '';\n",
              "\n",
              "  const pickedPromise = new Promise((resolve) => {\n",
              "    inputElement.addEventListener('change', (e) => {\n",
              "      resolve(e.target.files);\n",
              "    });\n",
              "  });\n",
              "\n",
              "  const cancel = document.createElement('button');\n",
              "  inputElement.parentElement.appendChild(cancel);\n",
              "  cancel.textContent = 'Cancel upload';\n",
              "  const cancelPromise = new Promise((resolve) => {\n",
              "    cancel.onclick = () => {\n",
              "      resolve(null);\n",
              "    };\n",
              "  });\n",
              "\n",
              "  // Wait for the user to pick the files.\n",
              "  const files = yield {\n",
              "    promise: Promise.race([pickedPromise, cancelPromise]),\n",
              "    response: {\n",
              "      action: 'starting',\n",
              "    }\n",
              "  };\n",
              "\n",
              "  cancel.remove();\n",
              "\n",
              "  // Disable the input element since further picks are not allowed.\n",
              "  inputElement.disabled = true;\n",
              "\n",
              "  if (!files) {\n",
              "    return {\n",
              "      response: {\n",
              "        action: 'complete',\n",
              "      }\n",
              "    };\n",
              "  }\n",
              "\n",
              "  for (const file of files) {\n",
              "    const li = document.createElement('li');\n",
              "    li.append(span(file.name, {fontWeight: 'bold'}));\n",
              "    li.append(span(\n",
              "        `(${file.type || 'n/a'}) - ${file.size} bytes, ` +\n",
              "        `last modified: ${\n",
              "            file.lastModifiedDate ? file.lastModifiedDate.toLocaleDateString() :\n",
              "                                    'n/a'} - `));\n",
              "    const percent = span('0% done');\n",
              "    li.appendChild(percent);\n",
              "\n",
              "    outputElement.appendChild(li);\n",
              "\n",
              "    const fileDataPromise = new Promise((resolve) => {\n",
              "      const reader = new FileReader();\n",
              "      reader.onload = (e) => {\n",
              "        resolve(e.target.result);\n",
              "      };\n",
              "      reader.readAsArrayBuffer(file);\n",
              "    });\n",
              "    // Wait for the data to be ready.\n",
              "    let fileData = yield {\n",
              "      promise: fileDataPromise,\n",
              "      response: {\n",
              "        action: 'continue',\n",
              "      }\n",
              "    };\n",
              "\n",
              "    // Use a chunked sending to avoid message size limits. See b/62115660.\n",
              "    let position = 0;\n",
              "    do {\n",
              "      const length = Math.min(fileData.byteLength - position, MAX_PAYLOAD_SIZE);\n",
              "      const chunk = new Uint8Array(fileData, position, length);\n",
              "      position += length;\n",
              "\n",
              "      const base64 = btoa(String.fromCharCode.apply(null, chunk));\n",
              "      yield {\n",
              "        response: {\n",
              "          action: 'append',\n",
              "          file: file.name,\n",
              "          data: base64,\n",
              "        },\n",
              "      };\n",
              "\n",
              "      let percentDone = fileData.byteLength === 0 ?\n",
              "          100 :\n",
              "          Math.round((position / fileData.byteLength) * 100);\n",
              "      percent.textContent = `${percentDone}% done`;\n",
              "\n",
              "    } while (position < fileData.byteLength);\n",
              "  }\n",
              "\n",
              "  // All done.\n",
              "  yield {\n",
              "    response: {\n",
              "      action: 'complete',\n",
              "    }\n",
              "  };\n",
              "}\n",
              "\n",
              "scope.google = scope.google || {};\n",
              "scope.google.colab = scope.google.colab || {};\n",
              "scope.google.colab._files = {\n",
              "  _uploadFiles,\n",
              "  _uploadFilesContinue,\n",
              "};\n",
              "})(self);\n",
              "</script> "
            ]
          },
          "metadata": {}
        },
        {
          "output_type": "stream",
          "name": "stdout",
          "text": [
            "Saving data.csv to data (4).csv\n"
          ]
        }
      ]
    },
    {
      "cell_type": "code",
      "source": [
        "import numpy as np\n",
        "import pandas as pd\n",
        "import matplotlib as plt\n",
        "import seaborn as sns"
      ],
      "metadata": {
        "id": "4_i-E4yt_4Dw"
      },
      "execution_count": 97,
      "outputs": []
    },
    {
      "cell_type": "code",
      "source": [
        "df=pd.read_csv('data.csv')\n",
        "df.head(5)"
      ],
      "metadata": {
        "colab": {
          "base_uri": "https://localhost:8080/",
          "height": 206
        },
        "id": "vF1ShAlA_0vg",
        "outputId": "bff1e577-d1df-48ce-ed31-493af3b6f3e7"
      },
      "execution_count": 98,
      "outputs": [
        {
          "output_type": "execute_result",
          "data": {
            "text/plain": [
              "   Duration          Date  Pulse  Maxpulse  Calories\n",
              "0        60  '2020/12/01'    110       130     409.1\n",
              "1        60  '2020/12/02'    117       145     479.0\n",
              "2        60  '2020/12/03'    103       135     340.0\n",
              "3        45  '2020/12/04'    109       175     282.4\n",
              "4        45  '2020/12/05'    117       148     406.0"
            ],
            "text/html": [
              "\n",
              "  <div id=\"df-bf1f31d9-665a-4204-a8bd-bc5936484cce\">\n",
              "    <div class=\"colab-df-container\">\n",
              "      <div>\n",
              "<style scoped>\n",
              "    .dataframe tbody tr th:only-of-type {\n",
              "        vertical-align: middle;\n",
              "    }\n",
              "\n",
              "    .dataframe tbody tr th {\n",
              "        vertical-align: top;\n",
              "    }\n",
              "\n",
              "    .dataframe thead th {\n",
              "        text-align: right;\n",
              "    }\n",
              "</style>\n",
              "<table border=\"1\" class=\"dataframe\">\n",
              "  <thead>\n",
              "    <tr style=\"text-align: right;\">\n",
              "      <th></th>\n",
              "      <th>Duration</th>\n",
              "      <th>Date</th>\n",
              "      <th>Pulse</th>\n",
              "      <th>Maxpulse</th>\n",
              "      <th>Calories</th>\n",
              "    </tr>\n",
              "  </thead>\n",
              "  <tbody>\n",
              "    <tr>\n",
              "      <th>0</th>\n",
              "      <td>60</td>\n",
              "      <td>'2020/12/01'</td>\n",
              "      <td>110</td>\n",
              "      <td>130</td>\n",
              "      <td>409.1</td>\n",
              "    </tr>\n",
              "    <tr>\n",
              "      <th>1</th>\n",
              "      <td>60</td>\n",
              "      <td>'2020/12/02'</td>\n",
              "      <td>117</td>\n",
              "      <td>145</td>\n",
              "      <td>479.0</td>\n",
              "    </tr>\n",
              "    <tr>\n",
              "      <th>2</th>\n",
              "      <td>60</td>\n",
              "      <td>'2020/12/03'</td>\n",
              "      <td>103</td>\n",
              "      <td>135</td>\n",
              "      <td>340.0</td>\n",
              "    </tr>\n",
              "    <tr>\n",
              "      <th>3</th>\n",
              "      <td>45</td>\n",
              "      <td>'2020/12/04'</td>\n",
              "      <td>109</td>\n",
              "      <td>175</td>\n",
              "      <td>282.4</td>\n",
              "    </tr>\n",
              "    <tr>\n",
              "      <th>4</th>\n",
              "      <td>45</td>\n",
              "      <td>'2020/12/05'</td>\n",
              "      <td>117</td>\n",
              "      <td>148</td>\n",
              "      <td>406.0</td>\n",
              "    </tr>\n",
              "  </tbody>\n",
              "</table>\n",
              "</div>\n",
              "      <button class=\"colab-df-convert\" onclick=\"convertToInteractive('df-bf1f31d9-665a-4204-a8bd-bc5936484cce')\"\n",
              "              title=\"Convert this dataframe to an interactive table.\"\n",
              "              style=\"display:none;\">\n",
              "        \n",
              "  <svg xmlns=\"http://www.w3.org/2000/svg\" height=\"24px\"viewBox=\"0 0 24 24\"\n",
              "       width=\"24px\">\n",
              "    <path d=\"M0 0h24v24H0V0z\" fill=\"none\"/>\n",
              "    <path d=\"M18.56 5.44l.94 2.06.94-2.06 2.06-.94-2.06-.94-.94-2.06-.94 2.06-2.06.94zm-11 1L8.5 8.5l.94-2.06 2.06-.94-2.06-.94L8.5 2.5l-.94 2.06-2.06.94zm10 10l.94 2.06.94-2.06 2.06-.94-2.06-.94-.94-2.06-.94 2.06-2.06.94z\"/><path d=\"M17.41 7.96l-1.37-1.37c-.4-.4-.92-.59-1.43-.59-.52 0-1.04.2-1.43.59L10.3 9.45l-7.72 7.72c-.78.78-.78 2.05 0 2.83L4 21.41c.39.39.9.59 1.41.59.51 0 1.02-.2 1.41-.59l7.78-7.78 2.81-2.81c.8-.78.8-2.07 0-2.86zM5.41 20L4 18.59l7.72-7.72 1.47 1.35L5.41 20z\"/>\n",
              "  </svg>\n",
              "      </button>\n",
              "      \n",
              "  <style>\n",
              "    .colab-df-container {\n",
              "      display:flex;\n",
              "      flex-wrap:wrap;\n",
              "      gap: 12px;\n",
              "    }\n",
              "\n",
              "    .colab-df-convert {\n",
              "      background-color: #E8F0FE;\n",
              "      border: none;\n",
              "      border-radius: 50%;\n",
              "      cursor: pointer;\n",
              "      display: none;\n",
              "      fill: #1967D2;\n",
              "      height: 32px;\n",
              "      padding: 0 0 0 0;\n",
              "      width: 32px;\n",
              "    }\n",
              "\n",
              "    .colab-df-convert:hover {\n",
              "      background-color: #E2EBFA;\n",
              "      box-shadow: 0px 1px 2px rgba(60, 64, 67, 0.3), 0px 1px 3px 1px rgba(60, 64, 67, 0.15);\n",
              "      fill: #174EA6;\n",
              "    }\n",
              "\n",
              "    [theme=dark] .colab-df-convert {\n",
              "      background-color: #3B4455;\n",
              "      fill: #D2E3FC;\n",
              "    }\n",
              "\n",
              "    [theme=dark] .colab-df-convert:hover {\n",
              "      background-color: #434B5C;\n",
              "      box-shadow: 0px 1px 3px 1px rgba(0, 0, 0, 0.15);\n",
              "      filter: drop-shadow(0px 1px 2px rgba(0, 0, 0, 0.3));\n",
              "      fill: #FFFFFF;\n",
              "    }\n",
              "  </style>\n",
              "\n",
              "      <script>\n",
              "        const buttonEl =\n",
              "          document.querySelector('#df-bf1f31d9-665a-4204-a8bd-bc5936484cce button.colab-df-convert');\n",
              "        buttonEl.style.display =\n",
              "          google.colab.kernel.accessAllowed ? 'block' : 'none';\n",
              "\n",
              "        async function convertToInteractive(key) {\n",
              "          const element = document.querySelector('#df-bf1f31d9-665a-4204-a8bd-bc5936484cce');\n",
              "          const dataTable =\n",
              "            await google.colab.kernel.invokeFunction('convertToInteractive',\n",
              "                                                     [key], {});\n",
              "          if (!dataTable) return;\n",
              "\n",
              "          const docLinkHtml = 'Like what you see? Visit the ' +\n",
              "            '<a target=\"_blank\" href=https://colab.research.google.com/notebooks/data_table.ipynb>data table notebook</a>'\n",
              "            + ' to learn more about interactive tables.';\n",
              "          element.innerHTML = '';\n",
              "          dataTable['output_type'] = 'display_data';\n",
              "          await google.colab.output.renderOutput(dataTable, element);\n",
              "          const docLink = document.createElement('div');\n",
              "          docLink.innerHTML = docLinkHtml;\n",
              "          element.appendChild(docLink);\n",
              "        }\n",
              "      </script>\n",
              "    </div>\n",
              "  </div>\n",
              "  "
            ]
          },
          "metadata": {},
          "execution_count": 98
        }
      ]
    },
    {
      "cell_type": "markdown",
      "source": [
        "The data shows the details of Pulse, Maxpulse and calories in the month of December 2020. We need to check the general characteristics of the dataset"
      ],
      "metadata": {
        "id": "YoTpICYk_8L0"
      }
    },
    {
      "cell_type": "code",
      "source": [
        "df.shape"
      ],
      "metadata": {
        "colab": {
          "base_uri": "https://localhost:8080/"
        },
        "id": "sMEabUAjAYzp",
        "outputId": "007eb67f-5a16-47fc-db1c-331f8239331b"
      },
      "execution_count": 99,
      "outputs": [
        {
          "output_type": "execute_result",
          "data": {
            "text/plain": [
              "(32, 5)"
            ]
          },
          "metadata": {},
          "execution_count": 99
        }
      ]
    },
    {
      "cell_type": "markdown",
      "source": [
        "The dataset has 32 rows and 5 columns"
      ],
      "metadata": {
        "id": "nFBEz-grAdAR"
      }
    },
    {
      "cell_type": "code",
      "source": [
        "df.dtypes"
      ],
      "metadata": {
        "colab": {
          "base_uri": "https://localhost:8080/"
        },
        "id": "vF2dZzC1Ai6J",
        "outputId": "d8123972-6142-4041-ccbc-2c2baf57ff88"
      },
      "execution_count": 100,
      "outputs": [
        {
          "output_type": "execute_result",
          "data": {
            "text/plain": [
              "Duration      int64\n",
              "Date         object\n",
              "Pulse         int64\n",
              "Maxpulse      int64\n",
              "Calories    float64\n",
              "dtype: object"
            ]
          },
          "metadata": {},
          "execution_count": 100
        }
      ]
    },
    {
      "cell_type": "code",
      "source": [
        "df.info"
      ],
      "metadata": {
        "colab": {
          "base_uri": "https://localhost:8080/"
        },
        "id": "xPwJNHE7BGx7",
        "outputId": "3065f359-7016-4c56-b172-1d5f4edb1e9e"
      },
      "execution_count": 101,
      "outputs": [
        {
          "output_type": "execute_result",
          "data": {
            "text/plain": [
              "<bound method DataFrame.info of     Duration          Date  Pulse  Maxpulse  Calories\n",
              "0         60  '2020/12/01'    110       130     409.1\n",
              "1         60  '2020/12/02'    117       145     479.0\n",
              "2         60  '2020/12/03'    103       135     340.0\n",
              "3         45  '2020/12/04'    109       175     282.4\n",
              "4         45  '2020/12/05'    117       148     406.0\n",
              "5         60  '2020/12/06'    102       127     300.0\n",
              "6         60  '2020/12/07'    110       136     374.0\n",
              "7        450  '2020/12/08'    104       134     253.3\n",
              "8         30  '2020/12/09'    109       133     195.1\n",
              "9         60  '2020/12/10'     98       124     269.0\n",
              "10        60  '2020/12/11'    103       147     329.3\n",
              "11        60  '2020/12/12'    100       120     250.7\n",
              "12        60  '2020/12/12'    100       120     250.7\n",
              "13        60  '2020/12/13'    106       128     345.3\n",
              "14        60  '2020/12/14'    104       132     379.3\n",
              "15        60  '2020/12/15'     98       123     275.0\n",
              "16        60  '2020/12/16'     98       120     215.2\n",
              "17        60  '2020/12/17'    100       120     300.0\n",
              "18        45  '2020/12/18'     90       112       NaN\n",
              "19        60  '2020/12/19'    103       123     323.0\n",
              "20        45  '2020/12/20'     97       125     243.0\n",
              "21        60  '2020/12/21'    108       131     364.2\n",
              "22        45           NaN    100       119     282.0\n",
              "23        60  '2020/12/23'    130       101     300.0\n",
              "24        45  '2020/12/24'    105       132     246.0\n",
              "25        60  '2020/12/25'    102       126     334.5\n",
              "26        60      20201226    100       120     250.0\n",
              "27        60  '2020/12/27'     92       118     241.0\n",
              "28        60  '2020/12/28'    103       132       NaN\n",
              "29        60  '2020/12/29'    100       132     280.0\n",
              "30        60  '2020/12/30'    102       129     380.3\n",
              "31        60  '2020/12/31'     92       115     243.0>"
            ]
          },
          "metadata": {},
          "execution_count": 101
        }
      ]
    },
    {
      "cell_type": "code",
      "source": [
        "df.describe()"
      ],
      "metadata": {
        "colab": {
          "base_uri": "https://localhost:8080/",
          "height": 300
        },
        "id": "ouEmEbVRBK2H",
        "outputId": "fdfd840e-6a11-460b-c886-ee0827e104be"
      },
      "execution_count": 102,
      "outputs": [
        {
          "output_type": "execute_result",
          "data": {
            "text/plain": [
              "         Duration       Pulse    Maxpulse    Calories\n",
              "count   32.000000   32.000000   32.000000   30.000000\n",
              "mean    68.437500  103.500000  128.500000  304.680000\n",
              "std     70.039591    7.832933   12.998759   66.003779\n",
              "min     30.000000   90.000000  101.000000  195.100000\n",
              "25%     60.000000  100.000000  120.000000  250.700000\n",
              "50%     60.000000  102.500000  127.500000  291.200000\n",
              "75%     60.000000  106.500000  132.250000  343.975000\n",
              "max    450.000000  130.000000  175.000000  479.000000"
            ],
            "text/html": [
              "\n",
              "  <div id=\"df-8859be29-9314-4a17-95be-d23d65aaa107\">\n",
              "    <div class=\"colab-df-container\">\n",
              "      <div>\n",
              "<style scoped>\n",
              "    .dataframe tbody tr th:only-of-type {\n",
              "        vertical-align: middle;\n",
              "    }\n",
              "\n",
              "    .dataframe tbody tr th {\n",
              "        vertical-align: top;\n",
              "    }\n",
              "\n",
              "    .dataframe thead th {\n",
              "        text-align: right;\n",
              "    }\n",
              "</style>\n",
              "<table border=\"1\" class=\"dataframe\">\n",
              "  <thead>\n",
              "    <tr style=\"text-align: right;\">\n",
              "      <th></th>\n",
              "      <th>Duration</th>\n",
              "      <th>Pulse</th>\n",
              "      <th>Maxpulse</th>\n",
              "      <th>Calories</th>\n",
              "    </tr>\n",
              "  </thead>\n",
              "  <tbody>\n",
              "    <tr>\n",
              "      <th>count</th>\n",
              "      <td>32.000000</td>\n",
              "      <td>32.000000</td>\n",
              "      <td>32.000000</td>\n",
              "      <td>30.000000</td>\n",
              "    </tr>\n",
              "    <tr>\n",
              "      <th>mean</th>\n",
              "      <td>68.437500</td>\n",
              "      <td>103.500000</td>\n",
              "      <td>128.500000</td>\n",
              "      <td>304.680000</td>\n",
              "    </tr>\n",
              "    <tr>\n",
              "      <th>std</th>\n",
              "      <td>70.039591</td>\n",
              "      <td>7.832933</td>\n",
              "      <td>12.998759</td>\n",
              "      <td>66.003779</td>\n",
              "    </tr>\n",
              "    <tr>\n",
              "      <th>min</th>\n",
              "      <td>30.000000</td>\n",
              "      <td>90.000000</td>\n",
              "      <td>101.000000</td>\n",
              "      <td>195.100000</td>\n",
              "    </tr>\n",
              "    <tr>\n",
              "      <th>25%</th>\n",
              "      <td>60.000000</td>\n",
              "      <td>100.000000</td>\n",
              "      <td>120.000000</td>\n",
              "      <td>250.700000</td>\n",
              "    </tr>\n",
              "    <tr>\n",
              "      <th>50%</th>\n",
              "      <td>60.000000</td>\n",
              "      <td>102.500000</td>\n",
              "      <td>127.500000</td>\n",
              "      <td>291.200000</td>\n",
              "    </tr>\n",
              "    <tr>\n",
              "      <th>75%</th>\n",
              "      <td>60.000000</td>\n",
              "      <td>106.500000</td>\n",
              "      <td>132.250000</td>\n",
              "      <td>343.975000</td>\n",
              "    </tr>\n",
              "    <tr>\n",
              "      <th>max</th>\n",
              "      <td>450.000000</td>\n",
              "      <td>130.000000</td>\n",
              "      <td>175.000000</td>\n",
              "      <td>479.000000</td>\n",
              "    </tr>\n",
              "  </tbody>\n",
              "</table>\n",
              "</div>\n",
              "      <button class=\"colab-df-convert\" onclick=\"convertToInteractive('df-8859be29-9314-4a17-95be-d23d65aaa107')\"\n",
              "              title=\"Convert this dataframe to an interactive table.\"\n",
              "              style=\"display:none;\">\n",
              "        \n",
              "  <svg xmlns=\"http://www.w3.org/2000/svg\" height=\"24px\"viewBox=\"0 0 24 24\"\n",
              "       width=\"24px\">\n",
              "    <path d=\"M0 0h24v24H0V0z\" fill=\"none\"/>\n",
              "    <path d=\"M18.56 5.44l.94 2.06.94-2.06 2.06-.94-2.06-.94-.94-2.06-.94 2.06-2.06.94zm-11 1L8.5 8.5l.94-2.06 2.06-.94-2.06-.94L8.5 2.5l-.94 2.06-2.06.94zm10 10l.94 2.06.94-2.06 2.06-.94-2.06-.94-.94-2.06-.94 2.06-2.06.94z\"/><path d=\"M17.41 7.96l-1.37-1.37c-.4-.4-.92-.59-1.43-.59-.52 0-1.04.2-1.43.59L10.3 9.45l-7.72 7.72c-.78.78-.78 2.05 0 2.83L4 21.41c.39.39.9.59 1.41.59.51 0 1.02-.2 1.41-.59l7.78-7.78 2.81-2.81c.8-.78.8-2.07 0-2.86zM5.41 20L4 18.59l7.72-7.72 1.47 1.35L5.41 20z\"/>\n",
              "  </svg>\n",
              "      </button>\n",
              "      \n",
              "  <style>\n",
              "    .colab-df-container {\n",
              "      display:flex;\n",
              "      flex-wrap:wrap;\n",
              "      gap: 12px;\n",
              "    }\n",
              "\n",
              "    .colab-df-convert {\n",
              "      background-color: #E8F0FE;\n",
              "      border: none;\n",
              "      border-radius: 50%;\n",
              "      cursor: pointer;\n",
              "      display: none;\n",
              "      fill: #1967D2;\n",
              "      height: 32px;\n",
              "      padding: 0 0 0 0;\n",
              "      width: 32px;\n",
              "    }\n",
              "\n",
              "    .colab-df-convert:hover {\n",
              "      background-color: #E2EBFA;\n",
              "      box-shadow: 0px 1px 2px rgba(60, 64, 67, 0.3), 0px 1px 3px 1px rgba(60, 64, 67, 0.15);\n",
              "      fill: #174EA6;\n",
              "    }\n",
              "\n",
              "    [theme=dark] .colab-df-convert {\n",
              "      background-color: #3B4455;\n",
              "      fill: #D2E3FC;\n",
              "    }\n",
              "\n",
              "    [theme=dark] .colab-df-convert:hover {\n",
              "      background-color: #434B5C;\n",
              "      box-shadow: 0px 1px 3px 1px rgba(0, 0, 0, 0.15);\n",
              "      filter: drop-shadow(0px 1px 2px rgba(0, 0, 0, 0.3));\n",
              "      fill: #FFFFFF;\n",
              "    }\n",
              "  </style>\n",
              "\n",
              "      <script>\n",
              "        const buttonEl =\n",
              "          document.querySelector('#df-8859be29-9314-4a17-95be-d23d65aaa107 button.colab-df-convert');\n",
              "        buttonEl.style.display =\n",
              "          google.colab.kernel.accessAllowed ? 'block' : 'none';\n",
              "\n",
              "        async function convertToInteractive(key) {\n",
              "          const element = document.querySelector('#df-8859be29-9314-4a17-95be-d23d65aaa107');\n",
              "          const dataTable =\n",
              "            await google.colab.kernel.invokeFunction('convertToInteractive',\n",
              "                                                     [key], {});\n",
              "          if (!dataTable) return;\n",
              "\n",
              "          const docLinkHtml = 'Like what you see? Visit the ' +\n",
              "            '<a target=\"_blank\" href=https://colab.research.google.com/notebooks/data_table.ipynb>data table notebook</a>'\n",
              "            + ' to learn more about interactive tables.';\n",
              "          element.innerHTML = '';\n",
              "          dataTable['output_type'] = 'display_data';\n",
              "          await google.colab.output.renderOutput(dataTable, element);\n",
              "          const docLink = document.createElement('div');\n",
              "          docLink.innerHTML = docLinkHtml;\n",
              "          element.appendChild(docLink);\n",
              "        }\n",
              "      </script>\n",
              "    </div>\n",
              "  </div>\n",
              "  "
            ]
          },
          "metadata": {},
          "execution_count": 102
        }
      ]
    },
    {
      "cell_type": "markdown",
      "source": [
        "It is necessary to check whether the given data set is clean. For this, check whether the dataset is having null values"
      ],
      "metadata": {
        "id": "ahGz7rBkAKKA"
      }
    },
    {
      "cell_type": "code",
      "source": [
        "df.isna().sum()\n"
      ],
      "metadata": {
        "colab": {
          "base_uri": "https://localhost:8080/"
        },
        "id": "p5U5S3v9AUXA",
        "outputId": "0ed9320d-ca6b-4d07-bf5b-ce0db43703ec"
      },
      "execution_count": 103,
      "outputs": [
        {
          "output_type": "execute_result",
          "data": {
            "text/plain": [
              "Duration    0\n",
              "Date        1\n",
              "Pulse       0\n",
              "Maxpulse    0\n",
              "Calories    2\n",
              "dtype: int64"
            ]
          },
          "metadata": {},
          "execution_count": 103
        }
      ]
    },
    {
      "cell_type": "markdown",
      "source": [
        "It is seen that we have one null value under Date column and 2 null values under Calories column. Now this needs to be handled to make the dataset clean.\n",
        "The null data cannot be dropped as the data set is small."
      ],
      "metadata": {
        "id": "g13v3uIdBTvg"
      }
    },
    {
      "cell_type": "markdown",
      "source": [
        "It is seen that one date value is in different date format. This needs to be changed. The Date field is shown as 'Object' field, this needs to be changed to Date field"
      ],
      "metadata": {
        "id": "rR0K-ZZPD0Cn"
      }
    },
    {
      "cell_type": "code",
      "source": [
        "df['Date'] = pd.to_datetime(df['Date'])\n",
        "df"
      ],
      "metadata": {
        "colab": {
          "base_uri": "https://localhost:8080/",
          "height": 1000
        },
        "id": "KBZYvgIzAEAc",
        "outputId": "367f7fc9-1595-47e0-eccc-6f4485aedacb"
      },
      "execution_count": 104,
      "outputs": [
        {
          "output_type": "execute_result",
          "data": {
            "text/plain": [
              "    Duration       Date  Pulse  Maxpulse  Calories\n",
              "0         60 2020-12-01    110       130     409.1\n",
              "1         60 2020-12-02    117       145     479.0\n",
              "2         60 2020-12-03    103       135     340.0\n",
              "3         45 2020-12-04    109       175     282.4\n",
              "4         45 2020-12-05    117       148     406.0\n",
              "5         60 2020-12-06    102       127     300.0\n",
              "6         60 2020-12-07    110       136     374.0\n",
              "7        450 2020-12-08    104       134     253.3\n",
              "8         30 2020-12-09    109       133     195.1\n",
              "9         60 2020-12-10     98       124     269.0\n",
              "10        60 2020-12-11    103       147     329.3\n",
              "11        60 2020-12-12    100       120     250.7\n",
              "12        60 2020-12-12    100       120     250.7\n",
              "13        60 2020-12-13    106       128     345.3\n",
              "14        60 2020-12-14    104       132     379.3\n",
              "15        60 2020-12-15     98       123     275.0\n",
              "16        60 2020-12-16     98       120     215.2\n",
              "17        60 2020-12-17    100       120     300.0\n",
              "18        45 2020-12-18     90       112       NaN\n",
              "19        60 2020-12-19    103       123     323.0\n",
              "20        45 2020-12-20     97       125     243.0\n",
              "21        60 2020-12-21    108       131     364.2\n",
              "22        45        NaT    100       119     282.0\n",
              "23        60 2020-12-23    130       101     300.0\n",
              "24        45 2020-12-24    105       132     246.0\n",
              "25        60 2020-12-25    102       126     334.5\n",
              "26        60 2020-12-26    100       120     250.0\n",
              "27        60 2020-12-27     92       118     241.0\n",
              "28        60 2020-12-28    103       132       NaN\n",
              "29        60 2020-12-29    100       132     280.0\n",
              "30        60 2020-12-30    102       129     380.3\n",
              "31        60 2020-12-31     92       115     243.0"
            ],
            "text/html": [
              "\n",
              "  <div id=\"df-d8402b23-e76e-41f9-8c26-5e68a80db553\">\n",
              "    <div class=\"colab-df-container\">\n",
              "      <div>\n",
              "<style scoped>\n",
              "    .dataframe tbody tr th:only-of-type {\n",
              "        vertical-align: middle;\n",
              "    }\n",
              "\n",
              "    .dataframe tbody tr th {\n",
              "        vertical-align: top;\n",
              "    }\n",
              "\n",
              "    .dataframe thead th {\n",
              "        text-align: right;\n",
              "    }\n",
              "</style>\n",
              "<table border=\"1\" class=\"dataframe\">\n",
              "  <thead>\n",
              "    <tr style=\"text-align: right;\">\n",
              "      <th></th>\n",
              "      <th>Duration</th>\n",
              "      <th>Date</th>\n",
              "      <th>Pulse</th>\n",
              "      <th>Maxpulse</th>\n",
              "      <th>Calories</th>\n",
              "    </tr>\n",
              "  </thead>\n",
              "  <tbody>\n",
              "    <tr>\n",
              "      <th>0</th>\n",
              "      <td>60</td>\n",
              "      <td>2020-12-01</td>\n",
              "      <td>110</td>\n",
              "      <td>130</td>\n",
              "      <td>409.1</td>\n",
              "    </tr>\n",
              "    <tr>\n",
              "      <th>1</th>\n",
              "      <td>60</td>\n",
              "      <td>2020-12-02</td>\n",
              "      <td>117</td>\n",
              "      <td>145</td>\n",
              "      <td>479.0</td>\n",
              "    </tr>\n",
              "    <tr>\n",
              "      <th>2</th>\n",
              "      <td>60</td>\n",
              "      <td>2020-12-03</td>\n",
              "      <td>103</td>\n",
              "      <td>135</td>\n",
              "      <td>340.0</td>\n",
              "    </tr>\n",
              "    <tr>\n",
              "      <th>3</th>\n",
              "      <td>45</td>\n",
              "      <td>2020-12-04</td>\n",
              "      <td>109</td>\n",
              "      <td>175</td>\n",
              "      <td>282.4</td>\n",
              "    </tr>\n",
              "    <tr>\n",
              "      <th>4</th>\n",
              "      <td>45</td>\n",
              "      <td>2020-12-05</td>\n",
              "      <td>117</td>\n",
              "      <td>148</td>\n",
              "      <td>406.0</td>\n",
              "    </tr>\n",
              "    <tr>\n",
              "      <th>5</th>\n",
              "      <td>60</td>\n",
              "      <td>2020-12-06</td>\n",
              "      <td>102</td>\n",
              "      <td>127</td>\n",
              "      <td>300.0</td>\n",
              "    </tr>\n",
              "    <tr>\n",
              "      <th>6</th>\n",
              "      <td>60</td>\n",
              "      <td>2020-12-07</td>\n",
              "      <td>110</td>\n",
              "      <td>136</td>\n",
              "      <td>374.0</td>\n",
              "    </tr>\n",
              "    <tr>\n",
              "      <th>7</th>\n",
              "      <td>450</td>\n",
              "      <td>2020-12-08</td>\n",
              "      <td>104</td>\n",
              "      <td>134</td>\n",
              "      <td>253.3</td>\n",
              "    </tr>\n",
              "    <tr>\n",
              "      <th>8</th>\n",
              "      <td>30</td>\n",
              "      <td>2020-12-09</td>\n",
              "      <td>109</td>\n",
              "      <td>133</td>\n",
              "      <td>195.1</td>\n",
              "    </tr>\n",
              "    <tr>\n",
              "      <th>9</th>\n",
              "      <td>60</td>\n",
              "      <td>2020-12-10</td>\n",
              "      <td>98</td>\n",
              "      <td>124</td>\n",
              "      <td>269.0</td>\n",
              "    </tr>\n",
              "    <tr>\n",
              "      <th>10</th>\n",
              "      <td>60</td>\n",
              "      <td>2020-12-11</td>\n",
              "      <td>103</td>\n",
              "      <td>147</td>\n",
              "      <td>329.3</td>\n",
              "    </tr>\n",
              "    <tr>\n",
              "      <th>11</th>\n",
              "      <td>60</td>\n",
              "      <td>2020-12-12</td>\n",
              "      <td>100</td>\n",
              "      <td>120</td>\n",
              "      <td>250.7</td>\n",
              "    </tr>\n",
              "    <tr>\n",
              "      <th>12</th>\n",
              "      <td>60</td>\n",
              "      <td>2020-12-12</td>\n",
              "      <td>100</td>\n",
              "      <td>120</td>\n",
              "      <td>250.7</td>\n",
              "    </tr>\n",
              "    <tr>\n",
              "      <th>13</th>\n",
              "      <td>60</td>\n",
              "      <td>2020-12-13</td>\n",
              "      <td>106</td>\n",
              "      <td>128</td>\n",
              "      <td>345.3</td>\n",
              "    </tr>\n",
              "    <tr>\n",
              "      <th>14</th>\n",
              "      <td>60</td>\n",
              "      <td>2020-12-14</td>\n",
              "      <td>104</td>\n",
              "      <td>132</td>\n",
              "      <td>379.3</td>\n",
              "    </tr>\n",
              "    <tr>\n",
              "      <th>15</th>\n",
              "      <td>60</td>\n",
              "      <td>2020-12-15</td>\n",
              "      <td>98</td>\n",
              "      <td>123</td>\n",
              "      <td>275.0</td>\n",
              "    </tr>\n",
              "    <tr>\n",
              "      <th>16</th>\n",
              "      <td>60</td>\n",
              "      <td>2020-12-16</td>\n",
              "      <td>98</td>\n",
              "      <td>120</td>\n",
              "      <td>215.2</td>\n",
              "    </tr>\n",
              "    <tr>\n",
              "      <th>17</th>\n",
              "      <td>60</td>\n",
              "      <td>2020-12-17</td>\n",
              "      <td>100</td>\n",
              "      <td>120</td>\n",
              "      <td>300.0</td>\n",
              "    </tr>\n",
              "    <tr>\n",
              "      <th>18</th>\n",
              "      <td>45</td>\n",
              "      <td>2020-12-18</td>\n",
              "      <td>90</td>\n",
              "      <td>112</td>\n",
              "      <td>NaN</td>\n",
              "    </tr>\n",
              "    <tr>\n",
              "      <th>19</th>\n",
              "      <td>60</td>\n",
              "      <td>2020-12-19</td>\n",
              "      <td>103</td>\n",
              "      <td>123</td>\n",
              "      <td>323.0</td>\n",
              "    </tr>\n",
              "    <tr>\n",
              "      <th>20</th>\n",
              "      <td>45</td>\n",
              "      <td>2020-12-20</td>\n",
              "      <td>97</td>\n",
              "      <td>125</td>\n",
              "      <td>243.0</td>\n",
              "    </tr>\n",
              "    <tr>\n",
              "      <th>21</th>\n",
              "      <td>60</td>\n",
              "      <td>2020-12-21</td>\n",
              "      <td>108</td>\n",
              "      <td>131</td>\n",
              "      <td>364.2</td>\n",
              "    </tr>\n",
              "    <tr>\n",
              "      <th>22</th>\n",
              "      <td>45</td>\n",
              "      <td>NaT</td>\n",
              "      <td>100</td>\n",
              "      <td>119</td>\n",
              "      <td>282.0</td>\n",
              "    </tr>\n",
              "    <tr>\n",
              "      <th>23</th>\n",
              "      <td>60</td>\n",
              "      <td>2020-12-23</td>\n",
              "      <td>130</td>\n",
              "      <td>101</td>\n",
              "      <td>300.0</td>\n",
              "    </tr>\n",
              "    <tr>\n",
              "      <th>24</th>\n",
              "      <td>45</td>\n",
              "      <td>2020-12-24</td>\n",
              "      <td>105</td>\n",
              "      <td>132</td>\n",
              "      <td>246.0</td>\n",
              "    </tr>\n",
              "    <tr>\n",
              "      <th>25</th>\n",
              "      <td>60</td>\n",
              "      <td>2020-12-25</td>\n",
              "      <td>102</td>\n",
              "      <td>126</td>\n",
              "      <td>334.5</td>\n",
              "    </tr>\n",
              "    <tr>\n",
              "      <th>26</th>\n",
              "      <td>60</td>\n",
              "      <td>2020-12-26</td>\n",
              "      <td>100</td>\n",
              "      <td>120</td>\n",
              "      <td>250.0</td>\n",
              "    </tr>\n",
              "    <tr>\n",
              "      <th>27</th>\n",
              "      <td>60</td>\n",
              "      <td>2020-12-27</td>\n",
              "      <td>92</td>\n",
              "      <td>118</td>\n",
              "      <td>241.0</td>\n",
              "    </tr>\n",
              "    <tr>\n",
              "      <th>28</th>\n",
              "      <td>60</td>\n",
              "      <td>2020-12-28</td>\n",
              "      <td>103</td>\n",
              "      <td>132</td>\n",
              "      <td>NaN</td>\n",
              "    </tr>\n",
              "    <tr>\n",
              "      <th>29</th>\n",
              "      <td>60</td>\n",
              "      <td>2020-12-29</td>\n",
              "      <td>100</td>\n",
              "      <td>132</td>\n",
              "      <td>280.0</td>\n",
              "    </tr>\n",
              "    <tr>\n",
              "      <th>30</th>\n",
              "      <td>60</td>\n",
              "      <td>2020-12-30</td>\n",
              "      <td>102</td>\n",
              "      <td>129</td>\n",
              "      <td>380.3</td>\n",
              "    </tr>\n",
              "    <tr>\n",
              "      <th>31</th>\n",
              "      <td>60</td>\n",
              "      <td>2020-12-31</td>\n",
              "      <td>92</td>\n",
              "      <td>115</td>\n",
              "      <td>243.0</td>\n",
              "    </tr>\n",
              "  </tbody>\n",
              "</table>\n",
              "</div>\n",
              "      <button class=\"colab-df-convert\" onclick=\"convertToInteractive('df-d8402b23-e76e-41f9-8c26-5e68a80db553')\"\n",
              "              title=\"Convert this dataframe to an interactive table.\"\n",
              "              style=\"display:none;\">\n",
              "        \n",
              "  <svg xmlns=\"http://www.w3.org/2000/svg\" height=\"24px\"viewBox=\"0 0 24 24\"\n",
              "       width=\"24px\">\n",
              "    <path d=\"M0 0h24v24H0V0z\" fill=\"none\"/>\n",
              "    <path d=\"M18.56 5.44l.94 2.06.94-2.06 2.06-.94-2.06-.94-.94-2.06-.94 2.06-2.06.94zm-11 1L8.5 8.5l.94-2.06 2.06-.94-2.06-.94L8.5 2.5l-.94 2.06-2.06.94zm10 10l.94 2.06.94-2.06 2.06-.94-2.06-.94-.94-2.06-.94 2.06-2.06.94z\"/><path d=\"M17.41 7.96l-1.37-1.37c-.4-.4-.92-.59-1.43-.59-.52 0-1.04.2-1.43.59L10.3 9.45l-7.72 7.72c-.78.78-.78 2.05 0 2.83L4 21.41c.39.39.9.59 1.41.59.51 0 1.02-.2 1.41-.59l7.78-7.78 2.81-2.81c.8-.78.8-2.07 0-2.86zM5.41 20L4 18.59l7.72-7.72 1.47 1.35L5.41 20z\"/>\n",
              "  </svg>\n",
              "      </button>\n",
              "      \n",
              "  <style>\n",
              "    .colab-df-container {\n",
              "      display:flex;\n",
              "      flex-wrap:wrap;\n",
              "      gap: 12px;\n",
              "    }\n",
              "\n",
              "    .colab-df-convert {\n",
              "      background-color: #E8F0FE;\n",
              "      border: none;\n",
              "      border-radius: 50%;\n",
              "      cursor: pointer;\n",
              "      display: none;\n",
              "      fill: #1967D2;\n",
              "      height: 32px;\n",
              "      padding: 0 0 0 0;\n",
              "      width: 32px;\n",
              "    }\n",
              "\n",
              "    .colab-df-convert:hover {\n",
              "      background-color: #E2EBFA;\n",
              "      box-shadow: 0px 1px 2px rgba(60, 64, 67, 0.3), 0px 1px 3px 1px rgba(60, 64, 67, 0.15);\n",
              "      fill: #174EA6;\n",
              "    }\n",
              "\n",
              "    [theme=dark] .colab-df-convert {\n",
              "      background-color: #3B4455;\n",
              "      fill: #D2E3FC;\n",
              "    }\n",
              "\n",
              "    [theme=dark] .colab-df-convert:hover {\n",
              "      background-color: #434B5C;\n",
              "      box-shadow: 0px 1px 3px 1px rgba(0, 0, 0, 0.15);\n",
              "      filter: drop-shadow(0px 1px 2px rgba(0, 0, 0, 0.3));\n",
              "      fill: #FFFFFF;\n",
              "    }\n",
              "  </style>\n",
              "\n",
              "      <script>\n",
              "        const buttonEl =\n",
              "          document.querySelector('#df-d8402b23-e76e-41f9-8c26-5e68a80db553 button.colab-df-convert');\n",
              "        buttonEl.style.display =\n",
              "          google.colab.kernel.accessAllowed ? 'block' : 'none';\n",
              "\n",
              "        async function convertToInteractive(key) {\n",
              "          const element = document.querySelector('#df-d8402b23-e76e-41f9-8c26-5e68a80db553');\n",
              "          const dataTable =\n",
              "            await google.colab.kernel.invokeFunction('convertToInteractive',\n",
              "                                                     [key], {});\n",
              "          if (!dataTable) return;\n",
              "\n",
              "          const docLinkHtml = 'Like what you see? Visit the ' +\n",
              "            '<a target=\"_blank\" href=https://colab.research.google.com/notebooks/data_table.ipynb>data table notebook</a>'\n",
              "            + ' to learn more about interactive tables.';\n",
              "          element.innerHTML = '';\n",
              "          dataTable['output_type'] = 'display_data';\n",
              "          await google.colab.output.renderOutput(dataTable, element);\n",
              "          const docLink = document.createElement('div');\n",
              "          docLink.innerHTML = docLinkHtml;\n",
              "          element.appendChild(docLink);\n",
              "        }\n",
              "      </script>\n",
              "    </div>\n",
              "  </div>\n",
              "  "
            ]
          },
          "metadata": {},
          "execution_count": 104
        }
      ]
    },
    {
      "cell_type": "code",
      "source": [
        "df.dtypes"
      ],
      "metadata": {
        "colab": {
          "base_uri": "https://localhost:8080/"
        },
        "id": "e7XJxENvD_PI",
        "outputId": "86e0db7f-4026-4485-e9e2-4a90a3b4583e"
      },
      "execution_count": 105,
      "outputs": [
        {
          "output_type": "execute_result",
          "data": {
            "text/plain": [
              "Duration             int64\n",
              "Date        datetime64[ns]\n",
              "Pulse                int64\n",
              "Maxpulse             int64\n",
              "Calories           float64\n",
              "dtype: object"
            ]
          },
          "metadata": {},
          "execution_count": 105
        }
      ]
    },
    {
      "cell_type": "markdown",
      "source": [
        "Now, the type of Date field is changed to **datetime**"
      ],
      "metadata": {
        "id": "5ciha1NnEQdM"
      }
    },
    {
      "cell_type": "markdown",
      "source": [
        "Now, we need to handle the null value available in Date columnn and Calories column\n",
        "Checking the Dte column, it is understood that the date 2020-12-22 is missed in the 22nd row. As this is a small dataset containing only 31 rows and all the date values are in order, we can assume that the date value is 2020-12-22.\n",
        "Similarly, we can assume that the duration mentioned in the 7th row, 450 is a type. The same can be updated as 45."
      ],
      "metadata": {
        "id": "hQQ54FJxE_7I"
      }
    },
    {
      "cell_type": "code",
      "source": [
        "df.at[22,'Date']='2020-12-22'\n",
        "df.at[7,'Duration']='45'\n",
        "df"
      ],
      "metadata": {
        "colab": {
          "base_uri": "https://localhost:8080/",
          "height": 1000
        },
        "id": "B9U2wstZFGfq",
        "outputId": "fa470913-c960-4680-c7f9-b2bb1a6d6f88"
      },
      "execution_count": 106,
      "outputs": [
        {
          "output_type": "execute_result",
          "data": {
            "text/plain": [
              "    Duration       Date  Pulse  Maxpulse  Calories\n",
              "0         60 2020-12-01    110       130     409.1\n",
              "1         60 2020-12-02    117       145     479.0\n",
              "2         60 2020-12-03    103       135     340.0\n",
              "3         45 2020-12-04    109       175     282.4\n",
              "4         45 2020-12-05    117       148     406.0\n",
              "5         60 2020-12-06    102       127     300.0\n",
              "6         60 2020-12-07    110       136     374.0\n",
              "7         45 2020-12-08    104       134     253.3\n",
              "8         30 2020-12-09    109       133     195.1\n",
              "9         60 2020-12-10     98       124     269.0\n",
              "10        60 2020-12-11    103       147     329.3\n",
              "11        60 2020-12-12    100       120     250.7\n",
              "12        60 2020-12-12    100       120     250.7\n",
              "13        60 2020-12-13    106       128     345.3\n",
              "14        60 2020-12-14    104       132     379.3\n",
              "15        60 2020-12-15     98       123     275.0\n",
              "16        60 2020-12-16     98       120     215.2\n",
              "17        60 2020-12-17    100       120     300.0\n",
              "18        45 2020-12-18     90       112       NaN\n",
              "19        60 2020-12-19    103       123     323.0\n",
              "20        45 2020-12-20     97       125     243.0\n",
              "21        60 2020-12-21    108       131     364.2\n",
              "22        45 2020-12-22    100       119     282.0\n",
              "23        60 2020-12-23    130       101     300.0\n",
              "24        45 2020-12-24    105       132     246.0\n",
              "25        60 2020-12-25    102       126     334.5\n",
              "26        60 2020-12-26    100       120     250.0\n",
              "27        60 2020-12-27     92       118     241.0\n",
              "28        60 2020-12-28    103       132       NaN\n",
              "29        60 2020-12-29    100       132     280.0\n",
              "30        60 2020-12-30    102       129     380.3\n",
              "31        60 2020-12-31     92       115     243.0"
            ],
            "text/html": [
              "\n",
              "  <div id=\"df-ec68a9fc-bebe-4c18-8336-1b6b3bacce95\">\n",
              "    <div class=\"colab-df-container\">\n",
              "      <div>\n",
              "<style scoped>\n",
              "    .dataframe tbody tr th:only-of-type {\n",
              "        vertical-align: middle;\n",
              "    }\n",
              "\n",
              "    .dataframe tbody tr th {\n",
              "        vertical-align: top;\n",
              "    }\n",
              "\n",
              "    .dataframe thead th {\n",
              "        text-align: right;\n",
              "    }\n",
              "</style>\n",
              "<table border=\"1\" class=\"dataframe\">\n",
              "  <thead>\n",
              "    <tr style=\"text-align: right;\">\n",
              "      <th></th>\n",
              "      <th>Duration</th>\n",
              "      <th>Date</th>\n",
              "      <th>Pulse</th>\n",
              "      <th>Maxpulse</th>\n",
              "      <th>Calories</th>\n",
              "    </tr>\n",
              "  </thead>\n",
              "  <tbody>\n",
              "    <tr>\n",
              "      <th>0</th>\n",
              "      <td>60</td>\n",
              "      <td>2020-12-01</td>\n",
              "      <td>110</td>\n",
              "      <td>130</td>\n",
              "      <td>409.1</td>\n",
              "    </tr>\n",
              "    <tr>\n",
              "      <th>1</th>\n",
              "      <td>60</td>\n",
              "      <td>2020-12-02</td>\n",
              "      <td>117</td>\n",
              "      <td>145</td>\n",
              "      <td>479.0</td>\n",
              "    </tr>\n",
              "    <tr>\n",
              "      <th>2</th>\n",
              "      <td>60</td>\n",
              "      <td>2020-12-03</td>\n",
              "      <td>103</td>\n",
              "      <td>135</td>\n",
              "      <td>340.0</td>\n",
              "    </tr>\n",
              "    <tr>\n",
              "      <th>3</th>\n",
              "      <td>45</td>\n",
              "      <td>2020-12-04</td>\n",
              "      <td>109</td>\n",
              "      <td>175</td>\n",
              "      <td>282.4</td>\n",
              "    </tr>\n",
              "    <tr>\n",
              "      <th>4</th>\n",
              "      <td>45</td>\n",
              "      <td>2020-12-05</td>\n",
              "      <td>117</td>\n",
              "      <td>148</td>\n",
              "      <td>406.0</td>\n",
              "    </tr>\n",
              "    <tr>\n",
              "      <th>5</th>\n",
              "      <td>60</td>\n",
              "      <td>2020-12-06</td>\n",
              "      <td>102</td>\n",
              "      <td>127</td>\n",
              "      <td>300.0</td>\n",
              "    </tr>\n",
              "    <tr>\n",
              "      <th>6</th>\n",
              "      <td>60</td>\n",
              "      <td>2020-12-07</td>\n",
              "      <td>110</td>\n",
              "      <td>136</td>\n",
              "      <td>374.0</td>\n",
              "    </tr>\n",
              "    <tr>\n",
              "      <th>7</th>\n",
              "      <td>45</td>\n",
              "      <td>2020-12-08</td>\n",
              "      <td>104</td>\n",
              "      <td>134</td>\n",
              "      <td>253.3</td>\n",
              "    </tr>\n",
              "    <tr>\n",
              "      <th>8</th>\n",
              "      <td>30</td>\n",
              "      <td>2020-12-09</td>\n",
              "      <td>109</td>\n",
              "      <td>133</td>\n",
              "      <td>195.1</td>\n",
              "    </tr>\n",
              "    <tr>\n",
              "      <th>9</th>\n",
              "      <td>60</td>\n",
              "      <td>2020-12-10</td>\n",
              "      <td>98</td>\n",
              "      <td>124</td>\n",
              "      <td>269.0</td>\n",
              "    </tr>\n",
              "    <tr>\n",
              "      <th>10</th>\n",
              "      <td>60</td>\n",
              "      <td>2020-12-11</td>\n",
              "      <td>103</td>\n",
              "      <td>147</td>\n",
              "      <td>329.3</td>\n",
              "    </tr>\n",
              "    <tr>\n",
              "      <th>11</th>\n",
              "      <td>60</td>\n",
              "      <td>2020-12-12</td>\n",
              "      <td>100</td>\n",
              "      <td>120</td>\n",
              "      <td>250.7</td>\n",
              "    </tr>\n",
              "    <tr>\n",
              "      <th>12</th>\n",
              "      <td>60</td>\n",
              "      <td>2020-12-12</td>\n",
              "      <td>100</td>\n",
              "      <td>120</td>\n",
              "      <td>250.7</td>\n",
              "    </tr>\n",
              "    <tr>\n",
              "      <th>13</th>\n",
              "      <td>60</td>\n",
              "      <td>2020-12-13</td>\n",
              "      <td>106</td>\n",
              "      <td>128</td>\n",
              "      <td>345.3</td>\n",
              "    </tr>\n",
              "    <tr>\n",
              "      <th>14</th>\n",
              "      <td>60</td>\n",
              "      <td>2020-12-14</td>\n",
              "      <td>104</td>\n",
              "      <td>132</td>\n",
              "      <td>379.3</td>\n",
              "    </tr>\n",
              "    <tr>\n",
              "      <th>15</th>\n",
              "      <td>60</td>\n",
              "      <td>2020-12-15</td>\n",
              "      <td>98</td>\n",
              "      <td>123</td>\n",
              "      <td>275.0</td>\n",
              "    </tr>\n",
              "    <tr>\n",
              "      <th>16</th>\n",
              "      <td>60</td>\n",
              "      <td>2020-12-16</td>\n",
              "      <td>98</td>\n",
              "      <td>120</td>\n",
              "      <td>215.2</td>\n",
              "    </tr>\n",
              "    <tr>\n",
              "      <th>17</th>\n",
              "      <td>60</td>\n",
              "      <td>2020-12-17</td>\n",
              "      <td>100</td>\n",
              "      <td>120</td>\n",
              "      <td>300.0</td>\n",
              "    </tr>\n",
              "    <tr>\n",
              "      <th>18</th>\n",
              "      <td>45</td>\n",
              "      <td>2020-12-18</td>\n",
              "      <td>90</td>\n",
              "      <td>112</td>\n",
              "      <td>NaN</td>\n",
              "    </tr>\n",
              "    <tr>\n",
              "      <th>19</th>\n",
              "      <td>60</td>\n",
              "      <td>2020-12-19</td>\n",
              "      <td>103</td>\n",
              "      <td>123</td>\n",
              "      <td>323.0</td>\n",
              "    </tr>\n",
              "    <tr>\n",
              "      <th>20</th>\n",
              "      <td>45</td>\n",
              "      <td>2020-12-20</td>\n",
              "      <td>97</td>\n",
              "      <td>125</td>\n",
              "      <td>243.0</td>\n",
              "    </tr>\n",
              "    <tr>\n",
              "      <th>21</th>\n",
              "      <td>60</td>\n",
              "      <td>2020-12-21</td>\n",
              "      <td>108</td>\n",
              "      <td>131</td>\n",
              "      <td>364.2</td>\n",
              "    </tr>\n",
              "    <tr>\n",
              "      <th>22</th>\n",
              "      <td>45</td>\n",
              "      <td>2020-12-22</td>\n",
              "      <td>100</td>\n",
              "      <td>119</td>\n",
              "      <td>282.0</td>\n",
              "    </tr>\n",
              "    <tr>\n",
              "      <th>23</th>\n",
              "      <td>60</td>\n",
              "      <td>2020-12-23</td>\n",
              "      <td>130</td>\n",
              "      <td>101</td>\n",
              "      <td>300.0</td>\n",
              "    </tr>\n",
              "    <tr>\n",
              "      <th>24</th>\n",
              "      <td>45</td>\n",
              "      <td>2020-12-24</td>\n",
              "      <td>105</td>\n",
              "      <td>132</td>\n",
              "      <td>246.0</td>\n",
              "    </tr>\n",
              "    <tr>\n",
              "      <th>25</th>\n",
              "      <td>60</td>\n",
              "      <td>2020-12-25</td>\n",
              "      <td>102</td>\n",
              "      <td>126</td>\n",
              "      <td>334.5</td>\n",
              "    </tr>\n",
              "    <tr>\n",
              "      <th>26</th>\n",
              "      <td>60</td>\n",
              "      <td>2020-12-26</td>\n",
              "      <td>100</td>\n",
              "      <td>120</td>\n",
              "      <td>250.0</td>\n",
              "    </tr>\n",
              "    <tr>\n",
              "      <th>27</th>\n",
              "      <td>60</td>\n",
              "      <td>2020-12-27</td>\n",
              "      <td>92</td>\n",
              "      <td>118</td>\n",
              "      <td>241.0</td>\n",
              "    </tr>\n",
              "    <tr>\n",
              "      <th>28</th>\n",
              "      <td>60</td>\n",
              "      <td>2020-12-28</td>\n",
              "      <td>103</td>\n",
              "      <td>132</td>\n",
              "      <td>NaN</td>\n",
              "    </tr>\n",
              "    <tr>\n",
              "      <th>29</th>\n",
              "      <td>60</td>\n",
              "      <td>2020-12-29</td>\n",
              "      <td>100</td>\n",
              "      <td>132</td>\n",
              "      <td>280.0</td>\n",
              "    </tr>\n",
              "    <tr>\n",
              "      <th>30</th>\n",
              "      <td>60</td>\n",
              "      <td>2020-12-30</td>\n",
              "      <td>102</td>\n",
              "      <td>129</td>\n",
              "      <td>380.3</td>\n",
              "    </tr>\n",
              "    <tr>\n",
              "      <th>31</th>\n",
              "      <td>60</td>\n",
              "      <td>2020-12-31</td>\n",
              "      <td>92</td>\n",
              "      <td>115</td>\n",
              "      <td>243.0</td>\n",
              "    </tr>\n",
              "  </tbody>\n",
              "</table>\n",
              "</div>\n",
              "      <button class=\"colab-df-convert\" onclick=\"convertToInteractive('df-ec68a9fc-bebe-4c18-8336-1b6b3bacce95')\"\n",
              "              title=\"Convert this dataframe to an interactive table.\"\n",
              "              style=\"display:none;\">\n",
              "        \n",
              "  <svg xmlns=\"http://www.w3.org/2000/svg\" height=\"24px\"viewBox=\"0 0 24 24\"\n",
              "       width=\"24px\">\n",
              "    <path d=\"M0 0h24v24H0V0z\" fill=\"none\"/>\n",
              "    <path d=\"M18.56 5.44l.94 2.06.94-2.06 2.06-.94-2.06-.94-.94-2.06-.94 2.06-2.06.94zm-11 1L8.5 8.5l.94-2.06 2.06-.94-2.06-.94L8.5 2.5l-.94 2.06-2.06.94zm10 10l.94 2.06.94-2.06 2.06-.94-2.06-.94-.94-2.06-.94 2.06-2.06.94z\"/><path d=\"M17.41 7.96l-1.37-1.37c-.4-.4-.92-.59-1.43-.59-.52 0-1.04.2-1.43.59L10.3 9.45l-7.72 7.72c-.78.78-.78 2.05 0 2.83L4 21.41c.39.39.9.59 1.41.59.51 0 1.02-.2 1.41-.59l7.78-7.78 2.81-2.81c.8-.78.8-2.07 0-2.86zM5.41 20L4 18.59l7.72-7.72 1.47 1.35L5.41 20z\"/>\n",
              "  </svg>\n",
              "      </button>\n",
              "      \n",
              "  <style>\n",
              "    .colab-df-container {\n",
              "      display:flex;\n",
              "      flex-wrap:wrap;\n",
              "      gap: 12px;\n",
              "    }\n",
              "\n",
              "    .colab-df-convert {\n",
              "      background-color: #E8F0FE;\n",
              "      border: none;\n",
              "      border-radius: 50%;\n",
              "      cursor: pointer;\n",
              "      display: none;\n",
              "      fill: #1967D2;\n",
              "      height: 32px;\n",
              "      padding: 0 0 0 0;\n",
              "      width: 32px;\n",
              "    }\n",
              "\n",
              "    .colab-df-convert:hover {\n",
              "      background-color: #E2EBFA;\n",
              "      box-shadow: 0px 1px 2px rgba(60, 64, 67, 0.3), 0px 1px 3px 1px rgba(60, 64, 67, 0.15);\n",
              "      fill: #174EA6;\n",
              "    }\n",
              "\n",
              "    [theme=dark] .colab-df-convert {\n",
              "      background-color: #3B4455;\n",
              "      fill: #D2E3FC;\n",
              "    }\n",
              "\n",
              "    [theme=dark] .colab-df-convert:hover {\n",
              "      background-color: #434B5C;\n",
              "      box-shadow: 0px 1px 3px 1px rgba(0, 0, 0, 0.15);\n",
              "      filter: drop-shadow(0px 1px 2px rgba(0, 0, 0, 0.3));\n",
              "      fill: #FFFFFF;\n",
              "    }\n",
              "  </style>\n",
              "\n",
              "      <script>\n",
              "        const buttonEl =\n",
              "          document.querySelector('#df-ec68a9fc-bebe-4c18-8336-1b6b3bacce95 button.colab-df-convert');\n",
              "        buttonEl.style.display =\n",
              "          google.colab.kernel.accessAllowed ? 'block' : 'none';\n",
              "\n",
              "        async function convertToInteractive(key) {\n",
              "          const element = document.querySelector('#df-ec68a9fc-bebe-4c18-8336-1b6b3bacce95');\n",
              "          const dataTable =\n",
              "            await google.colab.kernel.invokeFunction('convertToInteractive',\n",
              "                                                     [key], {});\n",
              "          if (!dataTable) return;\n",
              "\n",
              "          const docLinkHtml = 'Like what you see? Visit the ' +\n",
              "            '<a target=\"_blank\" href=https://colab.research.google.com/notebooks/data_table.ipynb>data table notebook</a>'\n",
              "            + ' to learn more about interactive tables.';\n",
              "          element.innerHTML = '';\n",
              "          dataTable['output_type'] = 'display_data';\n",
              "          await google.colab.output.renderOutput(dataTable, element);\n",
              "          const docLink = document.createElement('div');\n",
              "          docLink.innerHTML = docLinkHtml;\n",
              "          element.appendChild(docLink);\n",
              "        }\n",
              "      </script>\n",
              "    </div>\n",
              "  </div>\n",
              "  "
            ]
          },
          "metadata": {},
          "execution_count": 106
        }
      ]
    },
    {
      "cell_type": "markdown",
      "source": [
        "It is seen that 11th and 12th rows are repeated, so 12th row can be removed"
      ],
      "metadata": {
        "id": "cCbtz4rChZWn"
      }
    },
    {
      "cell_type": "code",
      "source": [
        "df = df.drop(12)\n",
        "df"
      ],
      "metadata": {
        "colab": {
          "base_uri": "https://localhost:8080/",
          "height": 1000
        },
        "id": "2vr6_NHvhWdd",
        "outputId": "31b1c404-a981-46f1-84fe-b3ebcacd559b"
      },
      "execution_count": 107,
      "outputs": [
        {
          "output_type": "execute_result",
          "data": {
            "text/plain": [
              "    Duration       Date  Pulse  Maxpulse  Calories\n",
              "0         60 2020-12-01    110       130     409.1\n",
              "1         60 2020-12-02    117       145     479.0\n",
              "2         60 2020-12-03    103       135     340.0\n",
              "3         45 2020-12-04    109       175     282.4\n",
              "4         45 2020-12-05    117       148     406.0\n",
              "5         60 2020-12-06    102       127     300.0\n",
              "6         60 2020-12-07    110       136     374.0\n",
              "7         45 2020-12-08    104       134     253.3\n",
              "8         30 2020-12-09    109       133     195.1\n",
              "9         60 2020-12-10     98       124     269.0\n",
              "10        60 2020-12-11    103       147     329.3\n",
              "11        60 2020-12-12    100       120     250.7\n",
              "13        60 2020-12-13    106       128     345.3\n",
              "14        60 2020-12-14    104       132     379.3\n",
              "15        60 2020-12-15     98       123     275.0\n",
              "16        60 2020-12-16     98       120     215.2\n",
              "17        60 2020-12-17    100       120     300.0\n",
              "18        45 2020-12-18     90       112       NaN\n",
              "19        60 2020-12-19    103       123     323.0\n",
              "20        45 2020-12-20     97       125     243.0\n",
              "21        60 2020-12-21    108       131     364.2\n",
              "22        45 2020-12-22    100       119     282.0\n",
              "23        60 2020-12-23    130       101     300.0\n",
              "24        45 2020-12-24    105       132     246.0\n",
              "25        60 2020-12-25    102       126     334.5\n",
              "26        60 2020-12-26    100       120     250.0\n",
              "27        60 2020-12-27     92       118     241.0\n",
              "28        60 2020-12-28    103       132       NaN\n",
              "29        60 2020-12-29    100       132     280.0\n",
              "30        60 2020-12-30    102       129     380.3\n",
              "31        60 2020-12-31     92       115     243.0"
            ],
            "text/html": [
              "\n",
              "  <div id=\"df-fd514d92-49b9-47fe-9d28-312eebae26a8\">\n",
              "    <div class=\"colab-df-container\">\n",
              "      <div>\n",
              "<style scoped>\n",
              "    .dataframe tbody tr th:only-of-type {\n",
              "        vertical-align: middle;\n",
              "    }\n",
              "\n",
              "    .dataframe tbody tr th {\n",
              "        vertical-align: top;\n",
              "    }\n",
              "\n",
              "    .dataframe thead th {\n",
              "        text-align: right;\n",
              "    }\n",
              "</style>\n",
              "<table border=\"1\" class=\"dataframe\">\n",
              "  <thead>\n",
              "    <tr style=\"text-align: right;\">\n",
              "      <th></th>\n",
              "      <th>Duration</th>\n",
              "      <th>Date</th>\n",
              "      <th>Pulse</th>\n",
              "      <th>Maxpulse</th>\n",
              "      <th>Calories</th>\n",
              "    </tr>\n",
              "  </thead>\n",
              "  <tbody>\n",
              "    <tr>\n",
              "      <th>0</th>\n",
              "      <td>60</td>\n",
              "      <td>2020-12-01</td>\n",
              "      <td>110</td>\n",
              "      <td>130</td>\n",
              "      <td>409.1</td>\n",
              "    </tr>\n",
              "    <tr>\n",
              "      <th>1</th>\n",
              "      <td>60</td>\n",
              "      <td>2020-12-02</td>\n",
              "      <td>117</td>\n",
              "      <td>145</td>\n",
              "      <td>479.0</td>\n",
              "    </tr>\n",
              "    <tr>\n",
              "      <th>2</th>\n",
              "      <td>60</td>\n",
              "      <td>2020-12-03</td>\n",
              "      <td>103</td>\n",
              "      <td>135</td>\n",
              "      <td>340.0</td>\n",
              "    </tr>\n",
              "    <tr>\n",
              "      <th>3</th>\n",
              "      <td>45</td>\n",
              "      <td>2020-12-04</td>\n",
              "      <td>109</td>\n",
              "      <td>175</td>\n",
              "      <td>282.4</td>\n",
              "    </tr>\n",
              "    <tr>\n",
              "      <th>4</th>\n",
              "      <td>45</td>\n",
              "      <td>2020-12-05</td>\n",
              "      <td>117</td>\n",
              "      <td>148</td>\n",
              "      <td>406.0</td>\n",
              "    </tr>\n",
              "    <tr>\n",
              "      <th>5</th>\n",
              "      <td>60</td>\n",
              "      <td>2020-12-06</td>\n",
              "      <td>102</td>\n",
              "      <td>127</td>\n",
              "      <td>300.0</td>\n",
              "    </tr>\n",
              "    <tr>\n",
              "      <th>6</th>\n",
              "      <td>60</td>\n",
              "      <td>2020-12-07</td>\n",
              "      <td>110</td>\n",
              "      <td>136</td>\n",
              "      <td>374.0</td>\n",
              "    </tr>\n",
              "    <tr>\n",
              "      <th>7</th>\n",
              "      <td>45</td>\n",
              "      <td>2020-12-08</td>\n",
              "      <td>104</td>\n",
              "      <td>134</td>\n",
              "      <td>253.3</td>\n",
              "    </tr>\n",
              "    <tr>\n",
              "      <th>8</th>\n",
              "      <td>30</td>\n",
              "      <td>2020-12-09</td>\n",
              "      <td>109</td>\n",
              "      <td>133</td>\n",
              "      <td>195.1</td>\n",
              "    </tr>\n",
              "    <tr>\n",
              "      <th>9</th>\n",
              "      <td>60</td>\n",
              "      <td>2020-12-10</td>\n",
              "      <td>98</td>\n",
              "      <td>124</td>\n",
              "      <td>269.0</td>\n",
              "    </tr>\n",
              "    <tr>\n",
              "      <th>10</th>\n",
              "      <td>60</td>\n",
              "      <td>2020-12-11</td>\n",
              "      <td>103</td>\n",
              "      <td>147</td>\n",
              "      <td>329.3</td>\n",
              "    </tr>\n",
              "    <tr>\n",
              "      <th>11</th>\n",
              "      <td>60</td>\n",
              "      <td>2020-12-12</td>\n",
              "      <td>100</td>\n",
              "      <td>120</td>\n",
              "      <td>250.7</td>\n",
              "    </tr>\n",
              "    <tr>\n",
              "      <th>13</th>\n",
              "      <td>60</td>\n",
              "      <td>2020-12-13</td>\n",
              "      <td>106</td>\n",
              "      <td>128</td>\n",
              "      <td>345.3</td>\n",
              "    </tr>\n",
              "    <tr>\n",
              "      <th>14</th>\n",
              "      <td>60</td>\n",
              "      <td>2020-12-14</td>\n",
              "      <td>104</td>\n",
              "      <td>132</td>\n",
              "      <td>379.3</td>\n",
              "    </tr>\n",
              "    <tr>\n",
              "      <th>15</th>\n",
              "      <td>60</td>\n",
              "      <td>2020-12-15</td>\n",
              "      <td>98</td>\n",
              "      <td>123</td>\n",
              "      <td>275.0</td>\n",
              "    </tr>\n",
              "    <tr>\n",
              "      <th>16</th>\n",
              "      <td>60</td>\n",
              "      <td>2020-12-16</td>\n",
              "      <td>98</td>\n",
              "      <td>120</td>\n",
              "      <td>215.2</td>\n",
              "    </tr>\n",
              "    <tr>\n",
              "      <th>17</th>\n",
              "      <td>60</td>\n",
              "      <td>2020-12-17</td>\n",
              "      <td>100</td>\n",
              "      <td>120</td>\n",
              "      <td>300.0</td>\n",
              "    </tr>\n",
              "    <tr>\n",
              "      <th>18</th>\n",
              "      <td>45</td>\n",
              "      <td>2020-12-18</td>\n",
              "      <td>90</td>\n",
              "      <td>112</td>\n",
              "      <td>NaN</td>\n",
              "    </tr>\n",
              "    <tr>\n",
              "      <th>19</th>\n",
              "      <td>60</td>\n",
              "      <td>2020-12-19</td>\n",
              "      <td>103</td>\n",
              "      <td>123</td>\n",
              "      <td>323.0</td>\n",
              "    </tr>\n",
              "    <tr>\n",
              "      <th>20</th>\n",
              "      <td>45</td>\n",
              "      <td>2020-12-20</td>\n",
              "      <td>97</td>\n",
              "      <td>125</td>\n",
              "      <td>243.0</td>\n",
              "    </tr>\n",
              "    <tr>\n",
              "      <th>21</th>\n",
              "      <td>60</td>\n",
              "      <td>2020-12-21</td>\n",
              "      <td>108</td>\n",
              "      <td>131</td>\n",
              "      <td>364.2</td>\n",
              "    </tr>\n",
              "    <tr>\n",
              "      <th>22</th>\n",
              "      <td>45</td>\n",
              "      <td>2020-12-22</td>\n",
              "      <td>100</td>\n",
              "      <td>119</td>\n",
              "      <td>282.0</td>\n",
              "    </tr>\n",
              "    <tr>\n",
              "      <th>23</th>\n",
              "      <td>60</td>\n",
              "      <td>2020-12-23</td>\n",
              "      <td>130</td>\n",
              "      <td>101</td>\n",
              "      <td>300.0</td>\n",
              "    </tr>\n",
              "    <tr>\n",
              "      <th>24</th>\n",
              "      <td>45</td>\n",
              "      <td>2020-12-24</td>\n",
              "      <td>105</td>\n",
              "      <td>132</td>\n",
              "      <td>246.0</td>\n",
              "    </tr>\n",
              "    <tr>\n",
              "      <th>25</th>\n",
              "      <td>60</td>\n",
              "      <td>2020-12-25</td>\n",
              "      <td>102</td>\n",
              "      <td>126</td>\n",
              "      <td>334.5</td>\n",
              "    </tr>\n",
              "    <tr>\n",
              "      <th>26</th>\n",
              "      <td>60</td>\n",
              "      <td>2020-12-26</td>\n",
              "      <td>100</td>\n",
              "      <td>120</td>\n",
              "      <td>250.0</td>\n",
              "    </tr>\n",
              "    <tr>\n",
              "      <th>27</th>\n",
              "      <td>60</td>\n",
              "      <td>2020-12-27</td>\n",
              "      <td>92</td>\n",
              "      <td>118</td>\n",
              "      <td>241.0</td>\n",
              "    </tr>\n",
              "    <tr>\n",
              "      <th>28</th>\n",
              "      <td>60</td>\n",
              "      <td>2020-12-28</td>\n",
              "      <td>103</td>\n",
              "      <td>132</td>\n",
              "      <td>NaN</td>\n",
              "    </tr>\n",
              "    <tr>\n",
              "      <th>29</th>\n",
              "      <td>60</td>\n",
              "      <td>2020-12-29</td>\n",
              "      <td>100</td>\n",
              "      <td>132</td>\n",
              "      <td>280.0</td>\n",
              "    </tr>\n",
              "    <tr>\n",
              "      <th>30</th>\n",
              "      <td>60</td>\n",
              "      <td>2020-12-30</td>\n",
              "      <td>102</td>\n",
              "      <td>129</td>\n",
              "      <td>380.3</td>\n",
              "    </tr>\n",
              "    <tr>\n",
              "      <th>31</th>\n",
              "      <td>60</td>\n",
              "      <td>2020-12-31</td>\n",
              "      <td>92</td>\n",
              "      <td>115</td>\n",
              "      <td>243.0</td>\n",
              "    </tr>\n",
              "  </tbody>\n",
              "</table>\n",
              "</div>\n",
              "      <button class=\"colab-df-convert\" onclick=\"convertToInteractive('df-fd514d92-49b9-47fe-9d28-312eebae26a8')\"\n",
              "              title=\"Convert this dataframe to an interactive table.\"\n",
              "              style=\"display:none;\">\n",
              "        \n",
              "  <svg xmlns=\"http://www.w3.org/2000/svg\" height=\"24px\"viewBox=\"0 0 24 24\"\n",
              "       width=\"24px\">\n",
              "    <path d=\"M0 0h24v24H0V0z\" fill=\"none\"/>\n",
              "    <path d=\"M18.56 5.44l.94 2.06.94-2.06 2.06-.94-2.06-.94-.94-2.06-.94 2.06-2.06.94zm-11 1L8.5 8.5l.94-2.06 2.06-.94-2.06-.94L8.5 2.5l-.94 2.06-2.06.94zm10 10l.94 2.06.94-2.06 2.06-.94-2.06-.94-.94-2.06-.94 2.06-2.06.94z\"/><path d=\"M17.41 7.96l-1.37-1.37c-.4-.4-.92-.59-1.43-.59-.52 0-1.04.2-1.43.59L10.3 9.45l-7.72 7.72c-.78.78-.78 2.05 0 2.83L4 21.41c.39.39.9.59 1.41.59.51 0 1.02-.2 1.41-.59l7.78-7.78 2.81-2.81c.8-.78.8-2.07 0-2.86zM5.41 20L4 18.59l7.72-7.72 1.47 1.35L5.41 20z\"/>\n",
              "  </svg>\n",
              "      </button>\n",
              "      \n",
              "  <style>\n",
              "    .colab-df-container {\n",
              "      display:flex;\n",
              "      flex-wrap:wrap;\n",
              "      gap: 12px;\n",
              "    }\n",
              "\n",
              "    .colab-df-convert {\n",
              "      background-color: #E8F0FE;\n",
              "      border: none;\n",
              "      border-radius: 50%;\n",
              "      cursor: pointer;\n",
              "      display: none;\n",
              "      fill: #1967D2;\n",
              "      height: 32px;\n",
              "      padding: 0 0 0 0;\n",
              "      width: 32px;\n",
              "    }\n",
              "\n",
              "    .colab-df-convert:hover {\n",
              "      background-color: #E2EBFA;\n",
              "      box-shadow: 0px 1px 2px rgba(60, 64, 67, 0.3), 0px 1px 3px 1px rgba(60, 64, 67, 0.15);\n",
              "      fill: #174EA6;\n",
              "    }\n",
              "\n",
              "    [theme=dark] .colab-df-convert {\n",
              "      background-color: #3B4455;\n",
              "      fill: #D2E3FC;\n",
              "    }\n",
              "\n",
              "    [theme=dark] .colab-df-convert:hover {\n",
              "      background-color: #434B5C;\n",
              "      box-shadow: 0px 1px 3px 1px rgba(0, 0, 0, 0.15);\n",
              "      filter: drop-shadow(0px 1px 2px rgba(0, 0, 0, 0.3));\n",
              "      fill: #FFFFFF;\n",
              "    }\n",
              "  </style>\n",
              "\n",
              "      <script>\n",
              "        const buttonEl =\n",
              "          document.querySelector('#df-fd514d92-49b9-47fe-9d28-312eebae26a8 button.colab-df-convert');\n",
              "        buttonEl.style.display =\n",
              "          google.colab.kernel.accessAllowed ? 'block' : 'none';\n",
              "\n",
              "        async function convertToInteractive(key) {\n",
              "          const element = document.querySelector('#df-fd514d92-49b9-47fe-9d28-312eebae26a8');\n",
              "          const dataTable =\n",
              "            await google.colab.kernel.invokeFunction('convertToInteractive',\n",
              "                                                     [key], {});\n",
              "          if (!dataTable) return;\n",
              "\n",
              "          const docLinkHtml = 'Like what you see? Visit the ' +\n",
              "            '<a target=\"_blank\" href=https://colab.research.google.com/notebooks/data_table.ipynb>data table notebook</a>'\n",
              "            + ' to learn more about interactive tables.';\n",
              "          element.innerHTML = '';\n",
              "          dataTable['output_type'] = 'display_data';\n",
              "          await google.colab.output.renderOutput(dataTable, element);\n",
              "          const docLink = document.createElement('div');\n",
              "          docLink.innerHTML = docLinkHtml;\n",
              "          element.appendChild(docLink);\n",
              "        }\n",
              "      </script>\n",
              "    </div>\n",
              "  </div>\n",
              "  "
            ]
          },
          "metadata": {},
          "execution_count": 107
        }
      ]
    },
    {
      "cell_type": "markdown",
      "source": [
        "The Calories column null value can be filled with mean value. As the file dtype is float, the Null values can be filled using the Mean value obtained"
      ],
      "metadata": {
        "id": "TMOL1wLZJOx0"
      }
    },
    {
      "cell_type": "code",
      "source": [
        "df['Calories']=df['Calories'].fillna(df['Calories'].mean())\n",
        "df"
      ],
      "metadata": {
        "colab": {
          "base_uri": "https://localhost:8080/",
          "height": 1000
        },
        "id": "c1FJP-FXEXXo",
        "outputId": "437dd9cf-3de0-4ba3-feac-ff77304ce193"
      },
      "execution_count": 108,
      "outputs": [
        {
          "output_type": "execute_result",
          "data": {
            "text/plain": [
              "    Duration       Date  Pulse  Maxpulse    Calories\n",
              "0         60 2020-12-01    110       130  409.100000\n",
              "1         60 2020-12-02    117       145  479.000000\n",
              "2         60 2020-12-03    103       135  340.000000\n",
              "3         45 2020-12-04    109       175  282.400000\n",
              "4         45 2020-12-05    117       148  406.000000\n",
              "5         60 2020-12-06    102       127  300.000000\n",
              "6         60 2020-12-07    110       136  374.000000\n",
              "7         45 2020-12-08    104       134  253.300000\n",
              "8         30 2020-12-09    109       133  195.100000\n",
              "9         60 2020-12-10     98       124  269.000000\n",
              "10        60 2020-12-11    103       147  329.300000\n",
              "11        60 2020-12-12    100       120  250.700000\n",
              "13        60 2020-12-13    106       128  345.300000\n",
              "14        60 2020-12-14    104       132  379.300000\n",
              "15        60 2020-12-15     98       123  275.000000\n",
              "16        60 2020-12-16     98       120  215.200000\n",
              "17        60 2020-12-17    100       120  300.000000\n",
              "18        45 2020-12-18     90       112  306.541379\n",
              "19        60 2020-12-19    103       123  323.000000\n",
              "20        45 2020-12-20     97       125  243.000000\n",
              "21        60 2020-12-21    108       131  364.200000\n",
              "22        45 2020-12-22    100       119  282.000000\n",
              "23        60 2020-12-23    130       101  300.000000\n",
              "24        45 2020-12-24    105       132  246.000000\n",
              "25        60 2020-12-25    102       126  334.500000\n",
              "26        60 2020-12-26    100       120  250.000000\n",
              "27        60 2020-12-27     92       118  241.000000\n",
              "28        60 2020-12-28    103       132  306.541379\n",
              "29        60 2020-12-29    100       132  280.000000\n",
              "30        60 2020-12-30    102       129  380.300000\n",
              "31        60 2020-12-31     92       115  243.000000"
            ],
            "text/html": [
              "\n",
              "  <div id=\"df-758a634b-2c9e-4cca-bcf3-7ad4039245ee\">\n",
              "    <div class=\"colab-df-container\">\n",
              "      <div>\n",
              "<style scoped>\n",
              "    .dataframe tbody tr th:only-of-type {\n",
              "        vertical-align: middle;\n",
              "    }\n",
              "\n",
              "    .dataframe tbody tr th {\n",
              "        vertical-align: top;\n",
              "    }\n",
              "\n",
              "    .dataframe thead th {\n",
              "        text-align: right;\n",
              "    }\n",
              "</style>\n",
              "<table border=\"1\" class=\"dataframe\">\n",
              "  <thead>\n",
              "    <tr style=\"text-align: right;\">\n",
              "      <th></th>\n",
              "      <th>Duration</th>\n",
              "      <th>Date</th>\n",
              "      <th>Pulse</th>\n",
              "      <th>Maxpulse</th>\n",
              "      <th>Calories</th>\n",
              "    </tr>\n",
              "  </thead>\n",
              "  <tbody>\n",
              "    <tr>\n",
              "      <th>0</th>\n",
              "      <td>60</td>\n",
              "      <td>2020-12-01</td>\n",
              "      <td>110</td>\n",
              "      <td>130</td>\n",
              "      <td>409.100000</td>\n",
              "    </tr>\n",
              "    <tr>\n",
              "      <th>1</th>\n",
              "      <td>60</td>\n",
              "      <td>2020-12-02</td>\n",
              "      <td>117</td>\n",
              "      <td>145</td>\n",
              "      <td>479.000000</td>\n",
              "    </tr>\n",
              "    <tr>\n",
              "      <th>2</th>\n",
              "      <td>60</td>\n",
              "      <td>2020-12-03</td>\n",
              "      <td>103</td>\n",
              "      <td>135</td>\n",
              "      <td>340.000000</td>\n",
              "    </tr>\n",
              "    <tr>\n",
              "      <th>3</th>\n",
              "      <td>45</td>\n",
              "      <td>2020-12-04</td>\n",
              "      <td>109</td>\n",
              "      <td>175</td>\n",
              "      <td>282.400000</td>\n",
              "    </tr>\n",
              "    <tr>\n",
              "      <th>4</th>\n",
              "      <td>45</td>\n",
              "      <td>2020-12-05</td>\n",
              "      <td>117</td>\n",
              "      <td>148</td>\n",
              "      <td>406.000000</td>\n",
              "    </tr>\n",
              "    <tr>\n",
              "      <th>5</th>\n",
              "      <td>60</td>\n",
              "      <td>2020-12-06</td>\n",
              "      <td>102</td>\n",
              "      <td>127</td>\n",
              "      <td>300.000000</td>\n",
              "    </tr>\n",
              "    <tr>\n",
              "      <th>6</th>\n",
              "      <td>60</td>\n",
              "      <td>2020-12-07</td>\n",
              "      <td>110</td>\n",
              "      <td>136</td>\n",
              "      <td>374.000000</td>\n",
              "    </tr>\n",
              "    <tr>\n",
              "      <th>7</th>\n",
              "      <td>45</td>\n",
              "      <td>2020-12-08</td>\n",
              "      <td>104</td>\n",
              "      <td>134</td>\n",
              "      <td>253.300000</td>\n",
              "    </tr>\n",
              "    <tr>\n",
              "      <th>8</th>\n",
              "      <td>30</td>\n",
              "      <td>2020-12-09</td>\n",
              "      <td>109</td>\n",
              "      <td>133</td>\n",
              "      <td>195.100000</td>\n",
              "    </tr>\n",
              "    <tr>\n",
              "      <th>9</th>\n",
              "      <td>60</td>\n",
              "      <td>2020-12-10</td>\n",
              "      <td>98</td>\n",
              "      <td>124</td>\n",
              "      <td>269.000000</td>\n",
              "    </tr>\n",
              "    <tr>\n",
              "      <th>10</th>\n",
              "      <td>60</td>\n",
              "      <td>2020-12-11</td>\n",
              "      <td>103</td>\n",
              "      <td>147</td>\n",
              "      <td>329.300000</td>\n",
              "    </tr>\n",
              "    <tr>\n",
              "      <th>11</th>\n",
              "      <td>60</td>\n",
              "      <td>2020-12-12</td>\n",
              "      <td>100</td>\n",
              "      <td>120</td>\n",
              "      <td>250.700000</td>\n",
              "    </tr>\n",
              "    <tr>\n",
              "      <th>13</th>\n",
              "      <td>60</td>\n",
              "      <td>2020-12-13</td>\n",
              "      <td>106</td>\n",
              "      <td>128</td>\n",
              "      <td>345.300000</td>\n",
              "    </tr>\n",
              "    <tr>\n",
              "      <th>14</th>\n",
              "      <td>60</td>\n",
              "      <td>2020-12-14</td>\n",
              "      <td>104</td>\n",
              "      <td>132</td>\n",
              "      <td>379.300000</td>\n",
              "    </tr>\n",
              "    <tr>\n",
              "      <th>15</th>\n",
              "      <td>60</td>\n",
              "      <td>2020-12-15</td>\n",
              "      <td>98</td>\n",
              "      <td>123</td>\n",
              "      <td>275.000000</td>\n",
              "    </tr>\n",
              "    <tr>\n",
              "      <th>16</th>\n",
              "      <td>60</td>\n",
              "      <td>2020-12-16</td>\n",
              "      <td>98</td>\n",
              "      <td>120</td>\n",
              "      <td>215.200000</td>\n",
              "    </tr>\n",
              "    <tr>\n",
              "      <th>17</th>\n",
              "      <td>60</td>\n",
              "      <td>2020-12-17</td>\n",
              "      <td>100</td>\n",
              "      <td>120</td>\n",
              "      <td>300.000000</td>\n",
              "    </tr>\n",
              "    <tr>\n",
              "      <th>18</th>\n",
              "      <td>45</td>\n",
              "      <td>2020-12-18</td>\n",
              "      <td>90</td>\n",
              "      <td>112</td>\n",
              "      <td>306.541379</td>\n",
              "    </tr>\n",
              "    <tr>\n",
              "      <th>19</th>\n",
              "      <td>60</td>\n",
              "      <td>2020-12-19</td>\n",
              "      <td>103</td>\n",
              "      <td>123</td>\n",
              "      <td>323.000000</td>\n",
              "    </tr>\n",
              "    <tr>\n",
              "      <th>20</th>\n",
              "      <td>45</td>\n",
              "      <td>2020-12-20</td>\n",
              "      <td>97</td>\n",
              "      <td>125</td>\n",
              "      <td>243.000000</td>\n",
              "    </tr>\n",
              "    <tr>\n",
              "      <th>21</th>\n",
              "      <td>60</td>\n",
              "      <td>2020-12-21</td>\n",
              "      <td>108</td>\n",
              "      <td>131</td>\n",
              "      <td>364.200000</td>\n",
              "    </tr>\n",
              "    <tr>\n",
              "      <th>22</th>\n",
              "      <td>45</td>\n",
              "      <td>2020-12-22</td>\n",
              "      <td>100</td>\n",
              "      <td>119</td>\n",
              "      <td>282.000000</td>\n",
              "    </tr>\n",
              "    <tr>\n",
              "      <th>23</th>\n",
              "      <td>60</td>\n",
              "      <td>2020-12-23</td>\n",
              "      <td>130</td>\n",
              "      <td>101</td>\n",
              "      <td>300.000000</td>\n",
              "    </tr>\n",
              "    <tr>\n",
              "      <th>24</th>\n",
              "      <td>45</td>\n",
              "      <td>2020-12-24</td>\n",
              "      <td>105</td>\n",
              "      <td>132</td>\n",
              "      <td>246.000000</td>\n",
              "    </tr>\n",
              "    <tr>\n",
              "      <th>25</th>\n",
              "      <td>60</td>\n",
              "      <td>2020-12-25</td>\n",
              "      <td>102</td>\n",
              "      <td>126</td>\n",
              "      <td>334.500000</td>\n",
              "    </tr>\n",
              "    <tr>\n",
              "      <th>26</th>\n",
              "      <td>60</td>\n",
              "      <td>2020-12-26</td>\n",
              "      <td>100</td>\n",
              "      <td>120</td>\n",
              "      <td>250.000000</td>\n",
              "    </tr>\n",
              "    <tr>\n",
              "      <th>27</th>\n",
              "      <td>60</td>\n",
              "      <td>2020-12-27</td>\n",
              "      <td>92</td>\n",
              "      <td>118</td>\n",
              "      <td>241.000000</td>\n",
              "    </tr>\n",
              "    <tr>\n",
              "      <th>28</th>\n",
              "      <td>60</td>\n",
              "      <td>2020-12-28</td>\n",
              "      <td>103</td>\n",
              "      <td>132</td>\n",
              "      <td>306.541379</td>\n",
              "    </tr>\n",
              "    <tr>\n",
              "      <th>29</th>\n",
              "      <td>60</td>\n",
              "      <td>2020-12-29</td>\n",
              "      <td>100</td>\n",
              "      <td>132</td>\n",
              "      <td>280.000000</td>\n",
              "    </tr>\n",
              "    <tr>\n",
              "      <th>30</th>\n",
              "      <td>60</td>\n",
              "      <td>2020-12-30</td>\n",
              "      <td>102</td>\n",
              "      <td>129</td>\n",
              "      <td>380.300000</td>\n",
              "    </tr>\n",
              "    <tr>\n",
              "      <th>31</th>\n",
              "      <td>60</td>\n",
              "      <td>2020-12-31</td>\n",
              "      <td>92</td>\n",
              "      <td>115</td>\n",
              "      <td>243.000000</td>\n",
              "    </tr>\n",
              "  </tbody>\n",
              "</table>\n",
              "</div>\n",
              "      <button class=\"colab-df-convert\" onclick=\"convertToInteractive('df-758a634b-2c9e-4cca-bcf3-7ad4039245ee')\"\n",
              "              title=\"Convert this dataframe to an interactive table.\"\n",
              "              style=\"display:none;\">\n",
              "        \n",
              "  <svg xmlns=\"http://www.w3.org/2000/svg\" height=\"24px\"viewBox=\"0 0 24 24\"\n",
              "       width=\"24px\">\n",
              "    <path d=\"M0 0h24v24H0V0z\" fill=\"none\"/>\n",
              "    <path d=\"M18.56 5.44l.94 2.06.94-2.06 2.06-.94-2.06-.94-.94-2.06-.94 2.06-2.06.94zm-11 1L8.5 8.5l.94-2.06 2.06-.94-2.06-.94L8.5 2.5l-.94 2.06-2.06.94zm10 10l.94 2.06.94-2.06 2.06-.94-2.06-.94-.94-2.06-.94 2.06-2.06.94z\"/><path d=\"M17.41 7.96l-1.37-1.37c-.4-.4-.92-.59-1.43-.59-.52 0-1.04.2-1.43.59L10.3 9.45l-7.72 7.72c-.78.78-.78 2.05 0 2.83L4 21.41c.39.39.9.59 1.41.59.51 0 1.02-.2 1.41-.59l7.78-7.78 2.81-2.81c.8-.78.8-2.07 0-2.86zM5.41 20L4 18.59l7.72-7.72 1.47 1.35L5.41 20z\"/>\n",
              "  </svg>\n",
              "      </button>\n",
              "      \n",
              "  <style>\n",
              "    .colab-df-container {\n",
              "      display:flex;\n",
              "      flex-wrap:wrap;\n",
              "      gap: 12px;\n",
              "    }\n",
              "\n",
              "    .colab-df-convert {\n",
              "      background-color: #E8F0FE;\n",
              "      border: none;\n",
              "      border-radius: 50%;\n",
              "      cursor: pointer;\n",
              "      display: none;\n",
              "      fill: #1967D2;\n",
              "      height: 32px;\n",
              "      padding: 0 0 0 0;\n",
              "      width: 32px;\n",
              "    }\n",
              "\n",
              "    .colab-df-convert:hover {\n",
              "      background-color: #E2EBFA;\n",
              "      box-shadow: 0px 1px 2px rgba(60, 64, 67, 0.3), 0px 1px 3px 1px rgba(60, 64, 67, 0.15);\n",
              "      fill: #174EA6;\n",
              "    }\n",
              "\n",
              "    [theme=dark] .colab-df-convert {\n",
              "      background-color: #3B4455;\n",
              "      fill: #D2E3FC;\n",
              "    }\n",
              "\n",
              "    [theme=dark] .colab-df-convert:hover {\n",
              "      background-color: #434B5C;\n",
              "      box-shadow: 0px 1px 3px 1px rgba(0, 0, 0, 0.15);\n",
              "      filter: drop-shadow(0px 1px 2px rgba(0, 0, 0, 0.3));\n",
              "      fill: #FFFFFF;\n",
              "    }\n",
              "  </style>\n",
              "\n",
              "      <script>\n",
              "        const buttonEl =\n",
              "          document.querySelector('#df-758a634b-2c9e-4cca-bcf3-7ad4039245ee button.colab-df-convert');\n",
              "        buttonEl.style.display =\n",
              "          google.colab.kernel.accessAllowed ? 'block' : 'none';\n",
              "\n",
              "        async function convertToInteractive(key) {\n",
              "          const element = document.querySelector('#df-758a634b-2c9e-4cca-bcf3-7ad4039245ee');\n",
              "          const dataTable =\n",
              "            await google.colab.kernel.invokeFunction('convertToInteractive',\n",
              "                                                     [key], {});\n",
              "          if (!dataTable) return;\n",
              "\n",
              "          const docLinkHtml = 'Like what you see? Visit the ' +\n",
              "            '<a target=\"_blank\" href=https://colab.research.google.com/notebooks/data_table.ipynb>data table notebook</a>'\n",
              "            + ' to learn more about interactive tables.';\n",
              "          element.innerHTML = '';\n",
              "          dataTable['output_type'] = 'display_data';\n",
              "          await google.colab.output.renderOutput(dataTable, element);\n",
              "          const docLink = document.createElement('div');\n",
              "          docLink.innerHTML = docLinkHtml;\n",
              "          element.appendChild(docLink);\n",
              "        }\n",
              "      </script>\n",
              "    </div>\n",
              "  </div>\n",
              "  "
            ]
          },
          "metadata": {},
          "execution_count": 108
        }
      ]
    },
    {
      "cell_type": "markdown",
      "source": [
        "Now, we will again check for null values"
      ],
      "metadata": {
        "id": "dmIhC1eLYi0u"
      }
    },
    {
      "cell_type": "code",
      "source": [
        "df.isna().sum()"
      ],
      "metadata": {
        "colab": {
          "base_uri": "https://localhost:8080/"
        },
        "id": "6lEygCdPYcy-",
        "outputId": "f12acc8f-3f03-4b3e-a427-a4891c4fe506"
      },
      "execution_count": 109,
      "outputs": [
        {
          "output_type": "execute_result",
          "data": {
            "text/plain": [
              "Duration    0\n",
              "Date        0\n",
              "Pulse       0\n",
              "Maxpulse    0\n",
              "Calories    0\n",
              "dtype: int64"
            ]
          },
          "metadata": {},
          "execution_count": 109
        }
      ]
    },
    {
      "cell_type": "markdown",
      "source": [
        "Thus, the null values are handled. No we can go for Data visualization"
      ],
      "metadata": {
        "id": "7dDAXXF-Y3dB"
      }
    },
    {
      "cell_type": "markdown",
      "source": [],
      "metadata": {
        "id": "KsBRfprCgrwn"
      }
    },
    {
      "cell_type": "code",
      "source": [],
      "metadata": {
        "id": "k5hbudKjgzog"
      },
      "execution_count": 109,
      "outputs": []
    },
    {
      "cell_type": "code",
      "source": [
        "import matplotlib.pyplot as plt\n",
        "import datetime\n",
        "import calendar"
      ],
      "metadata": {
        "id": "6FaKEwRCY9MT"
      },
      "execution_count": 110,
      "outputs": []
    },
    {
      "cell_type": "markdown",
      "source": [
        "As the Date value pertains to a single month, we can insert a new column DayOfMonth as the dd value, so that the plotting can be easily understood"
      ],
      "metadata": {
        "id": "NDqqAloIdyhA"
      }
    },
    {
      "cell_type": "code",
      "source": [
        "df['DayOfMonth']=df[ \"Date\"].dt.day\n",
        "print(df)"
      ],
      "metadata": {
        "colab": {
          "base_uri": "https://localhost:8080/"
        },
        "id": "tnd3lgj8da7G",
        "outputId": "6820a77a-da5d-4802-a65b-5c40c0a5839c"
      },
      "execution_count": 111,
      "outputs": [
        {
          "output_type": "stream",
          "name": "stdout",
          "text": [
            "    Duration       Date  Pulse  Maxpulse    Calories  DayOfMonth\n",
            "0         60 2020-12-01    110       130  409.100000           1\n",
            "1         60 2020-12-02    117       145  479.000000           2\n",
            "2         60 2020-12-03    103       135  340.000000           3\n",
            "3         45 2020-12-04    109       175  282.400000           4\n",
            "4         45 2020-12-05    117       148  406.000000           5\n",
            "5         60 2020-12-06    102       127  300.000000           6\n",
            "6         60 2020-12-07    110       136  374.000000           7\n",
            "7         45 2020-12-08    104       134  253.300000           8\n",
            "8         30 2020-12-09    109       133  195.100000           9\n",
            "9         60 2020-12-10     98       124  269.000000          10\n",
            "10        60 2020-12-11    103       147  329.300000          11\n",
            "11        60 2020-12-12    100       120  250.700000          12\n",
            "13        60 2020-12-13    106       128  345.300000          13\n",
            "14        60 2020-12-14    104       132  379.300000          14\n",
            "15        60 2020-12-15     98       123  275.000000          15\n",
            "16        60 2020-12-16     98       120  215.200000          16\n",
            "17        60 2020-12-17    100       120  300.000000          17\n",
            "18        45 2020-12-18     90       112  306.541379          18\n",
            "19        60 2020-12-19    103       123  323.000000          19\n",
            "20        45 2020-12-20     97       125  243.000000          20\n",
            "21        60 2020-12-21    108       131  364.200000          21\n",
            "22        45 2020-12-22    100       119  282.000000          22\n",
            "23        60 2020-12-23    130       101  300.000000          23\n",
            "24        45 2020-12-24    105       132  246.000000          24\n",
            "25        60 2020-12-25    102       126  334.500000          25\n",
            "26        60 2020-12-26    100       120  250.000000          26\n",
            "27        60 2020-12-27     92       118  241.000000          27\n",
            "28        60 2020-12-28    103       132  306.541379          28\n",
            "29        60 2020-12-29    100       132  280.000000          29\n",
            "30        60 2020-12-30    102       129  380.300000          30\n",
            "31        60 2020-12-31     92       115  243.000000          31\n"
          ]
        }
      ]
    },
    {
      "cell_type": "code",
      "source": [
        "x=df['DayOfMonth']\n",
        "y=df['Pulse']\n",
        "plt.figure(figsize=(8,8))\n",
        "plt.plot(x,y,marker='.',ms=20, mec = 'k', mfc ='m')\n",
        "plt.title('Plot of Day vs Pulse')\n",
        "plt.xlabel('Day')\n",
        "plt.ylabel('Pulse')\n",
        "plt.xticks()\n",
        "plt.yticks()\n",
        "plt.grid()\n",
        "plt.show()"
      ],
      "metadata": {
        "id": "60STNXLxG1XG",
        "colab": {
          "base_uri": "https://localhost:8080/",
          "height": 513
        },
        "outputId": "9356fb60-17d6-496b-c970-a6d6787b9a4e"
      },
      "execution_count": 112,
      "outputs": [
        {
          "output_type": "display_data",
          "data": {
            "text/plain": [
              "<Figure size 576x576 with 1 Axes>"
            ],
            "image/png": "[encoded data removed]"
          },
          "metadata": {
            "needs_background": "light"
          }
        }
      ]
    },
    {
      "cell_type": "markdown",
      "source": [
        "From the graph, it is seen that the pulse rate is higher on 23.12.2020"
      ],
      "metadata": {
        "id": "iKMcXB1TeBBB"
      }
    },
    {
      "cell_type": "code",
      "source": [
        "x1=df['DayOfMonth']\n",
        "y1=df['Maxpulse']\n",
        "plt.figure(figsize=(8,8))\n",
        "plt.plot(x1,y1,marker='.',ms=20, mec = 'k', mfc ='m')\n",
        "plt.title('Plot of Day vs MaxPulse')\n",
        "plt.xlabel('Day')\n",
        "plt.ylabel('Max Pulse')\n",
        "plt.xticks()\n",
        "plt.yticks()\n",
        "plt.grid()\n",
        "plt.show()"
      ],
      "metadata": {
        "colab": {
          "base_uri": "https://localhost:8080/",
          "height": 513
        },
        "id": "Do45uIL0ZqTT",
        "outputId": "0d7b9b43-5927-4d7b-9a4b-32bc5fccd916"
      },
      "execution_count": 113,
      "outputs": [
        {
          "output_type": "display_data",
          "data": {
            "text/plain": [
              "<Figure size 576x576 with 1 Axes>"
            ],
            "image/png": "[encoded data removed]"
          },
          "metadata": {
            "needs_background": "light"
          }
        }
      ]
    },
    {
      "cell_type": "markdown",
      "source": [
        "Max pulse is higher on 04/12/2020 and lower on 23/12/2020"
      ],
      "metadata": {
        "id": "Fz_KaZrahz53"
      }
    },
    {
      "cell_type": "code",
      "source": [],
      "metadata": {
        "id": "pkE1md2_h_7i"
      },
      "execution_count": null,
      "outputs": []
    },
    {
      "cell_type": "code",
      "source": [
        "x2=df['DayOfMonth']\n",
        "y2=df['Calories']\n",
        "plt.figure(figsize=(8,8))\n",
        "plt.plot(x2,y2,marker='.',ms=20, mec = 'k', mfc ='m')\n",
        "plt.title('Plot of Day vs Calories')\n",
        "plt.xlabel('Day')\n",
        "plt.ylabel('Calories')\n",
        "plt.xticks()\n",
        "plt.yticks()\n",
        "plt.grid()\n",
        "plt.show()"
      ],
      "metadata": {
        "colab": {
          "base_uri": "https://localhost:8080/",
          "height": 513
        },
        "outputId": "17115b35-16d0-4723-cd82-051bf173a150",
        "id": "lUxqyMegiBuf"
      },
      "execution_count": 114,
      "outputs": [
        {
          "output_type": "display_data",
          "data": {
            "text/plain": [
              "<Figure size 576x576 with 1 Axes>"
            ],
            "image/png": "[encoded data removed]"
          },
          "metadata": {
            "needs_background": "light"
          }
        }
      ]
    },
    {
      "cell_type": "markdown",
      "source": [
        "Higher calorie count is seen on 2/12/2020 and lower on 09/12/2020"
      ],
      "metadata": {
        "id": "OvO_6dNBiN7I"
      }
    },
    {
      "cell_type": "markdown",
      "source": [
        "**Comparison of Pulse and Maxpulse**"
      ],
      "metadata": {
        "id": "68XhCikwif8X"
      }
    },
    {
      "cell_type": "code",
      "source": [
        "plt.figure(figsize=(8,8))\n",
        "plt.plot(x,y)\n",
        "plt.plot(x,y1)\n",
        "plt.title('Plot of Day vs Pulse, Maxpulse')\n",
        "plt.xlabel('Day')\n",
        "plt.ylabel('Pulse, Maxpulse')\n",
        "plt.xticks()\n",
        "plt.yticks()\n",
        "plt.grid()\n",
        "plt.show()"
      ],
      "metadata": {
        "colab": {
          "base_uri": "https://localhost:8080/",
          "height": 513
        },
        "id": "hTlNOQ-3irvI",
        "outputId": "647abca4-85f2-4c00-cfce-9f2ed8a9285a"
      },
      "execution_count": 117,
      "outputs": [
        {
          "output_type": "display_data",
          "data": {
            "text/plain": [
              "<Figure size 576x576 with 1 Axes>"
            ],
            "image/png": "[encoded data removed]"
          },
          "metadata": {
            "needs_background": "light"
          }
        }
      ]
    },
    {
      "cell_type": "markdown",
      "source": [
        "The above graph shows the difference of pulse values and maxpulse values in the given data. While analyzing, we can see that there is a discrepancy in the entered data on 23/12/2022 as the Pulse value comes greater than Maxpulse. This can be some data error."
      ],
      "metadata": {
        "id": "CvRI0QfPjKHF"
      }
    },
    {
      "cell_type": "markdown",
      "source": [
        "**Comparison of Pulse and Calories**"
      ],
      "metadata": {
        "id": "_z6vI2WNjey2"
      }
    },
    {
      "cell_type": "code",
      "source": [
        "plt.figure(figsize=(8,8))\n",
        "plt.plot(x,y)\n",
        "plt.plot(x,y2)\n",
        "plt.title('Plot of Day vs Pulse, Calories')\n",
        "plt.xlabel('Day')\n",
        "plt.ylabel('Pulse, Calories')\n",
        "plt.xticks()\n",
        "plt.yticks()\n",
        "plt.grid()\n",
        "plt.show()"
      ],
      "metadata": {
        "colab": {
          "base_uri": "https://localhost:8080/",
          "height": 513
        },
        "id": "to9OtHS6j5gZ",
        "outputId": "1da4d47f-f2cb-46c2-9898-6e1ebde7ee25"
      },
      "execution_count": 118,
      "outputs": [
        {
          "output_type": "display_data",
          "data": {
            "text/plain": [
              "<Figure size 576x576 with 1 Axes>"
            ],
            "image/png": "[encoded data removed]"
          },
          "metadata": {
            "needs_background": "light"
          }
        }
      ]
    },
    {
      "cell_type": "markdown",
      "source": [
        "From the above data, it can be confirmed that there are no linear relationships between Pulse and Calorie count"
      ],
      "metadata": {
        "id": "9Ok_ZIxmkDFI"
      }
    },
    {
      "cell_type": "markdown",
      "source": [
        "**Boxplots**\n",
        "\n",
        "Boxplots can be used to identify the outlier values in the columns of the dataset, thus can be used for statistical analysis of the given dataset"
      ],
      "metadata": {
        "id": "hl3mRGXIkQJ_"
      }
    },
    {
      "cell_type": "code",
      "source": [
        "plt.boxplot(df['Pulse'])\n",
        "plt.title('Box plot of Pulse')\n",
        "plt.xlabel('Pulse')\n"
      ],
      "metadata": {
        "colab": {
          "base_uri": "https://localhost:8080/",
          "height": 312
        },
        "id": "k8DRZDE8kewH",
        "outputId": "db3737e9-cb15-4d5b-8de5-f76f3e02d71a"
      },
      "execution_count": 120,
      "outputs": [
        {
          "output_type": "execute_result",
          "data": {
            "text/plain": [
              "Text(0.5, 0, 'Pulse')"
            ]
          },
          "metadata": {},
          "execution_count": 120
        },
        {
          "output_type": "display_data",
          "data": {
            "text/plain": [
              "<Figure size 432x288 with 1 Axes>"
            ],
            "image/png": "[encoded data removed]"
          },
          "metadata": {
            "needs_background": "light"
          }
        }
      ]
    },
    {
      "cell_type": "markdown",
      "source": [
        "We can see one outlier value near to 130 in the plot"
      ],
      "metadata": {
        "id": "b0V8T2Dnk2Tm"
      }
    },
    {
      "cell_type": "code",
      "source": [
        "plt.boxplot(df['Maxpulse'])\n",
        "plt.title('Box plot of Maxpulse')\n",
        "plt.xlabel('Maxpulse')\n"
      ],
      "metadata": {
        "colab": {
          "base_uri": "https://localhost:8080/",
          "height": 312
        },
        "id": "l4mEUyZWkwNg",
        "outputId": "51b8b5d0-d626-4ffa-9ea1-0622aab31bba"
      },
      "execution_count": 121,
      "outputs": [
        {
          "output_type": "execute_result",
          "data": {
            "text/plain": [
              "Text(0.5, 0, 'Maxpulse')"
            ]
          },
          "metadata": {},
          "execution_count": 121
        },
        {
          "output_type": "display_data",
          "data": {
            "text/plain": [
              "<Figure size 432x288 with 1 Axes>"
            ],
            "image/png": "[encoded data removed]"
          },
          "metadata": {
            "needs_background": "light"
          }
        }
      ]
    },
    {
      "cell_type": "markdown",
      "source": [
        "We can see 2 outliers, one greater than 170 and the other less than 100"
      ],
      "metadata": {
        "id": "ocbwzkk1k8JX"
      }
    },
    {
      "cell_type": "code",
      "source": [
        "plt.boxplot(df['Calories'])\n",
        "plt.title('Box plot of Calories')\n",
        "plt.xlabel('Calories')"
      ],
      "metadata": {
        "colab": {
          "base_uri": "https://localhost:8080/",
          "height": 312
        },
        "id": "VxSeo7vFkxZf",
        "outputId": "819d4c3c-485b-47a1-bcf5-fd7d9c1bd542"
      },
      "execution_count": 122,
      "outputs": [
        {
          "output_type": "execute_result",
          "data": {
            "text/plain": [
              "Text(0.5, 0, 'Calories')"
            ]
          },
          "metadata": {},
          "execution_count": 122
        },
        {
          "output_type": "display_data",
          "data": {
            "text/plain": [
              "<Figure size 432x288 with 1 Axes>"
            ],
            "image/png": "[encoded data removed]"
          },
          "metadata": {
            "needs_background": "light"
          }
        }
      ]
    },
    {
      "cell_type": "markdown",
      "source": [
        "We can see one outlier, which is greater than 450"
      ],
      "metadata": {
        "id": "kiHwsmqYlD8u"
      }
    },
    {
      "cell_type": "markdown",
      "source": [
        "**Analysis using barplots**\n",
        "\n",
        "The below shows the analysis of Pulse data with Date"
      ],
      "metadata": {
        "id": "5jrGGvswlnaY"
      }
    },
    {
      "cell_type": "code",
      "source": [
        "plt.bar(x,y,color='red')\n",
        "plt.show()"
      ],
      "metadata": {
        "colab": {
          "base_uri": "https://localhost:8080/",
          "height": 265
        },
        "id": "zy5r2ziclp4I",
        "outputId": "55912a4f-a98d-4a02-ae21-40757f40093a"
      },
      "execution_count": 123,
      "outputs": [
        {
          "output_type": "display_data",
          "data": {
            "text/plain": [
              "<Figure size 432x288 with 1 Axes>"
            ],
            "image/png": "[encoded data removed]"
          },
          "metadata": {
            "needs_background": "light"
          }
        }
      ]
    },
    {
      "cell_type": "markdown",
      "source": [
        "**Analysis using Scatterplots**\n",
        "\n",
        "The below shows the scatterplot analysis of Pulse and Maxpulse"
      ],
      "metadata": {
        "id": "WqcBkud3l6Pn"
      }
    },
    {
      "cell_type": "code",
      "source": [
        "plt.scatter(x,y)\n",
        "plt.scatter(x1,y1,color='hotpink',alpha=0.5) \n",
        "plt.show()"
      ],
      "metadata": {
        "colab": {
          "base_uri": "https://localhost:8080/",
          "height": 265
        },
        "id": "MxxM242AmB_H",
        "outputId": "ccc81ef5-3723-4540-ca85-ad450c7428a5"
      },
      "execution_count": 124,
      "outputs": [
        {
          "output_type": "display_data",
          "data": {
            "text/plain": [
              "<Figure size 432x288 with 1 Axes>"
            ],
            "image/png": "[encoded data removed]"
          },
          "metadata": {
            "needs_background": "light"
          }
        }
      ]
    },
    {
      "cell_type": "code",
      "source": [
        "plt.figure(figsize=(8,8))\n",
        "plt.scatter(df['Pulse'],df['Calories'],c='green',s=20, marker = '*')\n",
        "plt.title('Plot of Pulse vs Calories')\n",
        "plt.xlabel('Pulse')\n",
        "plt.ylabel('Calories')\n",
        "plt.xticks()\n",
        "plt.yticks()"
      ],
      "metadata": {
        "colab": {
          "base_uri": "https://localhost:8080/",
          "height": 548
        },
        "id": "c_WC1mURnytG",
        "outputId": "0e478003-3f88-4bb2-85e9-5531324955e7"
      },
      "execution_count": 132,
      "outputs": [
        {
          "output_type": "execute_result",
          "data": {
            "text/plain": [
              "(array([150., 200., 250., 300., 350., 400., 450., 500.]),\n",
              " <a list of 8 Text major ticklabel objects>)"
            ]
          },
          "metadata": {},
          "execution_count": 132
        },
        {
          "output_type": "display_data",
          "data": {
            "text/plain": [
              "<Figure size 576x576 with 1 Axes>"
            ],
            "image/png": "[encoded data removed]"
          },
          "metadata": {
            "needs_background": "light"
          }
        }
      ]
    },
    {
      "cell_type": "markdown",
      "source": [
        "**Analysis using Histogram**\n",
        "\n",
        "Frequency distribution"
      ],
      "metadata": {
        "id": "S0GHGMo5lYFv"
      }
    },
    {
      "cell_type": "code",
      "source": [
        "plt.figure(figsize=(8,8))\n",
        "plt.hist(df['Calories'],color='red',rwidth=0.8)\n",
        "plt.title('Histogram of Calories')\n"
      ],
      "metadata": {
        "colab": {
          "base_uri": "https://localhost:8080/",
          "height": 516
        },
        "id": "aHQQUcqylbSw",
        "outputId": "b6d60fe6-df53-4634-e8c4-822d2ca0f95f"
      },
      "execution_count": 125,
      "outputs": [
        {
          "output_type": "execute_result",
          "data": {
            "text/plain": [
              "Text(0.5, 1.0, 'Histogram of Calories')"
            ]
          },
          "metadata": {},
          "execution_count": 125
        },
        {
          "output_type": "display_data",
          "data": {
            "text/plain": [
              "<Figure size 576x576 with 1 Axes>"
            ],
            "image/png": "[encoded data removed]"
          },
          "metadata": {
            "needs_background": "light"
          }
        }
      ]
    },
    {
      "cell_type": "markdown",
      "source": [
        "**Pie charts**\n"
      ],
      "metadata": {
        "id": "aEPrwD0bmaPM"
      }
    },
    {
      "cell_type": "code",
      "source": [
        "plt.pie(df['Duration'])\n",
        "plt.show()"
      ],
      "metadata": {
        "colab": {
          "base_uri": "https://localhost:8080/",
          "height": 248
        },
        "id": "i2ki-StJmiUv",
        "outputId": "2bc74f51-582b-4120-93ca-5aa759583b3d"
      },
      "execution_count": 128,
      "outputs": [
        {
          "output_type": "display_data",
          "data": {
            "text/plain": [
              "<Figure size 432x288 with 1 Axes>"
            ],
            "image/png": "[encoded data removed]"
          },
          "metadata": {}
        }
      ]
    },
    {
      "cell_type": "markdown",
      "source": [
        "**Relationship plot**"
      ],
      "metadata": {
        "id": "Re8JMiXXnRQn"
      }
    },
    {
      "cell_type": "code",
      "source": [
        "sns.relplot(data=df, x='Duration',y='Pulse')"
      ],
      "metadata": {
        "colab": {
          "base_uri": "https://localhost:8080/",
          "height": 386
        },
        "id": "y0_-1YtBm3IH",
        "outputId": "3ad78722-1768-4cc8-f3de-39f6a47fe9eb"
      },
      "execution_count": 129,
      "outputs": [
        {
          "output_type": "execute_result",
          "data": {
            "text/plain": [
              "<seaborn.axisgrid.FacetGrid at 0x7fccc37422e0>"
            ]
          },
          "metadata": {},
          "execution_count": 129
        },
        {
          "output_type": "display_data",
          "data": {
            "text/plain": [
              "<Figure size 360x360 with 1 Axes>"
            ],
            "image/png": "[encoded data removed]"
          },
          "metadata": {
            "needs_background": "light"
          }
        }
      ]
    },
    {
      "cell_type": "code",
      "source": [
        "sns.relplot(data=df, x='Date',y='Calories',kind='line')"
      ],
      "metadata": {
        "colab": {
          "base_uri": "https://localhost:8080/",
          "height": 386
        },
        "id": "JXfHAd3FncKr",
        "outputId": "19e06816-46e1-420d-ee65-8eae069456d3"
      },
      "execution_count": 130,
      "outputs": [
        {
          "output_type": "execute_result",
          "data": {
            "text/plain": [
              "<seaborn.axisgrid.FacetGrid at 0x7fccc376cc70>"
            ]
          },
          "metadata": {},
          "execution_count": 130
        },
        {
          "output_type": "display_data",
          "data": {
            "text/plain": [
              "<Figure size 360x360 with 1 Axes>"
            ],
            "image/png": "[encoded data removed]"
          },
          "metadata": {
            "needs_background": "light"
          }
        }
      ]
    },
    {
      "cell_type": "markdown",
      "source": [
        "**Correlation**\n",
        "\n",
        "To identify the relationship among the columns"
      ],
      "metadata": {
        "id": "weLSJ83coQgP"
      }
    },
    {
      "cell_type": "code",
      "source": [
        "corrmatrix=df.corr()\n",
        "plt.subplots(figsize=(20,8))\n",
        "sns.heatmap(corrmatrix,vmin=-0.4,vmax=0.9,annot=True,linewidth=0.2)"
      ],
      "metadata": {
        "colab": {
          "base_uri": "https://localhost:8080/",
          "height": 500
        },
        "id": "JfljxI1fnjfS",
        "outputId": "26695c83-71c4-42af-b399-f6ec6bf29ce5"
      },
      "execution_count": 133,
      "outputs": [
        {
          "output_type": "execute_result",
          "data": {
            "text/plain": [
              "<matplotlib.axes._subplots.AxesSubplot at 0x7fccc0d307f0>"
            ]
          },
          "metadata": {},
          "execution_count": 133
        },
        {
          "output_type": "display_data",
          "data": {
            "text/plain": [
              "<Figure size 1440x576 with 2 Axes>"
            ],
            "image/png": "[encoded data removed]"
          },
          "metadata": {
            "needs_background": "light"
          }
        }
      ]
    },
    {
      "cell_type": "markdown",
      "source": [
        "The highest correlation is seen between Pulse and calories, value as 0.48"
      ],
      "metadata": {
        "id": "WZnnaCF8ogpl"
      }
    },
    {
      "cell_type": "markdown",
      "source": [
        "**Pair plots**"
      ],
      "metadata": {
        "id": "0H52tJpMpHz6"
      }
    },
    {
      "cell_type": "code",
      "source": [
        "sns.pairplot(df)"
      ],
      "metadata": {
        "colab": {
          "base_uri": "https://localhost:8080/",
          "height": 920
        },
        "id": "tqjzwWBopKHI",
        "outputId": "a172316e-ce0c-4122-84b9-93a6a1ca7695"
      },
      "execution_count": 134,
      "outputs": [
        {
          "output_type": "execute_result",
          "data": {
            "text/plain": [
              "<seaborn.axisgrid.PairGrid at 0x7fccc3791160>"
            ]
          },
          "metadata": {},
          "execution_count": 134
        },
        {
          "output_type": "display_data",
          "data": {
            "text/plain": [
              "<Figure size 900x900 with 30 Axes>"
            ],
            "image/png": "[encoded data removed]"
          },
          "metadata": {
            "needs_background": "light"
          }
        }
      ]
    }
  ]
}