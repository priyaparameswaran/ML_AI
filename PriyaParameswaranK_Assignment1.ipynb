{
  "cells": [
    {
      "cell_type": "markdown",
      "metadata": {
        "id": "N4j5FY43DCA5"
      },
      "source": [
        "# Assignment 1 NumPy\n",
        "\n"
      ]
    },
    {
      "cell_type": "code",
      "execution_count": 1,
      "metadata": {
        "jupyter": {
          "outputs_hidden": false
        },
        "id": "gieOn3tXDCA8"
      },
      "outputs": [],
      "source": [
        "#Import the libraries \n",
        "import numpy as np"
      ]
    },
    {
      "cell_type": "markdown",
      "metadata": {
        "id": "XiDpqX5BDCA-"
      },
      "source": [
        "# Problem 1 \n",
        "Matrix Manipulations\n",
        "\n",
        "Lets first create a matrix and perform some manipulations of it.\n",
        "\n",
        "Using numpy's matrix data structure, define the following matricies:\n",
        "\n",
        "$$A=\\left[ \\begin{array}{ccc} 3 & 5 & 9 \\\\ 3 & 3 & 4 \\\\ 5 & 9 & 17 \\end{array} \\right]$$\n",
        "\n",
        "$$B=\\left[ \\begin{array}{c} 2 \\\\ 1 \\\\ 4 \\end{array} \\right]$$\n",
        "\n",
        "After this solve the matrix equation:\n",
        "$$Ax = B$$"
      ]
    },
    {
      "cell_type": "code",
      "source": [
        "a=np.array([[3,5,9],[3,3,4],[5,9,17]])\n",
        "a"
      ],
      "metadata": {
        "colab": {
          "base_uri": "https://localhost:8080/"
        },
        "id": "4QR02Q-0DXe2",
        "outputId": "bdebd3dd-99f3-49df-b6ec-c725d6ebd9fa"
      },
      "execution_count": 2,
      "outputs": [
        {
          "output_type": "execute_result",
          "data": {
            "text/plain": [
              "array([[ 3,  5,  9],\n",
              "       [ 3,  3,  4],\n",
              "       [ 5,  9, 17]])"
            ]
          },
          "metadata": {},
          "execution_count": 2
        }
      ]
    },
    {
      "cell_type": "code",
      "source": [
        "b=np.array([[2],[1],[4]])\n",
        "b"
      ],
      "metadata": {
        "colab": {
          "base_uri": "https://localhost:8080/"
        },
        "id": "Z9BPZp6lDRQW",
        "outputId": "cd9ea619-9582-48c9-9653-f0ba47d960bd"
      },
      "execution_count": 3,
      "outputs": [
        {
          "output_type": "execute_result",
          "data": {
            "text/plain": [
              "array([[2],\n",
              "       [1],\n",
              "       [4]])"
            ]
          },
          "metadata": {},
          "execution_count": 3
        }
      ]
    },
    {
      "cell_type": "code",
      "source": [
        "# Solving the matrix Ax=B\n",
        "# The values of x will be as follows:\n",
        "print (\"Solutions:\\n\",np.linalg.solve(a, b ) )"
      ],
      "metadata": {
        "colab": {
          "base_uri": "https://localhost:8080/"
        },
        "id": "7eMwJEO7Du8p",
        "outputId": "d96ca2a4-2711-4341-ff76-68068869b79e"
      },
      "execution_count": 5,
      "outputs": [
        {
          "output_type": "stream",
          "name": "stdout",
          "text": [
            "Solutions:\n",
            " [[ 1.]\n",
            " [-2.]\n",
            " [ 1.]]\n"
          ]
        }
      ]
    },
    {
      "cell_type": "markdown",
      "metadata": {
        "collapsed": true,
        "jupyter": {
          "outputs_hidden": true
        },
        "id": "uSrOxb08DCA_"
      },
      "source": [
        "# Problem 2\n",
        "Create a result array by adding the following two NumPy arrays. Next, modify the result array by calculating the square of each element\n",
        "Input: $$arrayOne = \\left[\\begin{array}{ccc} 5& 6& 9\\\\ 21 & 18 & 27\\end{array}\\right]$$\n",
        "       $$arrayTwo = \\left[\\begin{array}{ccc} 15 &33& 24\\\\ 4 &7& 1\\end{array}\\right]$$\n",
        "\n"
      ]
    },
    {
      "cell_type": "code",
      "source": [
        "a=np.array([[5,6,9],[21,18,27]])\n",
        "a"
      ],
      "metadata": {
        "colab": {
          "base_uri": "https://localhost:8080/"
        },
        "id": "5Sgk8GhgEffl",
        "outputId": "366a7774-4f65-404a-bcdc-09258f5b4d49"
      },
      "execution_count": 6,
      "outputs": [
        {
          "output_type": "execute_result",
          "data": {
            "text/plain": [
              "array([[ 5,  6,  9],\n",
              "       [21, 18, 27]])"
            ]
          },
          "metadata": {},
          "execution_count": 6
        }
      ]
    },
    {
      "cell_type": "code",
      "source": [
        "b=np.array([[15,33,24],[4,7,1]])\n",
        "b"
      ],
      "metadata": {
        "colab": {
          "base_uri": "https://localhost:8080/"
        },
        "id": "0ir1uNy4EuU-",
        "outputId": "b9ec4e02-8218-4717-e7be-83879841daa4"
      },
      "execution_count": 7,
      "outputs": [
        {
          "output_type": "execute_result",
          "data": {
            "text/plain": [
              "array([[15, 33, 24],\n",
              "       [ 4,  7,  1]])"
            ]
          },
          "metadata": {},
          "execution_count": 7
        }
      ]
    },
    {
      "cell_type": "code",
      "source": [
        "# Adding two arrays\n",
        "c=a+b\n",
        "c"
      ],
      "metadata": {
        "colab": {
          "base_uri": "https://localhost:8080/"
        },
        "id": "W899xcZ4FDaH",
        "outputId": "c7604c3a-a10f-4619-e4f2-16c0166b5041"
      },
      "execution_count": 10,
      "outputs": [
        {
          "output_type": "execute_result",
          "data": {
            "text/plain": [
              "array([[20, 39, 33],\n",
              "       [25, 25, 28]])"
            ]
          },
          "metadata": {},
          "execution_count": 10
        }
      ]
    },
    {
      "cell_type": "code",
      "source": [
        "# Finding out squares of elements\n",
        "d=c*c\n",
        "d"
      ],
      "metadata": {
        "colab": {
          "base_uri": "https://localhost:8080/"
        },
        "id": "XB7NlwyXFSHm",
        "outputId": "7d42498a-c783-4e47-f7f3-59895ccee187"
      },
      "execution_count": 12,
      "outputs": [
        {
          "output_type": "execute_result",
          "data": {
            "text/plain": [
              "array([[ 400, 1521, 1089],\n",
              "       [ 625,  625,  784]])"
            ]
          },
          "metadata": {},
          "execution_count": 12
        }
      ]
    },
    {
      "cell_type": "markdown",
      "metadata": {
        "id": "oo-66stpDCA_"
      },
      "source": [
        "# Problem 3\n",
        "Print max from axis 0 and min from axis 1 from the following 2-D array.\\\n",
        "$$sampleArray = \\left[\\begin{array}{ccc} 34&43&73 \\\\ 82&22&12 \\\\ 53&94&66 \\end{array}\\right]$$\n",
        "\n",
        "\n"
      ]
    },
    {
      "cell_type": "code",
      "source": [
        "arr=np.array([[34,43,73],[82,22,12],[53,94,66]])\n",
        "arr\n"
      ],
      "metadata": {
        "colab": {
          "base_uri": "https://localhost:8080/"
        },
        "id": "-njh02ugFknY",
        "outputId": "ea9840ef-f978-49c2-db33-cdc07f347948"
      },
      "execution_count": 13,
      "outputs": [
        {
          "output_type": "execute_result",
          "data": {
            "text/plain": [
              "array([[34, 43, 73],\n",
              "       [82, 22, 12],\n",
              "       [53, 94, 66]])"
            ]
          },
          "metadata": {},
          "execution_count": 13
        }
      ]
    },
    {
      "cell_type": "code",
      "source": [
        "# Finding Max value from axis=0\n",
        "arr.max(axis=0)"
      ],
      "metadata": {
        "colab": {
          "base_uri": "https://localhost:8080/"
        },
        "id": "3MFYZcahGEKZ",
        "outputId": "b534fb32-177c-4367-ae14-5acda84984be"
      },
      "execution_count": 14,
      "outputs": [
        {
          "output_type": "execute_result",
          "data": {
            "text/plain": [
              "array([82, 94, 73])"
            ]
          },
          "metadata": {},
          "execution_count": 14
        }
      ]
    },
    {
      "cell_type": "code",
      "source": [
        "# Finding Min value from axis=1\n",
        "arr.min(axis=1)"
      ],
      "metadata": {
        "colab": {
          "base_uri": "https://localhost:8080/"
        },
        "id": "o0B6dDbaGNPO",
        "outputId": "6dab91d9-655d-4655-943d-e130ecbe555f"
      },
      "execution_count": 15,
      "outputs": [
        {
          "output_type": "execute_result",
          "data": {
            "text/plain": [
              "array([34, 12, 53])"
            ]
          },
          "metadata": {},
          "execution_count": 15
        }
      ]
    },
    {
      "cell_type": "markdown",
      "metadata": {
        "id": "AxpYNE19DCBA"
      },
      "source": [
        "# Problem 4\n",
        "Get the positions where elements of a and b match\\\n",
        "Input:  a = np.array([1,2,3,2,3,4,3,4,5,6])\\\n",
        "b = np.array([7,2,10,2,7,4,9,4,9,8])\\\n",
        "Desired Output: array([1, 3, 5, 7])"
      ]
    },
    {
      "cell_type": "code",
      "source": [
        "arr1=np.array([1,2,3,2,3,4,3,4,5,6])\n",
        "arr1"
      ],
      "metadata": {
        "colab": {
          "base_uri": "https://localhost:8080/"
        },
        "id": "-7ZVw6HjGUay",
        "outputId": "71a936ff-7cdb-498d-a2e1-2267f1e106f8"
      },
      "execution_count": 17,
      "outputs": [
        {
          "output_type": "execute_result",
          "data": {
            "text/plain": [
              "array([1, 2, 3, 2, 3, 4, 3, 4, 5, 6])"
            ]
          },
          "metadata": {},
          "execution_count": 17
        }
      ]
    },
    {
      "cell_type": "code",
      "source": [
        "arr2=np.array([7,2,10,2,7,4,9,4,9,8])\n",
        "arr2"
      ],
      "metadata": {
        "colab": {
          "base_uri": "https://localhost:8080/"
        },
        "id": "UEsCjYzrGknt",
        "outputId": "00f67cce-82bd-4d12-8d6f-5fa8d9da7a80"
      },
      "execution_count": 18,
      "outputs": [
        {
          "output_type": "execute_result",
          "data": {
            "text/plain": [
              "array([ 7,  2, 10,  2,  7,  4,  9,  4,  9,  8])"
            ]
          },
          "metadata": {},
          "execution_count": 18
        }
      ]
    },
    {
      "cell_type": "code",
      "source": [
        "# Positions where A and B matches is as follows:\n",
        "np.arange(len(arr1))[arr1==arr2]"
      ],
      "metadata": {
        "colab": {
          "base_uri": "https://localhost:8080/"
        },
        "id": "mlftbk2NHqRu",
        "outputId": "82b35546-54de-4f3a-e4fd-63d26277673f"
      },
      "execution_count": 21,
      "outputs": [
        {
          "output_type": "execute_result",
          "data": {
            "text/plain": [
              "array([1, 3, 5, 7])"
            ]
          },
          "metadata": {},
          "execution_count": 21
        }
      ]
    },
    {
      "cell_type": "markdown",
      "metadata": {
        "id": "EpCjROZ7DCBA"
      },
      "source": [
        "# Problem 5\n",
        "Given \n",
        "$$a= \\left[\\begin{array}{cc} 1&2\\\\ 3&4 \\end{array}\\right]$$\n",
        "$$b = \\left[\\begin{array}{cc} 5&6 \\\\ 7&8 \\end{array}\\right]$$\n",
        "Obtain c and d\n",
        "$$c = \\left[\\begin{array}{cc} 1&2\\\\ 3&4 \\\\ 5&6 \\\\ 7&8 \\end{array}\\right]$$\n",
        "$$d = \\left[\\begin{array}{cccc} 1&2&5&6\\\\ 3&4&7&8 \\end{array}\\right]$$"
      ]
    },
    {
      "cell_type": "code",
      "execution_count": 22,
      "metadata": {
        "colab": {
          "base_uri": "https://localhost:8080/"
        },
        "id": "pU2zHGk-DCBB",
        "outputId": "9e63314c-7f3b-4594-a26b-1ff5109a94a7"
      },
      "outputs": [
        {
          "output_type": "execute_result",
          "data": {
            "text/plain": [
              "array([[1, 2],\n",
              "       [3, 4]])"
            ]
          },
          "metadata": {},
          "execution_count": 22
        }
      ],
      "source": [
        "a=np.array([[1,2],[3,4]])\n",
        "a"
      ]
    },
    {
      "cell_type": "code",
      "source": [
        "b=np.array([[5,6],[7,8]])\n",
        "b"
      ],
      "metadata": {
        "colab": {
          "base_uri": "https://localhost:8080/"
        },
        "id": "7Bxc5i1rIs-_",
        "outputId": "775e5ba9-b36d-4d31-cf61-809867baad6b"
      },
      "execution_count": 23,
      "outputs": [
        {
          "output_type": "execute_result",
          "data": {
            "text/plain": [
              "array([[5, 6],\n",
              "       [7, 8]])"
            ]
          },
          "metadata": {},
          "execution_count": 23
        }
      ]
    },
    {
      "cell_type": "code",
      "source": [
        "# concatenating row wise\n",
        "c=np.concatenate((a,b),axis=0)\n",
        "c"
      ],
      "metadata": {
        "colab": {
          "base_uri": "https://localhost:8080/"
        },
        "id": "6sUE8Qi_JB27",
        "outputId": "ed2e3143-cfb5-4082-e300-71ea63e49fcf"
      },
      "execution_count": 25,
      "outputs": [
        {
          "output_type": "execute_result",
          "data": {
            "text/plain": [
              "array([[1, 2],\n",
              "       [3, 4],\n",
              "       [5, 6],\n",
              "       [7, 8]])"
            ]
          },
          "metadata": {},
          "execution_count": 25
        }
      ]
    },
    {
      "cell_type": "code",
      "source": [
        "# Concatenating column wise\n",
        "d=np.concatenate((a,b),axis=1)\n",
        "d"
      ],
      "metadata": {
        "colab": {
          "base_uri": "https://localhost:8080/"
        },
        "id": "TQ4phffjJPYN",
        "outputId": "ce00d417-b1b0-4428-e992-b3a93a76cf45"
      },
      "execution_count": 26,
      "outputs": [
        {
          "output_type": "execute_result",
          "data": {
            "text/plain": [
              "array([[1, 2, 5, 6],\n",
              "       [3, 4, 7, 8]])"
            ]
          },
          "metadata": {},
          "execution_count": 26
        }
      ]
    }
  ],
  "metadata": {
    "kernelspec": {
      "display_name": "Python 3 (ipykernel)",
      "language": "python",
      "name": "python3"
    },
    "language_info": {
      "codemirror_mode": {
        "name": "ipython",
        "version": 3
      },
      "file_extension": ".py",
      "mimetype": "text/x-python",
      "name": "python",
      "nbconvert_exporter": "python",
      "pygments_lexer": "ipython3",
      "version": "3.9.13"
    },
    "colab": {
      "provenance": []
    }
  },
  "nbformat": 4,
  "nbformat_minor": 0
}