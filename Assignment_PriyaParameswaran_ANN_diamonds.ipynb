{
  "nbformat": 4,
  "nbformat_minor": 0,
  "metadata": {
    "colab": {
      "provenance": []
    },
    "kernelspec": {
      "name": "python3",
      "display_name": "Python 3"
    },
    "language_info": {
      "name": "python"
    },
    "accelerator": "GPU",
    "gpuClass": "standard"
  },
  "cells": [
    {
      "cell_type": "markdown",
      "source": [
        "# **ANN on Diamonds dataset**"
      ],
      "metadata": {
        "id": "0RcfTuJcVyK0"
      }
    },
    {
      "cell_type": "markdown",
      "source": [
        "**Given diamonds dataset and ANN model python notebook is given**\n",
        "\n",
        "**Try different models and reduce the mean squared error** "
      ],
      "metadata": {
        "id": "z54roSMgV4an"
      }
    },
    {
      "cell_type": "code",
      "execution_count": 35,
      "metadata": {
        "id": "NBIDZr3v1Nvv"
      },
      "outputs": [],
      "source": [
        "#importing libraries\n",
        "import pandas as pd\n",
        "import numpy as np"
      ]
    },
    {
      "cell_type": "code",
      "source": [
        "from google.colab import files\n",
        "uploaded=files.upload()"
      ],
      "metadata": {
        "colab": {
          "base_uri": "https://localhost:8080/",
          "height": 73
        },
        "id": "knQ22LZYWIBe",
        "outputId": "f1bd630e-c486-498b-9be0-65321b881af9"
      },
      "execution_count": 36,
      "outputs": [
        {
          "output_type": "display_data",
          "data": {
            "text/plain": [
              "<IPython.core.display.HTML object>"
            ],
            "text/html": [
              "\n",
              "     <input type=\"file\" id=\"files-7475550d-3047-40e8-941e-590ecbea6922\" name=\"files[]\" multiple disabled\n",
              "        style=\"border:none\" />\n",
              "     <output id=\"result-7475550d-3047-40e8-941e-590ecbea6922\">\n",
              "      Upload widget is only available when the cell has been executed in the\n",
              "      current browser session. Please rerun this cell to enable.\n",
              "      </output>\n",
              "      <script>// Copyright 2017 Google LLC\n",
              "//\n",
              "// Licensed under the Apache License, Version 2.0 (the \"License\");\n",
              "// you may not use this file except in compliance with the License.\n",
              "// You may obtain a copy of the License at\n",
              "//\n",
              "//      http://www.apache.org/licenses/LICENSE-2.0\n",
              "//\n",
              "// Unless required by applicable law or agreed to in writing, software\n",
              "// distributed under the License is distributed on an \"AS IS\" BASIS,\n",
              "// WITHOUT WARRANTIES OR CONDITIONS OF ANY KIND, either express or implied.\n",
              "// See the License for the specific language governing permissions and\n",
              "// limitations under the License.\n",
              "\n",
              "/**\n",
              " * @fileoverview Helpers for google.colab Python module.\n",
              " */\n",
              "(function(scope) {\n",
              "function span(text, styleAttributes = {}) {\n",
              "  const element = document.createElement('span');\n",
              "  element.textContent = text;\n",
              "  for (const key of Object.keys(styleAttributes)) {\n",
              "    element.style[key] = styleAttributes[key];\n",
              "  }\n",
              "  return element;\n",
              "}\n",
              "\n",
              "// Max number of bytes which will be uploaded at a time.\n",
              "const MAX_PAYLOAD_SIZE = 100 * 1024;\n",
              "\n",
              "function _uploadFiles(inputId, outputId) {\n",
              "  const steps = uploadFilesStep(inputId, outputId);\n",
              "  const outputElement = document.getElementById(outputId);\n",
              "  // Cache steps on the outputElement to make it available for the next call\n",
              "  // to uploadFilesContinue from Python.\n",
              "  outputElement.steps = steps;\n",
              "\n",
              "  return _uploadFilesContinue(outputId);\n",
              "}\n",
              "\n",
              "// This is roughly an async generator (not supported in the browser yet),\n",
              "// where there are multiple asynchronous steps and the Python side is going\n",
              "// to poll for completion of each step.\n",
              "// This uses a Promise to block the python side on completion of each step,\n",
              "// then passes the result of the previous step as the input to the next step.\n",
              "function _uploadFilesContinue(outputId) {\n",
              "  const outputElement = document.getElementById(outputId);\n",
              "  const steps = outputElement.steps;\n",
              "\n",
              "  const next = steps.next(outputElement.lastPromiseValue);\n",
              "  return Promise.resolve(next.value.promise).then((value) => {\n",
              "    // Cache the last promise value to make it available to the next\n",
              "    // step of the generator.\n",
              "    outputElement.lastPromiseValue = value;\n",
              "    return next.value.response;\n",
              "  });\n",
              "}\n",
              "\n",
              "/**\n",
              " * Generator function which is called between each async step of the upload\n",
              " * process.\n",
              " * @param {string} inputId Element ID of the input file picker element.\n",
              " * @param {string} outputId Element ID of the output display.\n",
              " * @return {!Iterable<!Object>} Iterable of next steps.\n",
              " */\n",
              "function* uploadFilesStep(inputId, outputId) {\n",
              "  const inputElement = document.getElementById(inputId);\n",
              "  inputElement.disabled = false;\n",
              "\n",
              "  const outputElement = document.getElementById(outputId);\n",
              "  outputElement.innerHTML = '';\n",
              "\n",
              "  const pickedPromise = new Promise((resolve) => {\n",
              "    inputElement.addEventListener('change', (e) => {\n",
              "      resolve(e.target.files);\n",
              "    });\n",
              "  });\n",
              "\n",
              "  const cancel = document.createElement('button');\n",
              "  inputElement.parentElement.appendChild(cancel);\n",
              "  cancel.textContent = 'Cancel upload';\n",
              "  const cancelPromise = new Promise((resolve) => {\n",
              "    cancel.onclick = () => {\n",
              "      resolve(null);\n",
              "    };\n",
              "  });\n",
              "\n",
              "  // Wait for the user to pick the files.\n",
              "  const files = yield {\n",
              "    promise: Promise.race([pickedPromise, cancelPromise]),\n",
              "    response: {\n",
              "      action: 'starting',\n",
              "    }\n",
              "  };\n",
              "\n",
              "  cancel.remove();\n",
              "\n",
              "  // Disable the input element since further picks are not allowed.\n",
              "  inputElement.disabled = true;\n",
              "\n",
              "  if (!files) {\n",
              "    return {\n",
              "      response: {\n",
              "        action: 'complete',\n",
              "      }\n",
              "    };\n",
              "  }\n",
              "\n",
              "  for (const file of files) {\n",
              "    const li = document.createElement('li');\n",
              "    li.append(span(file.name, {fontWeight: 'bold'}));\n",
              "    li.append(span(\n",
              "        `(${file.type || 'n/a'}) - ${file.size} bytes, ` +\n",
              "        `last modified: ${\n",
              "            file.lastModifiedDate ? file.lastModifiedDate.toLocaleDateString() :\n",
              "                                    'n/a'} - `));\n",
              "    const percent = span('0% done');\n",
              "    li.appendChild(percent);\n",
              "\n",
              "    outputElement.appendChild(li);\n",
              "\n",
              "    const fileDataPromise = new Promise((resolve) => {\n",
              "      const reader = new FileReader();\n",
              "      reader.onload = (e) => {\n",
              "        resolve(e.target.result);\n",
              "      };\n",
              "      reader.readAsArrayBuffer(file);\n",
              "    });\n",
              "    // Wait for the data to be ready.\n",
              "    let fileData = yield {\n",
              "      promise: fileDataPromise,\n",
              "      response: {\n",
              "        action: 'continue',\n",
              "      }\n",
              "    };\n",
              "\n",
              "    // Use a chunked sending to avoid message size limits. See b/62115660.\n",
              "    let position = 0;\n",
              "    do {\n",
              "      const length = Math.min(fileData.byteLength - position, MAX_PAYLOAD_SIZE);\n",
              "      const chunk = new Uint8Array(fileData, position, length);\n",
              "      position += length;\n",
              "\n",
              "      const base64 = btoa(String.fromCharCode.apply(null, chunk));\n",
              "      yield {\n",
              "        response: {\n",
              "          action: 'append',\n",
              "          file: file.name,\n",
              "          data: base64,\n",
              "        },\n",
              "      };\n",
              "\n",
              "      let percentDone = fileData.byteLength === 0 ?\n",
              "          100 :\n",
              "          Math.round((position / fileData.byteLength) * 100);\n",
              "      percent.textContent = `${percentDone}% done`;\n",
              "\n",
              "    } while (position < fileData.byteLength);\n",
              "  }\n",
              "\n",
              "  // All done.\n",
              "  yield {\n",
              "    response: {\n",
              "      action: 'complete',\n",
              "    }\n",
              "  };\n",
              "}\n",
              "\n",
              "scope.google = scope.google || {};\n",
              "scope.google.colab = scope.google.colab || {};\n",
              "scope.google.colab._files = {\n",
              "  _uploadFiles,\n",
              "  _uploadFilesContinue,\n",
              "};\n",
              "})(self);\n",
              "</script> "
            ]
          },
          "metadata": {}
        },
        {
          "output_type": "stream",
          "name": "stdout",
          "text": [
            "Saving diamonds_new.csv to diamonds_new (1).csv\n"
          ]
        }
      ]
    },
    {
      "cell_type": "code",
      "source": [
        "#reading dataset\n",
        "data = pd.read_csv(\"diamonds_new.csv\")"
      ],
      "metadata": {
        "id": "CcBi5z4n1t80"
      },
      "execution_count": 37,
      "outputs": []
    },
    {
      "cell_type": "code",
      "source": [
        "data.head()"
      ],
      "metadata": {
        "colab": {
          "base_uri": "https://localhost:8080/",
          "height": 206
        },
        "id": "-ZyHsHf91zht",
        "outputId": "18970e65-ef3a-4d35-9c23-0bfe1b558f0c"
      },
      "execution_count": 38,
      "outputs": [
        {
          "output_type": "execute_result",
          "data": {
            "text/plain": [
              "   carat      cut color clarity  table     x     y     z  price_new\n",
              "0   0.23    Ideal     E     SI2   55.0  3.95  3.98  2.43      163.0\n",
              "1   0.21  Premium     E     SI1   61.0  3.89  3.84  2.31      163.0\n",
              "2   0.23     Good     E     VS1   65.0  4.05  4.07  2.31      163.5\n",
              "3   0.29  Premium     I     VS2   58.0  4.20  4.23  2.63      167.0\n",
              "4   0.31     Good     J     SI2   58.0  4.34  4.35  2.75      167.5"
            ],
            "text/html": [
              "\n",
              "  <div id=\"df-45eec52a-0345-42d6-9fcc-3a2ceab05914\">\n",
              "    <div class=\"colab-df-container\">\n",
              "      <div>\n",
              "<style scoped>\n",
              "    .dataframe tbody tr th:only-of-type {\n",
              "        vertical-align: middle;\n",
              "    }\n",
              "\n",
              "    .dataframe tbody tr th {\n",
              "        vertical-align: top;\n",
              "    }\n",
              "\n",
              "    .dataframe thead th {\n",
              "        text-align: right;\n",
              "    }\n",
              "</style>\n",
              "<table border=\"1\" class=\"dataframe\">\n",
              "  <thead>\n",
              "    <tr style=\"text-align: right;\">\n",
              "      <th></th>\n",
              "      <th>carat</th>\n",
              "      <th>cut</th>\n",
              "      <th>color</th>\n",
              "      <th>clarity</th>\n",
              "      <th>table</th>\n",
              "      <th>x</th>\n",
              "      <th>y</th>\n",
              "      <th>z</th>\n",
              "      <th>price_new</th>\n",
              "    </tr>\n",
              "  </thead>\n",
              "  <tbody>\n",
              "    <tr>\n",
              "      <th>0</th>\n",
              "      <td>0.23</td>\n",
              "      <td>Ideal</td>\n",
              "      <td>E</td>\n",
              "      <td>SI2</td>\n",
              "      <td>55.0</td>\n",
              "      <td>3.95</td>\n",
              "      <td>3.98</td>\n",
              "      <td>2.43</td>\n",
              "      <td>163.0</td>\n",
              "    </tr>\n",
              "    <tr>\n",
              "      <th>1</th>\n",
              "      <td>0.21</td>\n",
              "      <td>Premium</td>\n",
              "      <td>E</td>\n",
              "      <td>SI1</td>\n",
              "      <td>61.0</td>\n",
              "      <td>3.89</td>\n",
              "      <td>3.84</td>\n",
              "      <td>2.31</td>\n",
              "      <td>163.0</td>\n",
              "    </tr>\n",
              "    <tr>\n",
              "      <th>2</th>\n",
              "      <td>0.23</td>\n",
              "      <td>Good</td>\n",
              "      <td>E</td>\n",
              "      <td>VS1</td>\n",
              "      <td>65.0</td>\n",
              "      <td>4.05</td>\n",
              "      <td>4.07</td>\n",
              "      <td>2.31</td>\n",
              "      <td>163.5</td>\n",
              "    </tr>\n",
              "    <tr>\n",
              "      <th>3</th>\n",
              "      <td>0.29</td>\n",
              "      <td>Premium</td>\n",
              "      <td>I</td>\n",
              "      <td>VS2</td>\n",
              "      <td>58.0</td>\n",
              "      <td>4.20</td>\n",
              "      <td>4.23</td>\n",
              "      <td>2.63</td>\n",
              "      <td>167.0</td>\n",
              "    </tr>\n",
              "    <tr>\n",
              "      <th>4</th>\n",
              "      <td>0.31</td>\n",
              "      <td>Good</td>\n",
              "      <td>J</td>\n",
              "      <td>SI2</td>\n",
              "      <td>58.0</td>\n",
              "      <td>4.34</td>\n",
              "      <td>4.35</td>\n",
              "      <td>2.75</td>\n",
              "      <td>167.5</td>\n",
              "    </tr>\n",
              "  </tbody>\n",
              "</table>\n",
              "</div>\n",
              "      <button class=\"colab-df-convert\" onclick=\"convertToInteractive('df-45eec52a-0345-42d6-9fcc-3a2ceab05914')\"\n",
              "              title=\"Convert this dataframe to an interactive table.\"\n",
              "              style=\"display:none;\">\n",
              "        \n",
              "  <svg xmlns=\"http://www.w3.org/2000/svg\" height=\"24px\"viewBox=\"0 0 24 24\"\n",
              "       width=\"24px\">\n",
              "    <path d=\"M0 0h24v24H0V0z\" fill=\"none\"/>\n",
              "    <path d=\"M18.56 5.44l.94 2.06.94-2.06 2.06-.94-2.06-.94-.94-2.06-.94 2.06-2.06.94zm-11 1L8.5 8.5l.94-2.06 2.06-.94-2.06-.94L8.5 2.5l-.94 2.06-2.06.94zm10 10l.94 2.06.94-2.06 2.06-.94-2.06-.94-.94-2.06-.94 2.06-2.06.94z\"/><path d=\"M17.41 7.96l-1.37-1.37c-.4-.4-.92-.59-1.43-.59-.52 0-1.04.2-1.43.59L10.3 9.45l-7.72 7.72c-.78.78-.78 2.05 0 2.83L4 21.41c.39.39.9.59 1.41.59.51 0 1.02-.2 1.41-.59l7.78-7.78 2.81-2.81c.8-.78.8-2.07 0-2.86zM5.41 20L4 18.59l7.72-7.72 1.47 1.35L5.41 20z\"/>\n",
              "  </svg>\n",
              "      </button>\n",
              "      \n",
              "  <style>\n",
              "    .colab-df-container {\n",
              "      display:flex;\n",
              "      flex-wrap:wrap;\n",
              "      gap: 12px;\n",
              "    }\n",
              "\n",
              "    .colab-df-convert {\n",
              "      background-color: #E8F0FE;\n",
              "      border: none;\n",
              "      border-radius: 50%;\n",
              "      cursor: pointer;\n",
              "      display: none;\n",
              "      fill: #1967D2;\n",
              "      height: 32px;\n",
              "      padding: 0 0 0 0;\n",
              "      width: 32px;\n",
              "    }\n",
              "\n",
              "    .colab-df-convert:hover {\n",
              "      background-color: #E2EBFA;\n",
              "      box-shadow: 0px 1px 2px rgba(60, 64, 67, 0.3), 0px 1px 3px 1px rgba(60, 64, 67, 0.15);\n",
              "      fill: #174EA6;\n",
              "    }\n",
              "\n",
              "    [theme=dark] .colab-df-convert {\n",
              "      background-color: #3B4455;\n",
              "      fill: #D2E3FC;\n",
              "    }\n",
              "\n",
              "    [theme=dark] .colab-df-convert:hover {\n",
              "      background-color: #434B5C;\n",
              "      box-shadow: 0px 1px 3px 1px rgba(0, 0, 0, 0.15);\n",
              "      filter: drop-shadow(0px 1px 2px rgba(0, 0, 0, 0.3));\n",
              "      fill: #FFFFFF;\n",
              "    }\n",
              "  </style>\n",
              "\n",
              "      <script>\n",
              "        const buttonEl =\n",
              "          document.querySelector('#df-45eec52a-0345-42d6-9fcc-3a2ceab05914 button.colab-df-convert');\n",
              "        buttonEl.style.display =\n",
              "          google.colab.kernel.accessAllowed ? 'block' : 'none';\n",
              "\n",
              "        async function convertToInteractive(key) {\n",
              "          const element = document.querySelector('#df-45eec52a-0345-42d6-9fcc-3a2ceab05914');\n",
              "          const dataTable =\n",
              "            await google.colab.kernel.invokeFunction('convertToInteractive',\n",
              "                                                     [key], {});\n",
              "          if (!dataTable) return;\n",
              "\n",
              "          const docLinkHtml = 'Like what you see? Visit the ' +\n",
              "            '<a target=\"_blank\" href=https://colab.research.google.com/notebooks/data_table.ipynb>data table notebook</a>'\n",
              "            + ' to learn more about interactive tables.';\n",
              "          element.innerHTML = '';\n",
              "          dataTable['output_type'] = 'display_data';\n",
              "          await google.colab.output.renderOutput(dataTable, element);\n",
              "          const docLink = document.createElement('div');\n",
              "          docLink.innerHTML = docLinkHtml;\n",
              "          element.appendChild(docLink);\n",
              "        }\n",
              "      </script>\n",
              "    </div>\n",
              "  </div>\n",
              "  "
            ]
          },
          "metadata": {},
          "execution_count": 38
        }
      ]
    },
    {
      "cell_type": "code",
      "source": [
        "data.columns"
      ],
      "metadata": {
        "colab": {
          "base_uri": "https://localhost:8080/"
        },
        "id": "OdSZg7DmYUN9",
        "outputId": "e1614cd9-3f45-4e18-d7da-43a2aeb3726d"
      },
      "execution_count": 39,
      "outputs": [
        {
          "output_type": "execute_result",
          "data": {
            "text/plain": [
              "Index(['carat', 'cut', 'color', 'clarity', 'table', 'x', 'y', 'z',\n",
              "       'price_new'],\n",
              "      dtype='object')"
            ]
          },
          "metadata": {},
          "execution_count": 39
        }
      ]
    },
    {
      "cell_type": "code",
      "source": [
        "data.info()"
      ],
      "metadata": {
        "colab": {
          "base_uri": "https://localhost:8080/"
        },
        "id": "sg_MvW-611vg",
        "outputId": "b75561f2-ba20-439d-c3ca-dcec6fb4f4f4"
      },
      "execution_count": 40,
      "outputs": [
        {
          "output_type": "stream",
          "name": "stdout",
          "text": [
            "<class 'pandas.core.frame.DataFrame'>\n",
            "RangeIndex: 53940 entries, 0 to 53939\n",
            "Data columns (total 9 columns):\n",
            " #   Column     Non-Null Count  Dtype  \n",
            "---  ------     --------------  -----  \n",
            " 0   carat      53841 non-null  float64\n",
            " 1   cut        53940 non-null  object \n",
            " 2   color      53884 non-null  object \n",
            " 3   clarity    53940 non-null  object \n",
            " 4   table      53877 non-null  float64\n",
            " 5   x          53940 non-null  float64\n",
            " 6   y          53940 non-null  float64\n",
            " 7   z          53940 non-null  float64\n",
            " 8   price_new  53940 non-null  float64\n",
            "dtypes: float64(6), object(3)\n",
            "memory usage: 3.7+ MB\n"
          ]
        }
      ]
    },
    {
      "cell_type": "code",
      "source": [
        "### handling null values\n",
        "data.isna().sum()"
      ],
      "metadata": {
        "colab": {
          "base_uri": "https://localhost:8080/"
        },
        "id": "JiB67XR13MKP",
        "outputId": "bf90499f-eadc-4f6e-ae74-31977314a976"
      },
      "execution_count": 41,
      "outputs": [
        {
          "output_type": "execute_result",
          "data": {
            "text/plain": [
              "carat        99\n",
              "cut           0\n",
              "color        56\n",
              "clarity       0\n",
              "table        63\n",
              "x             0\n",
              "y             0\n",
              "z             0\n",
              "price_new     0\n",
              "dtype: int64"
            ]
          },
          "metadata": {},
          "execution_count": 41
        }
      ]
    },
    {
      "cell_type": "code",
      "source": [
        "data.shape"
      ],
      "metadata": {
        "colab": {
          "base_uri": "https://localhost:8080/"
        },
        "id": "tLhAPmbR3Pev",
        "outputId": "d43d6a61-9520-42ad-9c0d-773e29fecea8"
      },
      "execution_count": 42,
      "outputs": [
        {
          "output_type": "execute_result",
          "data": {
            "text/plain": [
              "(53940, 9)"
            ]
          },
          "metadata": {},
          "execution_count": 42
        }
      ]
    },
    {
      "cell_type": "code",
      "source": [
        "import matplotlib.pyplot as plt"
      ],
      "metadata": {
        "id": "exQ4u-5K3VkQ"
      },
      "execution_count": 43,
      "outputs": []
    },
    {
      "cell_type": "code",
      "source": [
        "plt.hist(data['carat'])\n",
        "plt.show()"
      ],
      "metadata": {
        "colab": {
          "base_uri": "https://localhost:8080/",
          "height": 430
        },
        "id": "gseHov533azw",
        "outputId": "b7fa5784-864d-4e52-b086-2f3717b13fb4"
      },
      "execution_count": 44,
      "outputs": [
        {
          "output_type": "display_data",
          "data": {
            "text/plain": [
              "<Figure size 640x480 with 1 Axes>"
            ],
            "image/png": "[encoded data removed]"
          },
          "metadata": {}
        }
      ]
    },
    {
      "cell_type": "code",
      "source": [
        "plt.hist(data['table'])\n",
        "plt.show()"
      ],
      "metadata": {
        "colab": {
          "base_uri": "https://localhost:8080/",
          "height": 430
        },
        "id": "F1tB9pa-3e2D",
        "outputId": "4e901a8c-a360-4ffc-bdb1-449a2956d47a"
      },
      "execution_count": 45,
      "outputs": [
        {
          "output_type": "display_data",
          "data": {
            "text/plain": [
              "<Figure size 640x480 with 1 Axes>"
            ],
            "image/png": "[encoded data removed]"
          },
          "metadata": {}
        }
      ]
    },
    {
      "cell_type": "code",
      "source": [
        "data.describe()"
      ],
      "metadata": {
        "colab": {
          "base_uri": "https://localhost:8080/",
          "height": 300
        },
        "id": "L1BAK_W53kag",
        "outputId": "cf23cb8a-5a48-4d6e-9107-6b5bac06801e"
      },
      "execution_count": 46,
      "outputs": [
        {
          "output_type": "execute_result",
          "data": {
            "text/plain": [
              "              carat         table             x             y             z  \\\n",
              "count  53841.000000  53877.000000  53940.000000  53940.000000  53940.000000   \n",
              "mean       0.798120     57.457719      5.731157      5.734526      3.539635   \n",
              "std        0.474428      2.235742      1.121761      1.142135      0.703869   \n",
              "min        0.200000     43.000000      0.000000      0.000000      0.000000   \n",
              "25%        0.400000     56.000000      4.710000      4.720000      2.910000   \n",
              "50%        0.700000     57.000000      5.700000      5.710000      3.530000   \n",
              "75%        1.040000     59.000000      6.540000      6.540000      4.040000   \n",
              "max        5.010000     95.000000     10.740000     58.900000     31.800000   \n",
              "\n",
              "          price_new  \n",
              "count  53940.000000  \n",
              "mean    1966.399861  \n",
              "std     1994.719869  \n",
              "min      163.000000  \n",
              "25%      475.000000  \n",
              "50%     1200.500000  \n",
              "75%     2662.125000  \n",
              "max     9411.500000  "
            ],
            "text/html": [
              "\n",
              "  <div id=\"df-ff86c6f3-3da3-41c8-b097-b2776228caa5\">\n",
              "    <div class=\"colab-df-container\">\n",
              "      <div>\n",
              "<style scoped>\n",
              "    .dataframe tbody tr th:only-of-type {\n",
              "        vertical-align: middle;\n",
              "    }\n",
              "\n",
              "    .dataframe tbody tr th {\n",
              "        vertical-align: top;\n",
              "    }\n",
              "\n",
              "    .dataframe thead th {\n",
              "        text-align: right;\n",
              "    }\n",
              "</style>\n",
              "<table border=\"1\" class=\"dataframe\">\n",
              "  <thead>\n",
              "    <tr style=\"text-align: right;\">\n",
              "      <th></th>\n",
              "      <th>carat</th>\n",
              "      <th>table</th>\n",
              "      <th>x</th>\n",
              "      <th>y</th>\n",
              "      <th>z</th>\n",
              "      <th>price_new</th>\n",
              "    </tr>\n",
              "  </thead>\n",
              "  <tbody>\n",
              "    <tr>\n",
              "      <th>count</th>\n",
              "      <td>53841.000000</td>\n",
              "      <td>53877.000000</td>\n",
              "      <td>53940.000000</td>\n",
              "      <td>53940.000000</td>\n",
              "      <td>53940.000000</td>\n",
              "      <td>53940.000000</td>\n",
              "    </tr>\n",
              "    <tr>\n",
              "      <th>mean</th>\n",
              "      <td>0.798120</td>\n",
              "      <td>57.457719</td>\n",
              "      <td>5.731157</td>\n",
              "      <td>5.734526</td>\n",
              "      <td>3.539635</td>\n",
              "      <td>1966.399861</td>\n",
              "    </tr>\n",
              "    <tr>\n",
              "      <th>std</th>\n",
              "      <td>0.474428</td>\n",
              "      <td>2.235742</td>\n",
              "      <td>1.121761</td>\n",
              "      <td>1.142135</td>\n",
              "      <td>0.703869</td>\n",
              "      <td>1994.719869</td>\n",
              "    </tr>\n",
              "    <tr>\n",
              "      <th>min</th>\n",
              "      <td>0.200000</td>\n",
              "      <td>43.000000</td>\n",
              "      <td>0.000000</td>\n",
              "      <td>0.000000</td>\n",
              "      <td>0.000000</td>\n",
              "      <td>163.000000</td>\n",
              "    </tr>\n",
              "    <tr>\n",
              "      <th>25%</th>\n",
              "      <td>0.400000</td>\n",
              "      <td>56.000000</td>\n",
              "      <td>4.710000</td>\n",
              "      <td>4.720000</td>\n",
              "      <td>2.910000</td>\n",
              "      <td>475.000000</td>\n",
              "    </tr>\n",
              "    <tr>\n",
              "      <th>50%</th>\n",
              "      <td>0.700000</td>\n",
              "      <td>57.000000</td>\n",
              "      <td>5.700000</td>\n",
              "      <td>5.710000</td>\n",
              "      <td>3.530000</td>\n",
              "      <td>1200.500000</td>\n",
              "    </tr>\n",
              "    <tr>\n",
              "      <th>75%</th>\n",
              "      <td>1.040000</td>\n",
              "      <td>59.000000</td>\n",
              "      <td>6.540000</td>\n",
              "      <td>6.540000</td>\n",
              "      <td>4.040000</td>\n",
              "      <td>2662.125000</td>\n",
              "    </tr>\n",
              "    <tr>\n",
              "      <th>max</th>\n",
              "      <td>5.010000</td>\n",
              "      <td>95.000000</td>\n",
              "      <td>10.740000</td>\n",
              "      <td>58.900000</td>\n",
              "      <td>31.800000</td>\n",
              "      <td>9411.500000</td>\n",
              "    </tr>\n",
              "  </tbody>\n",
              "</table>\n",
              "</div>\n",
              "      <button class=\"colab-df-convert\" onclick=\"convertToInteractive('df-ff86c6f3-3da3-41c8-b097-b2776228caa5')\"\n",
              "              title=\"Convert this dataframe to an interactive table.\"\n",
              "              style=\"display:none;\">\n",
              "        \n",
              "  <svg xmlns=\"http://www.w3.org/2000/svg\" height=\"24px\"viewBox=\"0 0 24 24\"\n",
              "       width=\"24px\">\n",
              "    <path d=\"M0 0h24v24H0V0z\" fill=\"none\"/>\n",
              "    <path d=\"M18.56 5.44l.94 2.06.94-2.06 2.06-.94-2.06-.94-.94-2.06-.94 2.06-2.06.94zm-11 1L8.5 8.5l.94-2.06 2.06-.94-2.06-.94L8.5 2.5l-.94 2.06-2.06.94zm10 10l.94 2.06.94-2.06 2.06-.94-2.06-.94-.94-2.06-.94 2.06-2.06.94z\"/><path d=\"M17.41 7.96l-1.37-1.37c-.4-.4-.92-.59-1.43-.59-.52 0-1.04.2-1.43.59L10.3 9.45l-7.72 7.72c-.78.78-.78 2.05 0 2.83L4 21.41c.39.39.9.59 1.41.59.51 0 1.02-.2 1.41-.59l7.78-7.78 2.81-2.81c.8-.78.8-2.07 0-2.86zM5.41 20L4 18.59l7.72-7.72 1.47 1.35L5.41 20z\"/>\n",
              "  </svg>\n",
              "      </button>\n",
              "      \n",
              "  <style>\n",
              "    .colab-df-container {\n",
              "      display:flex;\n",
              "      flex-wrap:wrap;\n",
              "      gap: 12px;\n",
              "    }\n",
              "\n",
              "    .colab-df-convert {\n",
              "      background-color: #E8F0FE;\n",
              "      border: none;\n",
              "      border-radius: 50%;\n",
              "      cursor: pointer;\n",
              "      display: none;\n",
              "      fill: #1967D2;\n",
              "      height: 32px;\n",
              "      padding: 0 0 0 0;\n",
              "      width: 32px;\n",
              "    }\n",
              "\n",
              "    .colab-df-convert:hover {\n",
              "      background-color: #E2EBFA;\n",
              "      box-shadow: 0px 1px 2px rgba(60, 64, 67, 0.3), 0px 1px 3px 1px rgba(60, 64, 67, 0.15);\n",
              "      fill: #174EA6;\n",
              "    }\n",
              "\n",
              "    [theme=dark] .colab-df-convert {\n",
              "      background-color: #3B4455;\n",
              "      fill: #D2E3FC;\n",
              "    }\n",
              "\n",
              "    [theme=dark] .colab-df-convert:hover {\n",
              "      background-color: #434B5C;\n",
              "      box-shadow: 0px 1px 3px 1px rgba(0, 0, 0, 0.15);\n",
              "      filter: drop-shadow(0px 1px 2px rgba(0, 0, 0, 0.3));\n",
              "      fill: #FFFFFF;\n",
              "    }\n",
              "  </style>\n",
              "\n",
              "      <script>\n",
              "        const buttonEl =\n",
              "          document.querySelector('#df-ff86c6f3-3da3-41c8-b097-b2776228caa5 button.colab-df-convert');\n",
              "        buttonEl.style.display =\n",
              "          google.colab.kernel.accessAllowed ? 'block' : 'none';\n",
              "\n",
              "        async function convertToInteractive(key) {\n",
              "          const element = document.querySelector('#df-ff86c6f3-3da3-41c8-b097-b2776228caa5');\n",
              "          const dataTable =\n",
              "            await google.colab.kernel.invokeFunction('convertToInteractive',\n",
              "                                                     [key], {});\n",
              "          if (!dataTable) return;\n",
              "\n",
              "          const docLinkHtml = 'Like what you see? Visit the ' +\n",
              "            '<a target=\"_blank\" href=https://colab.research.google.com/notebooks/data_table.ipynb>data table notebook</a>'\n",
              "            + ' to learn more about interactive tables.';\n",
              "          element.innerHTML = '';\n",
              "          dataTable['output_type'] = 'display_data';\n",
              "          await google.colab.output.renderOutput(dataTable, element);\n",
              "          const docLink = document.createElement('div');\n",
              "          docLink.innerHTML = docLinkHtml;\n",
              "          element.appendChild(docLink);\n",
              "        }\n",
              "      </script>\n",
              "    </div>\n",
              "  </div>\n",
              "  "
            ]
          },
          "metadata": {},
          "execution_count": 46
        }
      ]
    },
    {
      "cell_type": "markdown",
      "source": [
        "From the above details, we can see that the minimum value of x, y and z is 0, which is not possible. We need to findout the corresponding indexes and drop the same from the dataset"
      ],
      "metadata": {
        "id": "NrOgyQxbYpPW"
      }
    },
    {
      "cell_type": "code",
      "source": [
        "data[(data['x']==0) | (data['y']==0) | (data['z']==0)].index"
      ],
      "metadata": {
        "colab": {
          "base_uri": "https://localhost:8080/"
        },
        "id": "XW1SjMRn3q84",
        "outputId": "11856508-7c77-46bf-f292-78971e252cd8"
      },
      "execution_count": 47,
      "outputs": [
        {
          "output_type": "execute_result",
          "data": {
            "text/plain": [
              "Int64Index([11182, 11963, 15951, 24520, 26243, 27429, 49556, 49557], dtype='int64')"
            ]
          },
          "metadata": {},
          "execution_count": 47
        }
      ]
    },
    {
      "cell_type": "code",
      "source": [
        "#dropping unnecessary data\n",
        "data2 = data.drop([11182, 11963, 15951, 24520, 26243, 27429, 49556, 49557])"
      ],
      "metadata": {
        "id": "W15ZK9DV4HAa"
      },
      "execution_count": 48,
      "outputs": []
    },
    {
      "cell_type": "code",
      "source": [
        "plt.scatter(data2['y'], data2['z'])\n",
        "plt.show()"
      ],
      "metadata": {
        "colab": {
          "base_uri": "https://localhost:8080/",
          "height": 430
        },
        "id": "m0dp8Jiw4ZGa",
        "outputId": "e5116673-09d2-4794-f687-9796ca33c4d9"
      },
      "execution_count": 49,
      "outputs": [
        {
          "output_type": "display_data",
          "data": {
            "text/plain": [
              "<Figure size 640x480 with 1 Axes>"
            ],
            "image/png": "[encoded data removed]"
          },
          "metadata": {}
        }
      ]
    },
    {
      "cell_type": "code",
      "source": [
        "plt.boxplot(data2['z'])\n",
        "plt.show()"
      ],
      "metadata": {
        "colab": {
          "base_uri": "https://localhost:8080/",
          "height": 430
        },
        "id": "uvGq9Vlo4m2C",
        "outputId": "770770bd-6737-4507-fffd-03da5761fd73"
      },
      "execution_count": 50,
      "outputs": [
        {
          "output_type": "display_data",
          "data": {
            "text/plain": [
              "<Figure size 640x480 with 1 Axes>"
            ],
            "image/png": "[encoded data removed]"
          },
          "metadata": {}
        }
      ]
    },
    {
      "cell_type": "markdown",
      "source": [],
      "metadata": {
        "id": "jZ2Kz7G7ZC28"
      }
    },
    {
      "cell_type": "markdown",
      "source": [
        "From the above data, it is seen that the values more than 15 can be considered as extreme values. The extreme values can be dropped"
      ],
      "metadata": {
        "id": "dpWFZZBRZDDP"
      }
    },
    {
      "cell_type": "code",
      "source": [
        "data2[(data2['y'] > 15) | (data2['z'] > 15)].index"
      ],
      "metadata": {
        "colab": {
          "base_uri": "https://localhost:8080/"
        },
        "id": "gyvdXDG14z9A",
        "outputId": "cb392c22-288d-4ce7-f555-a30b6def4bfc"
      },
      "execution_count": 51,
      "outputs": [
        {
          "output_type": "execute_result",
          "data": {
            "text/plain": [
              "Int64Index([24067, 48410, 49189], dtype='int64')"
            ]
          },
          "metadata": {},
          "execution_count": 51
        }
      ]
    },
    {
      "cell_type": "code",
      "source": [
        "#dropping indexes of extreme values\n",
        "data3 = data2.drop([24067, 48410, 49189])"
      ],
      "metadata": {
        "id": "3ps3qguq5DH6"
      },
      "execution_count": 52,
      "outputs": []
    },
    {
      "cell_type": "code",
      "source": [
        "data3.shape"
      ],
      "metadata": {
        "colab": {
          "base_uri": "https://localhost:8080/"
        },
        "id": "mKI2wXWm5Z4j",
        "outputId": "9ad9b16e-0794-4502-a95e-a30a0c9c2fac"
      },
      "execution_count": 54,
      "outputs": [
        {
          "output_type": "execute_result",
          "data": {
            "text/plain": [
              "(53929, 9)"
            ]
          },
          "metadata": {},
          "execution_count": 54
        }
      ]
    },
    {
      "cell_type": "code",
      "source": [
        "### fill the missing values"
      ],
      "metadata": {
        "id": "gNcs97Bq5cH3"
      },
      "execution_count": 55,
      "outputs": []
    },
    {
      "cell_type": "code",
      "source": [
        "data3.isna().sum()"
      ],
      "metadata": {
        "colab": {
          "base_uri": "https://localhost:8080/"
        },
        "id": "yTGh05NW5iL0",
        "outputId": "ab7ab15e-a738-484d-b235-07a1ff365f4e"
      },
      "execution_count": 56,
      "outputs": [
        {
          "output_type": "execute_result",
          "data": {
            "text/plain": [
              "carat        99\n",
              "cut           0\n",
              "color        56\n",
              "clarity       0\n",
              "table        63\n",
              "x             0\n",
              "y             0\n",
              "z             0\n",
              "price_new     0\n",
              "dtype: int64"
            ]
          },
          "metadata": {},
          "execution_count": 56
        }
      ]
    },
    {
      "cell_type": "markdown",
      "source": [
        "As per the skewness, we are using meadian to fill the null values. For categorical fields, we will use mode value"
      ],
      "metadata": {
        "id": "tWsioeTIZZJM"
      }
    },
    {
      "cell_type": "code",
      "source": [
        "car_median = data3['carat'].median()\n",
        "data3['carat'] = data3['carat'].fillna(car_median)"
      ],
      "metadata": {
        "id": "2evRR_0E5l2F"
      },
      "execution_count": 57,
      "outputs": []
    },
    {
      "cell_type": "code",
      "source": [
        "car_table = data3['table'].median()\n",
        "data3['table'] = data3['table'].fillna(car_table)"
      ],
      "metadata": {
        "id": "176Z__aq5yid"
      },
      "execution_count": 58,
      "outputs": []
    },
    {
      "cell_type": "code",
      "source": [
        "#finding mode\n",
        "data3['color'].value_counts()"
      ],
      "metadata": {
        "colab": {
          "base_uri": "https://localhost:8080/"
        },
        "id": "PHr_el5w6APT",
        "outputId": "9e31d6da-2ad0-4d14-d9fe-dfe606887185"
      },
      "execution_count": 59,
      "outputs": [
        {
          "output_type": "execute_result",
          "data": {
            "text/plain": [
              "G    11234\n",
              "E     9795\n",
              "F     9539\n",
              "H     8301\n",
              "D     6774\n",
              "I     5422\n",
              "J     2808\n",
              "Name: color, dtype: int64"
            ]
          },
          "metadata": {},
          "execution_count": 59
        }
      ]
    },
    {
      "cell_type": "code",
      "source": [
        "#fill with G, the mode value\n",
        "data3[\"color\"] = data3['color'].fillna(\"G\")"
      ],
      "metadata": {
        "id": "evfvkEpG6HIn"
      },
      "execution_count": 60,
      "outputs": []
    },
    {
      "cell_type": "code",
      "source": [
        "data3.isna().sum()"
      ],
      "metadata": {
        "colab": {
          "base_uri": "https://localhost:8080/"
        },
        "id": "WgmnvdD76Ngg",
        "outputId": "46a831e8-8438-443a-b5ad-dd489e95047d"
      },
      "execution_count": 61,
      "outputs": [
        {
          "output_type": "execute_result",
          "data": {
            "text/plain": [
              "carat        0\n",
              "cut          0\n",
              "color        0\n",
              "clarity      0\n",
              "table        0\n",
              "x            0\n",
              "y            0\n",
              "z            0\n",
              "price_new    0\n",
              "dtype: int64"
            ]
          },
          "metadata": {},
          "execution_count": 61
        }
      ]
    },
    {
      "cell_type": "markdown",
      "source": [
        "Thus the null values are handled"
      ],
      "metadata": {
        "id": "FjESQsdSZt-M"
      }
    },
    {
      "cell_type": "code",
      "source": [
        "data3.columns"
      ],
      "metadata": {
        "colab": {
          "base_uri": "https://localhost:8080/"
        },
        "id": "uMi7oaoM6TTh",
        "outputId": "40ecd05e-7de7-4226-c966-31336889a6f9"
      },
      "execution_count": 62,
      "outputs": [
        {
          "output_type": "execute_result",
          "data": {
            "text/plain": [
              "Index(['carat', 'cut', 'color', 'clarity', 'table', 'x', 'y', 'z',\n",
              "       'price_new'],\n",
              "      dtype='object')"
            ]
          },
          "metadata": {},
          "execution_count": 62
        }
      ]
    },
    {
      "cell_type": "code",
      "source": [
        "#splitting the dataset to features and Target\n",
        "y = data3['price_new']\n",
        "x = data3.drop(\"price_new\", axis=1)"
      ],
      "metadata": {
        "id": "vGE22FBh6Wzp"
      },
      "execution_count": 63,
      "outputs": []
    },
    {
      "cell_type": "code",
      "source": [
        "#one hot encoding for categorical values\n",
        "x = pd.get_dummies(x)"
      ],
      "metadata": {
        "id": "gzofqLBC6gBP"
      },
      "execution_count": 64,
      "outputs": []
    },
    {
      "cell_type": "code",
      "source": [
        "#scaling of data using min max scaler\n",
        "from sklearn.preprocessing import MinMaxScaler\n",
        "mn = MinMaxScaler()"
      ],
      "metadata": {
        "id": "dNUwZsR77a-K"
      },
      "execution_count": 65,
      "outputs": []
    },
    {
      "cell_type": "code",
      "source": [
        "x = mn.fit_transform(x)"
      ],
      "metadata": {
        "id": "0aNOtjE87o2H"
      },
      "execution_count": 66,
      "outputs": []
    },
    {
      "cell_type": "code",
      "source": [
        "#splitting of dataset to test and train\n",
        "from sklearn.model_selection import train_test_split"
      ],
      "metadata": {
        "id": "GcbVcCI66hUg"
      },
      "execution_count": 67,
      "outputs": []
    },
    {
      "cell_type": "code",
      "source": [
        "x_train, x_test, y_train , y_test = train_test_split(x, y, test_size=0.2, random_state= 134)"
      ],
      "metadata": {
        "id": "5hImoCfO6_sF"
      },
      "execution_count": 68,
      "outputs": []
    },
    {
      "cell_type": "markdown",
      "source": [
        "**Machine Learning model to find out Rsquared value and MSE value**\n",
        "\n",
        "**Linear Regression Model**"
      ],
      "metadata": {
        "id": "zIutp37AaYZU"
      }
    },
    {
      "cell_type": "code",
      "source": [
        "from sklearn import linear_model\n",
        "lr=linear_model.LinearRegression()\n",
        "model=lr.fit(x_train,y_train)\n",
        "predictions=model.predict(x_test)\n",
        "print(y_test)"
      ],
      "metadata": {
        "colab": {
          "base_uri": "https://localhost:8080/"
        },
        "id": "GpGPAXC1aXpL",
        "outputId": "00677082-823e-4d2c-d783-21353fd65ecc"
      },
      "execution_count": 69,
      "outputs": [
        {
          "output_type": "stream",
          "name": "stdout",
          "text": [
            "52279    1246.5\n",
            "504      1411.0\n",
            "47866     955.5\n",
            "44043     774.0\n",
            "21588    4847.0\n",
            "          ...  \n",
            "41519     617.5\n",
            "38906     526.0\n",
            "44067     775.5\n",
            "11650    2527.5\n",
            "11128    2469.5\n",
            "Name: price_new, Length: 10786, dtype: float64\n"
          ]
        }
      ]
    },
    {
      "cell_type": "code",
      "source": [
        "from sklearn.metrics import mean_squared_error,r2_score\n",
        "print('MSE is', mean_squared_error(y_test,predictions))\n",
        "print('R squared value is', r2_score(y_test,predictions))"
      ],
      "metadata": {
        "colab": {
          "base_uri": "https://localhost:8080/"
        },
        "id": "KL0QW52ZbJhc",
        "outputId": "1e44527e-95c4-463d-b2c0-44c8c6b7d4d9"
      },
      "execution_count": 70,
      "outputs": [
        {
          "output_type": "stream",
          "name": "stdout",
          "text": [
            "MSE is 310612.43175525905\n",
            "R squared value is 0.9202615604010916\n"
          ]
        }
      ]
    },
    {
      "cell_type": "markdown",
      "source": [
        "**Using Gradient Descent - ANN model**"
      ],
      "metadata": {
        "id": "h1NWe6I6bfT_"
      }
    },
    {
      "cell_type": "code",
      "source": [
        "from tensorflow.keras.models import Sequential"
      ],
      "metadata": {
        "id": "WShjGTVA77lF"
      },
      "execution_count": 71,
      "outputs": []
    },
    {
      "cell_type": "code",
      "source": [
        "from tensorflow.keras.layers import Dense"
      ],
      "metadata": {
        "id": "v78pMYq98D0F"
      },
      "execution_count": 72,
      "outputs": []
    },
    {
      "cell_type": "code",
      "source": [
        "x.shape"
      ],
      "metadata": {
        "colab": {
          "base_uri": "https://localhost:8080/"
        },
        "id": "hu9hfjpK8TUT",
        "outputId": "6a9e662a-ee3e-46c1-9551-7cf9427b9b57"
      },
      "execution_count": 73,
      "outputs": [
        {
          "output_type": "execute_result",
          "data": {
            "text/plain": [
              "(53929, 25)"
            ]
          },
          "metadata": {},
          "execution_count": 73
        }
      ]
    },
    {
      "cell_type": "code",
      "source": [
        "### input = 25, hidden1 = 32, hidden2 = 16, hidden3 = 8, output = 1"
      ],
      "metadata": {
        "id": "faFZJo9d8ICB"
      },
      "execution_count": 74,
      "outputs": []
    },
    {
      "cell_type": "code",
      "source": [
        "model1 = Sequential()\n",
        "model1.add(Dense(32, activation = \"relu\", input_shape = (25,)))\n",
        "model1.add(Dense(16, activation = \"relu\"))\n",
        "model1.add(Dense(8, activation = \"relu\"))\n",
        "\n",
        "model1.add(Dense(1, activation = None))\n",
        "model1.summary()"
      ],
      "metadata": {
        "colab": {
          "base_uri": "https://localhost:8080/"
        },
        "id": "3C6v_62I8cGT",
        "outputId": "f6156d60-b373-43eb-d8a9-e33c952ec183"
      },
      "execution_count": 75,
      "outputs": [
        {
          "output_type": "stream",
          "name": "stdout",
          "text": [
            "Model: \"sequential\"\n",
            "_________________________________________________________________\n",
            " Layer (type)                Output Shape              Param #   \n",
            "=================================================================\n",
            " dense (Dense)               (None, 32)                832       \n",
            "                                                                 \n",
            " dense_1 (Dense)             (None, 16)                528       \n",
            "                                                                 \n",
            " dense_2 (Dense)             (None, 8)                 136       \n",
            "                                                                 \n",
            " dense_3 (Dense)             (None, 1)                 9         \n",
            "                                                                 \n",
            "=================================================================\n",
            "Total params: 1,505\n",
            "Trainable params: 1,505\n",
            "Non-trainable params: 0\n",
            "_________________________________________________________________\n"
          ]
        }
      ]
    },
    {
      "cell_type": "code",
      "source": [
        "### compile this model using stochiastic gradient descent"
      ],
      "metadata": {
        "id": "BWtCBUqt846e"
      },
      "execution_count": 76,
      "outputs": []
    },
    {
      "cell_type": "code",
      "source": [
        "model1.compile(optimizer = \"sgd\", loss = \"mean_squared_error\")"
      ],
      "metadata": {
        "id": "1fsivmra9CDJ"
      },
      "execution_count": 77,
      "outputs": []
    },
    {
      "cell_type": "code",
      "source": [
        "#### train the weights using backpropogation algorithm"
      ],
      "metadata": {
        "id": "6WuUIOpc9Jzl"
      },
      "execution_count": 78,
      "outputs": []
    },
    {
      "cell_type": "code",
      "source": [
        "model1.fit(x_train, y_train, epochs = 10, batch_size = 128)"
      ],
      "metadata": {
        "colab": {
          "base_uri": "https://localhost:8080/"
        },
        "id": "bI-Nx4x09NrR",
        "outputId": "1886cfbf-1b34-4dfd-cbcc-fc86a419bd00"
      },
      "execution_count": 79,
      "outputs": [
        {
          "output_type": "stream",
          "name": "stdout",
          "text": [
            "Epoch 1/10\n",
            "338/338 [==============================] - 6s 3ms/step - loss: 1424771072.0000\n",
            "Epoch 2/10\n",
            "338/338 [==============================] - 1s 4ms/step - loss: 3998088.0000\n",
            "Epoch 3/10\n",
            "338/338 [==============================] - 1s 4ms/step - loss: 3998195.0000\n",
            "Epoch 4/10\n",
            "338/338 [==============================] - 1s 3ms/step - loss: 3998291.0000\n",
            "Epoch 5/10\n",
            "338/338 [==============================] - 1s 3ms/step - loss: 3998366.7500\n",
            "Epoch 6/10\n",
            "338/338 [==============================] - 1s 3ms/step - loss: 3998046.2500\n",
            "Epoch 7/10\n",
            "338/338 [==============================] - 1s 3ms/step - loss: 3997880.2500\n",
            "Epoch 8/10\n",
            "338/338 [==============================] - 1s 3ms/step - loss: 3998358.0000\n",
            "Epoch 9/10\n",
            "338/338 [==============================] - 1s 3ms/step - loss: 3998077.7500\n",
            "Epoch 10/10\n",
            "338/338 [==============================] - 1s 3ms/step - loss: 3997917.5000\n"
          ]
        },
        {
          "output_type": "execute_result",
          "data": {
            "text/plain": [
              "<keras.callbacks.History at 0x7fe17cc35580>"
            ]
          },
          "metadata": {},
          "execution_count": 79
        }
      ]
    },
    {
      "cell_type": "code",
      "source": [
        "#finding Mean squared error\n",
        "model1.evaluate(x_test, y_test)"
      ],
      "metadata": {
        "colab": {
          "base_uri": "https://localhost:8080/"
        },
        "id": "DWZw9Gtr9V-9",
        "outputId": "cd9d513b-7630-49c7-94e9-a0b33c964dc3"
      },
      "execution_count": 80,
      "outputs": [
        {
          "output_type": "stream",
          "name": "stdout",
          "text": [
            "338/338 [==============================] - 1s 2ms/step - loss: 3895791.5000\n"
          ]
        },
        {
          "output_type": "execute_result",
          "data": {
            "text/plain": [
              "3895791.5"
            ]
          },
          "metadata": {},
          "execution_count": 80
        }
      ]
    },
    {
      "cell_type": "markdown",
      "source": [
        "**Gradient Descent- ANN-Model2**"
      ],
      "metadata": {
        "id": "vT8hg_ZR9u3Y"
      }
    },
    {
      "cell_type": "code",
      "source": [
        "model2 = Sequential()\n",
        "model2.add(Dense(64, input_shape = (25,), activation = \"relu\"))\n",
        "model2.add(Dense(64, activation = \"relu\"))\n",
        "model2.add(Dense(64, activation = \"relu\"))\n",
        "model2.add(Dense(64, activation = \"relu\"))\n",
        "model2.add(Dense(64, activation = \"relu\"))\n",
        "model2.add(Dense(64, activation = \"relu\"))\n",
        "model2.add(Dense(64, activation = \"relu\"))\n",
        "model2.add(Dense(1, activation = None))"
      ],
      "metadata": {
        "id": "3H6-DPxf9i7j"
      },
      "execution_count": 81,
      "outputs": []
    },
    {
      "cell_type": "code",
      "source": [
        "model2.compile(optimizer = \"sgd\", loss = \"mean_squared_error\")"
      ],
      "metadata": {
        "id": "WQKPJ5t1-LRs"
      },
      "execution_count": 82,
      "outputs": []
    },
    {
      "cell_type": "code",
      "source": [
        "model2.fit(x_train, y_train, epochs = 30, batch_size = 128)"
      ],
      "metadata": {
        "colab": {
          "base_uri": "https://localhost:8080/"
        },
        "id": "ETlVK_d7-gpc",
        "outputId": "94b4eda7-e727-4158-9a66-697a3102548b"
      },
      "execution_count": 85,
      "outputs": [
        {
          "output_type": "stream",
          "name": "stdout",
          "text": [
            "Epoch 1/30\n",
            "338/338 [==============================] - 1s 3ms/step - loss: nan\n",
            "Epoch 2/30\n",
            "338/338 [==============================] - 1s 3ms/step - loss: nan\n",
            "Epoch 3/30\n",
            "338/338 [==============================] - 1s 3ms/step - loss: nan\n",
            "Epoch 4/30\n",
            "338/338 [==============================] - 1s 4ms/step - loss: nan\n",
            "Epoch 5/30\n",
            "338/338 [==============================] - 2s 5ms/step - loss: nan\n",
            "Epoch 6/30\n",
            "338/338 [==============================] - 1s 4ms/step - loss: nan\n",
            "Epoch 7/30\n",
            "338/338 [==============================] - 1s 3ms/step - loss: nan\n",
            "Epoch 8/30\n",
            "338/338 [==============================] - 1s 3ms/step - loss: nan\n",
            "Epoch 9/30\n",
            "338/338 [==============================] - 1s 3ms/step - loss: nan\n",
            "Epoch 10/30\n",
            "338/338 [==============================] - 1s 4ms/step - loss: nan\n",
            "Epoch 11/30\n",
            "338/338 [==============================] - 1s 4ms/step - loss: nan\n",
            "Epoch 12/30\n",
            "338/338 [==============================] - 2s 5ms/step - loss: nan\n",
            "Epoch 13/30\n",
            "338/338 [==============================] - 1s 3ms/step - loss: nan\n",
            "Epoch 14/30\n",
            "338/338 [==============================] - 2s 5ms/step - loss: nan\n",
            "Epoch 15/30\n",
            "338/338 [==============================] - 1s 4ms/step - loss: nan\n",
            "Epoch 16/30\n",
            "338/338 [==============================] - 1s 3ms/step - loss: nan\n",
            "Epoch 17/30\n",
            "338/338 [==============================] - 2s 5ms/step - loss: nan\n",
            "Epoch 18/30\n",
            "338/338 [==============================] - 2s 6ms/step - loss: nan\n",
            "Epoch 19/30\n",
            "338/338 [==============================] - 2s 6ms/step - loss: nan\n",
            "Epoch 20/30\n",
            "338/338 [==============================] - 2s 7ms/step - loss: nan\n",
            "Epoch 21/30\n",
            "338/338 [==============================] - 3s 9ms/step - loss: nan\n",
            "Epoch 22/30\n",
            "338/338 [==============================] - 1s 4ms/step - loss: nan\n",
            "Epoch 23/30\n",
            "338/338 [==============================] - 2s 5ms/step - loss: nan\n",
            "Epoch 24/30\n",
            "338/338 [==============================] - 1s 3ms/step - loss: nan\n",
            "Epoch 25/30\n",
            "338/338 [==============================] - 1s 3ms/step - loss: nan\n",
            "Epoch 26/30\n",
            "338/338 [==============================] - 1s 3ms/step - loss: nan\n",
            "Epoch 27/30\n",
            "338/338 [==============================] - 1s 3ms/step - loss: nan\n",
            "Epoch 28/30\n",
            "338/338 [==============================] - 1s 3ms/step - loss: nan\n",
            "Epoch 29/30\n",
            "338/338 [==============================] - 1s 4ms/step - loss: nan\n",
            "Epoch 30/30\n",
            "338/338 [==============================] - 2s 5ms/step - loss: nan\n"
          ]
        },
        {
          "output_type": "execute_result",
          "data": {
            "text/plain": [
              "<keras.callbacks.History at 0x7fe15c2d6d30>"
            ]
          },
          "metadata": {},
          "execution_count": 85
        }
      ]
    },
    {
      "cell_type": "code",
      "source": [
        "#finding Mean squared error\n",
        "model2.evaluate(x_test, y_test)"
      ],
      "metadata": {
        "colab": {
          "base_uri": "https://localhost:8080/"
        },
        "id": "9YaHmropctFY",
        "outputId": "d176cc66-e86c-4dc2-fd23-42a419e2685e"
      },
      "execution_count": 86,
      "outputs": [
        {
          "output_type": "stream",
          "name": "stdout",
          "text": [
            "338/338 [==============================] - 1s 2ms/step - loss: nan\n"
          ]
        },
        {
          "output_type": "execute_result",
          "data": {
            "text/plain": [
              "nan"
            ]
          },
          "metadata": {},
          "execution_count": 86
        }
      ]
    },
    {
      "cell_type": "markdown",
      "source": [
        "**Gradient Descent- ANN-Model3**"
      ],
      "metadata": {
        "id": "kjCIEo4hc3Cj"
      }
    },
    {
      "cell_type": "code",
      "source": [
        "model3 = Sequential()\n",
        "model3.add(Dense(64, input_shape = (25,), activation = \"sigmoid\"))\n",
        "model3.add(Dense(64, activation = \"sigmoid\"))\n",
        "model3.add(Dense(64, activation = \"sigmoid\"))\n",
        "model3.add(Dense(64, activation = \"sigmoid\"))\n",
        "model3.add(Dense(64, activation = \"sigmoid\"))\n",
        "model3.add(Dense(64, activation = \"sigmoid\"))\n",
        "model3.add(Dense(64, activation = \"sigmoid\"))\n",
        "model3.add(Dense(1, activation = None))"
      ],
      "metadata": {
        "id": "DyE8m_8pc9Ck"
      },
      "execution_count": 87,
      "outputs": []
    },
    {
      "cell_type": "code",
      "source": [
        "model3.compile(optimizer = \"sgd\", loss = \"mean_squared_error\")"
      ],
      "metadata": {
        "id": "xl_EuGADdQ8X"
      },
      "execution_count": 88,
      "outputs": []
    },
    {
      "cell_type": "code",
      "source": [
        "model3.fit(x_train, y_train, epochs = 30, batch_size = 128)"
      ],
      "metadata": {
        "colab": {
          "base_uri": "https://localhost:8080/"
        },
        "id": "AawHRq0BdVz4",
        "outputId": "c76d9937-f769-418b-9ad4-ed04a3a2d84b"
      },
      "execution_count": 89,
      "outputs": [
        {
          "output_type": "stream",
          "name": "stdout",
          "text": [
            "Epoch 1/30\n",
            "338/338 [==============================] - 2s 3ms/step - loss: 4029239.2500\n",
            "Epoch 2/30\n",
            "338/338 [==============================] - 1s 3ms/step - loss: 4013052.2500\n",
            "Epoch 3/30\n",
            "338/338 [==============================] - 1s 4ms/step - loss: 4009954.2500\n",
            "Epoch 4/30\n",
            "338/338 [==============================] - 2s 5ms/step - loss: 4020600.5000\n",
            "Epoch 5/30\n",
            "338/338 [==============================] - 1s 3ms/step - loss: 4011478.2500\n",
            "Epoch 6/30\n",
            "338/338 [==============================] - 1s 3ms/step - loss: 4012791.5000\n",
            "Epoch 7/30\n",
            "338/338 [==============================] - 1s 3ms/step - loss: 4014553.5000\n",
            "Epoch 8/30\n",
            "338/338 [==============================] - 1s 3ms/step - loss: 4016986.2500\n",
            "Epoch 9/30\n",
            "338/338 [==============================] - 2s 5ms/step - loss: 4017104.5000\n",
            "Epoch 10/30\n",
            "338/338 [==============================] - 1s 4ms/step - loss: 4015168.5000\n",
            "Epoch 11/30\n",
            "338/338 [==============================] - 1s 3ms/step - loss: 4013738.2500\n",
            "Epoch 12/30\n",
            "338/338 [==============================] - 1s 3ms/step - loss: 4014572.5000\n",
            "Epoch 13/30\n",
            "338/338 [==============================] - 2s 5ms/step - loss: 4013682.5000\n",
            "Epoch 14/30\n",
            "338/338 [==============================] - 2s 6ms/step - loss: 4015513.2500\n",
            "Epoch 15/30\n",
            "338/338 [==============================] - 1s 4ms/step - loss: 4015842.7500\n",
            "Epoch 16/30\n",
            "338/338 [==============================] - 1s 3ms/step - loss: 4014940.5000\n",
            "Epoch 17/30\n",
            "338/338 [==============================] - 1s 3ms/step - loss: 4016101.5000\n",
            "Epoch 18/30\n",
            "338/338 [==============================] - 1s 3ms/step - loss: 4016161.0000\n",
            "Epoch 19/30\n",
            "338/338 [==============================] - 1s 3ms/step - loss: 4014173.5000\n",
            "Epoch 20/30\n",
            "338/338 [==============================] - 1s 3ms/step - loss: 4018781.7500\n",
            "Epoch 21/30\n",
            "338/338 [==============================] - 1s 3ms/step - loss: 4014045.5000\n",
            "Epoch 22/30\n",
            "338/338 [==============================] - 2s 5ms/step - loss: 4014389.5000\n",
            "Epoch 23/30\n",
            "338/338 [==============================] - 1s 4ms/step - loss: 4016571.5000\n",
            "Epoch 24/30\n",
            "338/338 [==============================] - 1s 3ms/step - loss: 4011526.7500\n",
            "Epoch 25/30\n",
            "338/338 [==============================] - 1s 3ms/step - loss: 4011799.2500\n",
            "Epoch 26/30\n",
            "338/338 [==============================] - 1s 3ms/step - loss: 4014531.2500\n",
            "Epoch 27/30\n",
            "338/338 [==============================] - 1s 3ms/step - loss: 4014928.0000\n",
            "Epoch 28/30\n",
            "338/338 [==============================] - 1s 3ms/step - loss: 4011378.0000\n",
            "Epoch 29/30\n",
            "338/338 [==============================] - 1s 3ms/step - loss: 4013703.2500\n",
            "Epoch 30/30\n",
            "338/338 [==============================] - 1s 3ms/step - loss: 4018377.2500\n"
          ]
        },
        {
          "output_type": "execute_result",
          "data": {
            "text/plain": [
              "<keras.callbacks.History at 0x7fe0f06a4850>"
            ]
          },
          "metadata": {},
          "execution_count": 89
        }
      ]
    },
    {
      "cell_type": "code",
      "source": [
        "#finding Mean squared error\n",
        "model3.evaluate(x_test, y_test)"
      ],
      "metadata": {
        "colab": {
          "base_uri": "https://localhost:8080/"
        },
        "id": "t0F_JG0pdZ90",
        "outputId": "75454ae0-f808-4a5a-c410-d5de29a7e938"
      },
      "execution_count": 90,
      "outputs": [
        {
          "output_type": "stream",
          "name": "stdout",
          "text": [
            "338/338 [==============================] - 1s 2ms/step - loss: 3945307.7500\n"
          ]
        },
        {
          "output_type": "execute_result",
          "data": {
            "text/plain": [
              "3945307.75"
            ]
          },
          "metadata": {},
          "execution_count": 90
        }
      ]
    },
    {
      "cell_type": "markdown",
      "source": [
        "**Gradient Descent- ANN-Model4 with loss function as binary cross entropy**"
      ],
      "metadata": {
        "id": "yxfuzwh5drXP"
      }
    },
    {
      "cell_type": "code",
      "source": [
        "model4 = Sequential()\n",
        "model4.add(Dense(64, input_shape = (25,), activation = \"sigmoid\"))\n",
        "model4.add(Dense(64, activation = \"sigmoid\"))\n",
        "model4.add(Dense(64, activation = \"sigmoid\"))\n",
        "model4.add(Dense(64, activation = \"sigmoid\"))\n",
        "model4.add(Dense(64, activation = \"sigmoid\"))\n",
        "model4.add(Dense(64, activation = \"sigmoid\"))\n",
        "model4.add(Dense(64, activation = \"sigmoid\"))\n",
        "model4.add(Dense(1, activation = None))"
      ],
      "metadata": {
        "id": "EMw13Cuqd1F9"
      },
      "execution_count": 91,
      "outputs": []
    },
    {
      "cell_type": "code",
      "source": [
        "model4.compile(optimizer = \"sgd\", loss = \"binary_crossentropy\")"
      ],
      "metadata": {
        "id": "jHGRZ90Nd1Ko"
      },
      "execution_count": 93,
      "outputs": []
    },
    {
      "cell_type": "code",
      "source": [
        "model4.fit(x_train, y_train, epochs = 30, batch_size = 128)"
      ],
      "metadata": {
        "colab": {
          "base_uri": "https://localhost:8080/"
        },
        "id": "kqA2lr27d1NW",
        "outputId": "2e0937a7-6f5c-4bfe-8937-f7069782884c"
      },
      "execution_count": 94,
      "outputs": [
        {
          "output_type": "stream",
          "name": "stdout",
          "text": [
            "Epoch 1/30\n",
            "338/338 [==============================] - 2s 4ms/step - loss: 30388.0977\n",
            "Epoch 2/30\n",
            "338/338 [==============================] - 1s 4ms/step - loss: 30388.0957\n",
            "Epoch 3/30\n",
            "338/338 [==============================] - 1s 4ms/step - loss: 30388.1133\n",
            "Epoch 4/30\n",
            "338/338 [==============================] - 1s 4ms/step - loss: 30388.0957\n",
            "Epoch 5/30\n",
            "338/338 [==============================] - 1s 3ms/step - loss: 30388.0977\n",
            "Epoch 6/30\n",
            "338/338 [==============================] - 1s 4ms/step - loss: 30388.0957\n",
            "Epoch 7/30\n",
            "338/338 [==============================] - 2s 7ms/step - loss: 30388.0918\n",
            "Epoch 8/30\n",
            "338/338 [==============================] - 2s 5ms/step - loss: 30388.0918\n",
            "Epoch 9/30\n",
            "338/338 [==============================] - 2s 5ms/step - loss: 30388.0898\n",
            "Epoch 10/30\n",
            "338/338 [==============================] - 1s 4ms/step - loss: 30388.0898\n",
            "Epoch 11/30\n",
            "338/338 [==============================] - 1s 3ms/step - loss: 30388.0918\n",
            "Epoch 12/30\n",
            "338/338 [==============================] - 1s 4ms/step - loss: 30388.0977\n",
            "Epoch 13/30\n",
            "338/338 [==============================] - 1s 3ms/step - loss: 30388.0840\n",
            "Epoch 14/30\n",
            "338/338 [==============================] - 1s 4ms/step - loss: 30388.0801\n",
            "Epoch 15/30\n",
            "338/338 [==============================] - 2s 5ms/step - loss: 30388.0957\n",
            "Epoch 16/30\n",
            "338/338 [==============================] - 2s 4ms/step - loss: 30388.1074\n",
            "Epoch 17/30\n",
            "338/338 [==============================] - 1s 4ms/step - loss: 30388.0977\n",
            "Epoch 18/30\n",
            "338/338 [==============================] - 1s 3ms/step - loss: 30388.0957\n",
            "Epoch 19/30\n",
            "338/338 [==============================] - 1s 4ms/step - loss: 30388.0859\n",
            "Epoch 20/30\n",
            "338/338 [==============================] - 1s 4ms/step - loss: 30388.0859\n",
            "Epoch 21/30\n",
            "338/338 [==============================] - 1s 3ms/step - loss: 30388.0957\n",
            "Epoch 22/30\n",
            "338/338 [==============================] - 1s 4ms/step - loss: 30388.0957\n",
            "Epoch 23/30\n",
            "338/338 [==============================] - 1s 4ms/step - loss: 30388.0977\n",
            "Epoch 24/30\n",
            "338/338 [==============================] - 1s 4ms/step - loss: 30388.0918\n",
            "Epoch 25/30\n",
            "338/338 [==============================] - 2s 5ms/step - loss: 30388.0918\n",
            "Epoch 26/30\n",
            "338/338 [==============================] - 1s 4ms/step - loss: 30388.0977\n",
            "Epoch 27/30\n",
            "338/338 [==============================] - 1s 3ms/step - loss: 30388.0977\n",
            "Epoch 28/30\n",
            "338/338 [==============================] - 1s 4ms/step - loss: 30388.0801\n",
            "Epoch 29/30\n",
            "338/338 [==============================] - 1s 4ms/step - loss: 30388.0957\n",
            "Epoch 30/30\n",
            "338/338 [==============================] - 1s 4ms/step - loss: 30388.0918\n"
          ]
        },
        {
          "output_type": "execute_result",
          "data": {
            "text/plain": [
              "<keras.callbacks.History at 0x7fe0f2640640>"
            ]
          },
          "metadata": {},
          "execution_count": 94
        }
      ]
    },
    {
      "cell_type": "code",
      "source": [
        "#finding Mean squared error\n",
        "model4.evaluate(x_test, y_test)"
      ],
      "metadata": {
        "colab": {
          "base_uri": "https://localhost:8080/"
        },
        "id": "eIsMlIpSeOaX",
        "outputId": "feb0e57f-3d9e-4dec-9d28-e3594748c67a"
      },
      "execution_count": 95,
      "outputs": [
        {
          "output_type": "stream",
          "name": "stdout",
          "text": [
            "338/338 [==============================] - 1s 3ms/step - loss: 30076.9316\n"
          ]
        },
        {
          "output_type": "execute_result",
          "data": {
            "text/plain": [
              "30076.931640625"
            ]
          },
          "metadata": {},
          "execution_count": 95
        }
      ]
    },
    {
      "cell_type": "markdown",
      "source": [
        "**Model 5 - ANN with Dropout to reduce overfitting**"
      ],
      "metadata": {
        "id": "FM-Ma4_yeZRu"
      }
    },
    {
      "cell_type": "code",
      "source": [
        "from tensorflow.keras.layers import Dropout"
      ],
      "metadata": {
        "id": "rHVQInwt_1aO"
      },
      "execution_count": 97,
      "outputs": []
    },
    {
      "cell_type": "code",
      "source": [
        "model5 = Sequential()\n",
        "model5.add(Dense(128, input_shape = (25,), activation = \"relu\"))\n",
        "model5.add(Dense(128, activation = \"relu\"))\n",
        "model5.add(Dropout(0.15))\n",
        "model5.add(Dense(128, activation = \"relu\"))\n",
        "model5.add(Dropout(0.15))\n",
        "model5.add(Dense(64, activation = \"relu\"))\n",
        "model5.add(Dropout(0.15))\n",
        "model5.add(Dense(64, activation = \"relu\"))\n",
        "model5.add(Dropout(0.15))\n",
        "model5.add(Dense(32, activation = \"relu\"))\n",
        "model5.add(Dense(16, activation = \"relu\"))\n",
        "model5.add(Dense(1, activation = None))"
      ],
      "metadata": {
        "id": "E9e_uHa3-mJ0"
      },
      "execution_count": 98,
      "outputs": []
    },
    {
      "cell_type": "code",
      "source": [
        "model5.compile(optimizer = \"adam\", loss = \"mean_squared_error\")"
      ],
      "metadata": {
        "id": "BycHT5Qg_s0f"
      },
      "execution_count": 99,
      "outputs": []
    },
    {
      "cell_type": "code",
      "source": [
        "model5.fit(x_train, y_train, epochs = 30, batch_size = 128)"
      ],
      "metadata": {
        "colab": {
          "base_uri": "https://localhost:8080/"
        },
        "id": "QHG7FRYQADes",
        "outputId": "d374b10c-6848-4f0e-ba01-f867eb61eba5"
      },
      "execution_count": 100,
      "outputs": [
        {
          "output_type": "stream",
          "name": "stdout",
          "text": [
            "Epoch 1/30\n",
            "338/338 [==============================] - 4s 4ms/step - loss: 1973220.6250\n",
            "Epoch 2/30\n",
            "338/338 [==============================] - 1s 4ms/step - loss: 220510.7500\n",
            "Epoch 3/30\n",
            "338/338 [==============================] - 1s 4ms/step - loss: 204905.5781\n",
            "Epoch 4/30\n",
            "338/338 [==============================] - 1s 4ms/step - loss: 197024.9531\n",
            "Epoch 5/30\n",
            "338/338 [==============================] - 2s 5ms/step - loss: 187856.4531\n",
            "Epoch 6/30\n",
            "338/338 [==============================] - 1s 4ms/step - loss: 184783.5469\n",
            "Epoch 7/30\n",
            "338/338 [==============================] - 1s 4ms/step - loss: 183340.3438\n",
            "Epoch 8/30\n",
            "338/338 [==============================] - 1s 4ms/step - loss: 188712.4844\n",
            "Epoch 9/30\n",
            "338/338 [==============================] - 1s 4ms/step - loss: 183564.4219\n",
            "Epoch 10/30\n",
            "338/338 [==============================] - 1s 4ms/step - loss: 177995.6094\n",
            "Epoch 11/30\n",
            "338/338 [==============================] - 1s 4ms/step - loss: 178927.4688\n",
            "Epoch 12/30\n",
            "338/338 [==============================] - 1s 4ms/step - loss: 176578.1406\n",
            "Epoch 13/30\n",
            "338/338 [==============================] - 1s 4ms/step - loss: 175649.5156\n",
            "Epoch 14/30\n",
            "338/338 [==============================] - 2s 5ms/step - loss: 170722.5312\n",
            "Epoch 15/30\n",
            "338/338 [==============================] - 1s 4ms/step - loss: 175645.6094\n",
            "Epoch 16/30\n",
            "338/338 [==============================] - 1s 4ms/step - loss: 172040.6875\n",
            "Epoch 17/30\n",
            "338/338 [==============================] - 1s 4ms/step - loss: 168487.8438\n",
            "Epoch 18/30\n",
            "338/338 [==============================] - 1s 4ms/step - loss: 165519.4844\n",
            "Epoch 19/30\n",
            "338/338 [==============================] - 1s 4ms/step - loss: 170800.3594\n",
            "Epoch 20/30\n",
            "338/338 [==============================] - 1s 4ms/step - loss: 161657.4062\n",
            "Epoch 21/30\n",
            "338/338 [==============================] - 1s 4ms/step - loss: 164409.3438\n",
            "Epoch 22/30\n",
            "338/338 [==============================] - 1s 4ms/step - loss: 164789.6094\n",
            "Epoch 23/30\n",
            "338/338 [==============================] - 2s 5ms/step - loss: 165724.6406\n",
            "Epoch 24/30\n",
            "338/338 [==============================] - 1s 4ms/step - loss: 160864.4219\n",
            "Epoch 25/30\n",
            "338/338 [==============================] - 1s 4ms/step - loss: 163173.2188\n",
            "Epoch 26/30\n",
            "338/338 [==============================] - 1s 4ms/step - loss: 156737.7656\n",
            "Epoch 27/30\n",
            "338/338 [==============================] - 1s 4ms/step - loss: 157750.8281\n",
            "Epoch 28/30\n",
            "338/338 [==============================] - 1s 4ms/step - loss: 159082.7500\n",
            "Epoch 29/30\n",
            "338/338 [==============================] - 1s 4ms/step - loss: 150661.9844\n",
            "Epoch 30/30\n",
            "338/338 [==============================] - 1s 4ms/step - loss: 154922.0000\n"
          ]
        },
        {
          "output_type": "execute_result",
          "data": {
            "text/plain": [
              "<keras.callbacks.History at 0x7fe0f2ce5940>"
            ]
          },
          "metadata": {},
          "execution_count": 100
        }
      ]
    },
    {
      "cell_type": "code",
      "source": [
        "model5.evaluate(x_test, y_test)"
      ],
      "metadata": {
        "colab": {
          "base_uri": "https://localhost:8080/"
        },
        "id": "2NhvGvFmAHvl",
        "outputId": "201ab9ee-5cd8-4f8d-d88f-13840615f685"
      },
      "execution_count": 101,
      "outputs": [
        {
          "output_type": "stream",
          "name": "stdout",
          "text": [
            "338/338 [==============================] - 1s 2ms/step - loss: 293867.4688\n"
          ]
        },
        {
          "output_type": "execute_result",
          "data": {
            "text/plain": [
              "293867.46875"
            ]
          },
          "metadata": {},
          "execution_count": 101
        }
      ]
    },
    {
      "cell_type": "markdown",
      "source": [
        "**Model 6 - ANN with Dropout to reduce overfitting and activation as sigmoid**"
      ],
      "metadata": {
        "id": "-iJMPO5jfAGN"
      }
    },
    {
      "cell_type": "code",
      "source": [
        "model6 = Sequential()\n",
        "model6.add(Dense(128, input_shape = (25,), activation = \"sigmoid\"))\n",
        "model6.add(Dense(128, activation = \"sigmoid\"))\n",
        "model6.add(Dropout(0.15))\n",
        "model6.add(Dense(128, activation = \"sigmoid\"))\n",
        "model6.add(Dropout(0.15))\n",
        "model6.add(Dense(64, activation = \"sigmoid\"))\n",
        "model6.add(Dropout(0.15))\n",
        "model6.add(Dense(64, activation = \"sigmoid\"))\n",
        "model6.add(Dropout(0.15))\n",
        "model6.add(Dense(32, activation = \"sigmoid\"))\n",
        "model6.add(Dense(16, activation = \"sigmoid\"))\n",
        "model6.add(Dense(1, activation = None))"
      ],
      "metadata": {
        "id": "ZLunViw7fF7h"
      },
      "execution_count": 102,
      "outputs": []
    },
    {
      "cell_type": "code",
      "source": [
        "model6.compile(optimizer = \"adam\", loss = \"mean_squared_error\")"
      ],
      "metadata": {
        "id": "rZH_tpNFfGBi"
      },
      "execution_count": 103,
      "outputs": []
    },
    {
      "cell_type": "code",
      "source": [
        "model6.fit(x_train, y_train, epochs = 30, batch_size = 128)"
      ],
      "metadata": {
        "colab": {
          "base_uri": "https://localhost:8080/"
        },
        "id": "7G3MGR9ZfGEz",
        "outputId": "94f7971d-aa54-4444-c56b-fe058c086946"
      },
      "execution_count": 104,
      "outputs": [
        {
          "output_type": "stream",
          "name": "stdout",
          "text": [
            "Epoch 1/30\n",
            "338/338 [==============================] - 5s 5ms/step - loss: 7862423.5000\n",
            "Epoch 2/30\n",
            "338/338 [==============================] - 1s 4ms/step - loss: 7846296.5000\n",
            "Epoch 3/30\n",
            "338/338 [==============================] - 1s 4ms/step - loss: 7832626.0000\n",
            "Epoch 4/30\n",
            "338/338 [==============================] - 1s 4ms/step - loss: 7819245.5000\n",
            "Epoch 5/30\n",
            "338/338 [==============================] - 1s 4ms/step - loss: 7806010.0000\n",
            "Epoch 6/30\n",
            "338/338 [==============================] - 1s 4ms/step - loss: 7792825.5000\n",
            "Epoch 7/30\n",
            "338/338 [==============================] - 1s 4ms/step - loss: 7776883.0000\n",
            "Epoch 8/30\n",
            "338/338 [==============================] - 2s 4ms/step - loss: 7761184.0000\n",
            "Epoch 9/30\n",
            "338/338 [==============================] - 2s 5ms/step - loss: 7746304.0000\n",
            "Epoch 10/30\n",
            "338/338 [==============================] - 1s 4ms/step - loss: 7731499.5000\n",
            "Epoch 11/30\n",
            "338/338 [==============================] - 1s 4ms/step - loss: 7713536.0000\n",
            "Epoch 12/30\n",
            "338/338 [==============================] - 1s 4ms/step - loss: 7696810.0000\n",
            "Epoch 13/30\n",
            "338/338 [==============================] - 1s 4ms/step - loss: 7680772.5000\n",
            "Epoch 14/30\n",
            "338/338 [==============================] - 1s 4ms/step - loss: 7664984.5000\n",
            "Epoch 15/30\n",
            "338/338 [==============================] - 1s 4ms/step - loss: 7648064.5000\n",
            "Epoch 16/30\n",
            "338/338 [==============================] - 1s 4ms/step - loss: 7626875.5000\n",
            "Epoch 17/30\n",
            "338/338 [==============================] - 2s 5ms/step - loss: 7606127.0000\n",
            "Epoch 18/30\n",
            "338/338 [==============================] - 2s 5ms/step - loss: 7587168.0000\n",
            "Epoch 19/30\n",
            "338/338 [==============================] - 1s 4ms/step - loss: 7568745.5000\n",
            "Epoch 20/30\n",
            "338/338 [==============================] - 1s 4ms/step - loss: 7550639.5000\n",
            "Epoch 21/30\n",
            "338/338 [==============================] - 1s 4ms/step - loss: 7532750.5000\n",
            "Epoch 22/30\n",
            "338/338 [==============================] - 1s 4ms/step - loss: 7514976.0000\n",
            "Epoch 23/30\n",
            "338/338 [==============================] - 1s 4ms/step - loss: 7497328.5000\n",
            "Epoch 24/30\n",
            "338/338 [==============================] - 1s 4ms/step - loss: 7476388.5000\n",
            "Epoch 25/30\n",
            "338/338 [==============================] - 1s 4ms/step - loss: 7456324.5000\n",
            "Epoch 26/30\n",
            "338/338 [==============================] - 2s 5ms/step - loss: 7437106.5000\n",
            "Epoch 27/30\n",
            "338/338 [==============================] - 2s 5ms/step - loss: 7418199.5000\n",
            "Epoch 28/30\n",
            "338/338 [==============================] - 1s 4ms/step - loss: 7399504.0000\n",
            "Epoch 29/30\n",
            "338/338 [==============================] - 1s 4ms/step - loss: 7380911.5000\n",
            "Epoch 30/30\n",
            "338/338 [==============================] - 1s 4ms/step - loss: 7362399.0000\n"
          ]
        },
        {
          "output_type": "execute_result",
          "data": {
            "text/plain": [
              "<keras.callbacks.History at 0x7fe0f297dd60>"
            ]
          },
          "metadata": {},
          "execution_count": 104
        }
      ]
    },
    {
      "cell_type": "code",
      "source": [
        "model6.evaluate(x_test, y_test)"
      ],
      "metadata": {
        "colab": {
          "base_uri": "https://localhost:8080/"
        },
        "id": "v27GHEsafGIk",
        "outputId": "6e2fba4c-00a9-4644-8f42-e49e13add77b"
      },
      "execution_count": 105,
      "outputs": [
        {
          "output_type": "stream",
          "name": "stdout",
          "text": [
            "338/338 [==============================] - 1s 2ms/step - loss: 7177315.5000\n"
          ]
        },
        {
          "output_type": "execute_result",
          "data": {
            "text/plain": [
              "7177315.5"
            ]
          },
          "metadata": {},
          "execution_count": 105
        }
      ]
    },
    {
      "cell_type": "markdown",
      "source": [
        "# **Results:**\n",
        "As seen above, we can see that the model **Gradient Descent- ANN-Model4 with loss function as binary cross entropy** gave the least value of mean squared error parameter. The value is **30076.93**"
      ],
      "metadata": {
        "id": "2ztdG0Rcf-BL"
      }
    }
  ]
}