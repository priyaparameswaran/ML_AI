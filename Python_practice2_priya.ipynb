{
  "nbformat": 4,
  "nbformat_minor": 0,
  "metadata": {
    "colab": {
      "provenance": []
    },
    "kernelspec": {
      "name": "python3",
      "display_name": "Python 3"
    },
    "language_info": {
      "name": "python"
    }
  },
  "cells": [
    {
      "cell_type": "code",
      "execution_count": 3,
      "metadata": {
        "colab": {
          "base_uri": "https://localhost:8080/"
        },
        "id": "Or6U6GXC2951",
        "outputId": "78848aa9-1dcb-4a49-ba1a-29fd553afe7a"
      },
      "outputs": [
        {
          "output_type": "stream",
          "name": "stdout",
          "text": [
            "Enter first number: 2\n",
            "Enter second number: 3\n",
            "Enter third number: 3\n",
            "The largest number is 3.0\n"
          ]
        }
      ],
      "source": [
        "# 1. Write a python program to find the largest of 3 numbers\n",
        "n1 = float(input(\"Enter first number: \"))\n",
        "n2 = float(input(\"Enter second number: \"))\n",
        "n3 = float(input(\"Enter third number: \"))\n",
        "\n",
        "if (n1 >= n2) and (n1 >= n3):\n",
        "   largest = n1\n",
        "elif (n2 >= n1) and (n2 >= n3):\n",
        "   largest = n2\n",
        "else:\n",
        "   largest = n3\n",
        "print(\"The largest number is\", largest)"
      ]
    },
    {
      "cell_type": "code",
      "source": [
        "# 2.Write a python program to find the numbers divisible by 3 and 7 from 100 to 800\n",
        "for i in range (100,801):\n",
        "  if((i%3==0) & (i%7==0)):\n",
        "    print (i)\n"
      ],
      "metadata": {
        "colab": {
          "base_uri": "https://localhost:8080/"
        },
        "id": "ko8iOpW934u8",
        "outputId": "f1d88229-9ba5-4a27-b7b6-bc4688f7134e"
      },
      "execution_count": 7,
      "outputs": [
        {
          "output_type": "stream",
          "name": "stdout",
          "text": [
            "105\n",
            "126\n",
            "147\n",
            "168\n",
            "189\n",
            "210\n",
            "231\n",
            "252\n",
            "273\n",
            "294\n",
            "315\n",
            "336\n",
            "357\n",
            "378\n",
            "399\n",
            "420\n",
            "441\n",
            "462\n",
            "483\n",
            "504\n",
            "525\n",
            "546\n",
            "567\n",
            "588\n",
            "609\n",
            "630\n",
            "651\n",
            "672\n",
            "693\n",
            "714\n",
            "735\n",
            "756\n",
            "777\n",
            "798\n"
          ]
        }
      ]
    },
    {
      "cell_type": "code",
      "source": [
        "# 3. Write a python program to find the count of numbers divisible by 8 from 1 to 1000\n",
        "j = 0\n",
        "for i in range(1,1001):\n",
        "   if i % 8 == 0:\n",
        "      j+=1\n",
        "print (j)\n",
        "   \n"
      ],
      "metadata": {
        "colab": {
          "base_uri": "https://localhost:8080/"
        },
        "id": "2iX7Y66R45GL",
        "outputId": "fea22e46-25b9-4365-ca9c-c9783dc514b8"
      },
      "execution_count": 42,
      "outputs": [
        {
          "output_type": "stream",
          "name": "stdout",
          "text": [
            "125\n"
          ]
        }
      ]
    },
    {
      "cell_type": "code",
      "source": [
        "# 4. Write a Python program to construct the following pattern, using a nested for loop.\n",
        "rows = int(input(\"Enter no of Rows = \"))\n",
        "\n",
        "for i in range(0, rows):\n",
        "    for j in range(0, i + 1):\n",
        "        print('*', end = ' ')\n",
        "    print()\n",
        "\n",
        "for i in range(rows - 1, -1, -1):\n",
        "    for j in range(0, i):\n",
        "        print('*', end = ' ')\n",
        "    print()"
      ],
      "metadata": {
        "colab": {
          "base_uri": "https://localhost:8080/"
        },
        "id": "4NCKZ9Xt6gF6",
        "outputId": "6ca3e80b-144e-441a-a6a0-04eb768c19d1"
      },
      "execution_count": 11,
      "outputs": [
        {
          "output_type": "stream",
          "name": "stdout",
          "text": [
            "Enter no of Rows = 8\n",
            "* \n",
            "* * \n",
            "* * * \n",
            "* * * * \n",
            "* * * * * \n",
            "* * * * * * \n",
            "* * * * * * * \n",
            "* * * * * * * * \n",
            "* * * * * * * \n",
            "* * * * * * \n",
            "* * * * * \n",
            "* * * * \n",
            "* * * \n",
            "* * \n",
            "* \n",
            "\n"
          ]
        }
      ]
    },
    {
      "cell_type": "code",
      "source": [
        "# 5. Write a Python program to reverse a list using a for loop.\n",
        "# Sample input: 10,40,30,70\n",
        "# Sample output: 70,30,40,10\n",
        "\n",
        "list1 = [10,40,30,70]\n",
        " \n",
        "rev_list1 = []\n",
        " \n",
        "for i in range(len(list1)) :\n",
        "    rev_list1.append(list1[len(list1) - i - 1])\n",
        " \n",
        "#print lists\n",
        "print('Original List :', list1)\n",
        "print('Reversed List :', rev_list1)\n"
      ],
      "metadata": {
        "colab": {
          "base_uri": "https://localhost:8080/"
        },
        "id": "d8P2f-PX7ifM",
        "outputId": "9a82e081-2552-4dc7-adba-82dd128e9a3a"
      },
      "execution_count": 16,
      "outputs": [
        {
          "output_type": "stream",
          "name": "stdout",
          "text": [
            "Original List : [10, 40, 30, 70]\n",
            "Reversed List : [70, 30, 40, 10]\n"
          ]
        }
      ]
    },
    {
      "cell_type": "code",
      "source": [
        "# 6. Write a python program to print the multiplication table of 1-10\n",
        "for i in range(1,11):\n",
        "    print(\"\\n\\nThe Multiplication Table of %d\\n\" %(i))\n",
        "    for j in range(1,11):\n",
        "        print(\"%-5d X %5d = %5d\" % (i, j, i*j))"
      ],
      "metadata": {
        "colab": {
          "base_uri": "https://localhost:8080/"
        },
        "id": "y5XsK68f9HX5",
        "outputId": "19ca9b6c-9cdf-406a-dade-e7338b5c54ea"
      },
      "execution_count": 1,
      "outputs": [
        {
          "output_type": "stream",
          "name": "stdout",
          "text": [
            "\n",
            "\n",
            "The Multiplication Table of 1\n",
            "\n",
            "1     X     1 =     1\n",
            "1     X     2 =     2\n",
            "1     X     3 =     3\n",
            "1     X     4 =     4\n",
            "1     X     5 =     5\n",
            "1     X     6 =     6\n",
            "1     X     7 =     7\n",
            "1     X     8 =     8\n",
            "1     X     9 =     9\n",
            "1     X    10 =    10\n",
            "\n",
            "\n",
            "The Multiplication Table of 2\n",
            "\n",
            "2     X     1 =     2\n",
            "2     X     2 =     4\n",
            "2     X     3 =     6\n",
            "2     X     4 =     8\n",
            "2     X     5 =    10\n",
            "2     X     6 =    12\n",
            "2     X     7 =    14\n",
            "2     X     8 =    16\n",
            "2     X     9 =    18\n",
            "2     X    10 =    20\n",
            "\n",
            "\n",
            "The Multiplication Table of 3\n",
            "\n",
            "3     X     1 =     3\n",
            "3     X     2 =     6\n",
            "3     X     3 =     9\n",
            "3     X     4 =    12\n",
            "3     X     5 =    15\n",
            "3     X     6 =    18\n",
            "3     X     7 =    21\n",
            "3     X     8 =    24\n",
            "3     X     9 =    27\n",
            "3     X    10 =    30\n",
            "\n",
            "\n",
            "The Multiplication Table of 4\n",
            "\n",
            "4     X     1 =     4\n",
            "4     X     2 =     8\n",
            "4     X     3 =    12\n",
            "4     X     4 =    16\n",
            "4     X     5 =    20\n",
            "4     X     6 =    24\n",
            "4     X     7 =    28\n",
            "4     X     8 =    32\n",
            "4     X     9 =    36\n",
            "4     X    10 =    40\n",
            "\n",
            "\n",
            "The Multiplication Table of 5\n",
            "\n",
            "5     X     1 =     5\n",
            "5     X     2 =    10\n",
            "5     X     3 =    15\n",
            "5     X     4 =    20\n",
            "5     X     5 =    25\n",
            "5     X     6 =    30\n",
            "5     X     7 =    35\n",
            "5     X     8 =    40\n",
            "5     X     9 =    45\n",
            "5     X    10 =    50\n",
            "\n",
            "\n",
            "The Multiplication Table of 6\n",
            "\n",
            "6     X     1 =     6\n",
            "6     X     2 =    12\n",
            "6     X     3 =    18\n",
            "6     X     4 =    24\n",
            "6     X     5 =    30\n",
            "6     X     6 =    36\n",
            "6     X     7 =    42\n",
            "6     X     8 =    48\n",
            "6     X     9 =    54\n",
            "6     X    10 =    60\n",
            "\n",
            "\n",
            "The Multiplication Table of 7\n",
            "\n",
            "7     X     1 =     7\n",
            "7     X     2 =    14\n",
            "7     X     3 =    21\n",
            "7     X     4 =    28\n",
            "7     X     5 =    35\n",
            "7     X     6 =    42\n",
            "7     X     7 =    49\n",
            "7     X     8 =    56\n",
            "7     X     9 =    63\n",
            "7     X    10 =    70\n",
            "\n",
            "\n",
            "The Multiplication Table of 8\n",
            "\n",
            "8     X     1 =     8\n",
            "8     X     2 =    16\n",
            "8     X     3 =    24\n",
            "8     X     4 =    32\n",
            "8     X     5 =    40\n",
            "8     X     6 =    48\n",
            "8     X     7 =    56\n",
            "8     X     8 =    64\n",
            "8     X     9 =    72\n",
            "8     X    10 =    80\n",
            "\n",
            "\n",
            "The Multiplication Table of 9\n",
            "\n",
            "9     X     1 =     9\n",
            "9     X     2 =    18\n",
            "9     X     3 =    27\n",
            "9     X     4 =    36\n",
            "9     X     5 =    45\n",
            "9     X     6 =    54\n",
            "9     X     7 =    63\n",
            "9     X     8 =    72\n",
            "9     X     9 =    81\n",
            "9     X    10 =    90\n",
            "\n",
            "\n",
            "The Multiplication Table of 10\n",
            "\n",
            "10    X     1 =    10\n",
            "10    X     2 =    20\n",
            "10    X     3 =    30\n",
            "10    X     4 =    40\n",
            "10    X     5 =    50\n",
            "10    X     6 =    60\n",
            "10    X     7 =    70\n",
            "10    X     8 =    80\n",
            "10    X     9 =    90\n",
            "10    X    10 =   100\n"
          ]
        }
      ]
    },
    {
      "cell_type": "code",
      "source": [
        "# 7. Write a python program to find the sum of integers less than 25 using while loop\n",
        "\n",
        "sum = 0\n",
        "for i in range(1,25):\n",
        "  sum = sum + i\n",
        "  i = i + 1\n",
        "print(\"Sum is \", sum)"
      ],
      "metadata": {
        "colab": {
          "base_uri": "https://localhost:8080/"
        },
        "id": "i21b2U7X9kFF",
        "outputId": "43189242-aca1-46e9-cfa2-f4b34016fcf1"
      },
      "execution_count": 19,
      "outputs": [
        {
          "output_type": "stream",
          "name": "stdout",
          "text": [
            "Sum is  300\n"
          ]
        }
      ]
    },
    {
      "cell_type": "code",
      "source": [
        "# 8. Write a python program to print the even numbers in a list of numbers\n",
        "s = input(\"Enter a list element separated by space \")\n",
        "s = s.split()\n",
        "s = [int(x) for x in s]\n",
        " \n",
        "for num in s:\n",
        "     if num % 2 == 0:\n",
        "        print(num, end=\" \")"
      ],
      "metadata": {
        "colab": {
          "base_uri": "https://localhost:8080/"
        },
        "id": "09KkFl_b-hga",
        "outputId": "855780fe-4329-4391-f42d-1f6c64943d15"
      },
      "execution_count": 10,
      "outputs": [
        {
          "output_type": "stream",
          "name": "stdout",
          "text": [
            "Enter a list element separated by space 23 34 50 35 47 43 42\n",
            "34 50 42 "
          ]
        }
      ]
    },
    {
      "cell_type": "code",
      "source": [
        "# 9. write a python program to find the sum of elements in a number list\n",
        "s = input(\"Enter a list element separated by space \")\n",
        "total = 0\n",
        "s = s.split()\n",
        "s = [int(x) for x in s]\n",
        "for x in range(0, len(s)):\n",
        "    total = total + s[x]\n",
        " \n",
        "print(\"Sum of all elements in given list: \", total)"
      ],
      "metadata": {
        "colab": {
          "base_uri": "https://localhost:8080/"
        },
        "id": "t15rEYCfDOht",
        "outputId": "f2ff117e-1f25-43cb-894a-89c59f035089"
      },
      "execution_count": 13,
      "outputs": [
        {
          "output_type": "stream",
          "name": "stdout",
          "text": [
            "Enter a list element separated by space 1 2 3 4\n",
            "Sum of all elements in given list:  10\n"
          ]
        }
      ]
    },
    {
      "cell_type": "code",
      "source": [
        "# 10. Write a Python program to check whether a number is prime or not.\n",
        "num = int(input('Enter the number :'))\n",
        "if num > 1:\n",
        "    for i in range(2, int(num/2)+1):\n",
        "        \n",
        "        if (num % i) == 0:\n",
        "            print(num, \"is not a prime number\")\n",
        "            break\n",
        "    else:\n",
        "        print(num, \"is a prime number\")\n",
        "else:\n",
        "    print(num, \"is not a prime number\")"
      ],
      "metadata": {
        "colab": {
          "base_uri": "https://localhost:8080/"
        },
        "id": "Ez0X6cYjFNNM",
        "outputId": "c6f07f50-3157-4b01-e751-2893e5c0449d"
      },
      "execution_count": 24,
      "outputs": [
        {
          "output_type": "stream",
          "name": "stdout",
          "text": [
            "Enter the number :33\n",
            "33 is not a prime number\n"
          ]
        }
      ]
    }
  ]
}